{
 "cells": [
  {
   "cell_type": "markdown",
   "metadata": {},
   "source": [
    "# 6 - Attention is All You Need\n",
    "\n",
    "In this notebook we will be implementing a (slightly modified version) of the Transformer model from the [Attention is All You Need](https://arxiv.org/abs/1706.03762) paper. All images in this notebook will be taken from the Transformer paper. For more information about the Transformer, [see](https://www.mihaileric.com/posts/transformers-attention-in-disguise/) [these](https://jalammar.github.io/illustrated-transformer/) [three](http://nlp.seas.harvard.edu/2018/04/03/attention.html) articles.\n",
    "\n",
    "![](assets/transformer1.png)\n",
    "\n",
    "## Introduction\n",
    "\n",
    "Similar to the Convolutional Sequence-to-Sequence model, the Transformer does not use any recurrence. It also does not use any convolutional layers. Instead the model is entirely made up of linear layers, attention mechanisms and normalization. \n",
    "\n",
    "As of January 2020, Transformers are the dominant architecture in NLP and are used to achieve state-of-the-art results for many tasks and it appears as if they will be for the near future. \n",
    "\n",
    "The most popular Transformer variant is [BERT](https://arxiv.org/abs/1810.04805) (**B**idirectional **E**ncoder **R**epresentations from **T**ransformers) and pre-trained versions of BERT are commonly used to replace the embedding layers - if not more - in NLP models. \n",
    "\n",
    "A common library used when dealing with pre-trained transformers is the [Transformers](https://huggingface.co/transformers/) library, see [here](https://huggingface.co/transformers/pretrained_models.html) for a list of all pre-trained models available.\n",
    "\n",
    "The differences between the implementation in this notebook and the paper are:\n",
    "- we use a learned positional encoding instead of a static one\n",
    "- we use the standard Adam optimizer with a static learning rate instead of one with warm-up and cool-down steps\n",
    "- we do not use label smoothing\n",
    "\n",
    "We make all of these changes as they closely follow BERT's set-up and the majority of Transformer variants use a similar set-up."
   ]
  },
  {
   "cell_type": "markdown",
   "metadata": {},
   "source": [
    "## Preparing the Data\n",
    "\n",
    "As always, let's import all the required modules and set the random seeds for reproducability."
   ]
  },
  {
   "cell_type": "code",
   "execution_count": 2,
   "metadata": {},
   "outputs": [],
   "source": [
    "import torch\n",
    "import torch.nn as nn\n",
    "import torch.optim as optim\n",
    "\n",
    "import torchtext\n",
    "from torchtext.legacy.datasets import Multi30k\n",
    "from torchtext.legacy.data import Field, BucketIterator\n",
    "\n",
    "import matplotlib.pyplot as plt\n",
    "import matplotlib.ticker as ticker\n",
    "\n",
    "import spacy\n",
    "import numpy as np\n",
    "\n",
    "import random\n",
    "import math\n",
    "import time"
   ]
  },
  {
   "cell_type": "code",
   "execution_count": 3,
   "metadata": {},
   "outputs": [],
   "source": [
    "SEED = 1234\n",
    "\n",
    "random.seed(SEED)\n",
    "np.random.seed(SEED)\n",
    "torch.manual_seed(SEED)\n",
    "torch.cuda.manual_seed(SEED)\n",
    "torch.backends.cudnn.deterministic = True"
   ]
  },
  {
   "cell_type": "markdown",
   "metadata": {},
   "source": [
    "We'll then create our tokenizers as before."
   ]
  },
  {
   "cell_type": "code",
   "execution_count": 4,
   "metadata": {},
   "outputs": [],
   "source": [
    "spacy_de = spacy.load('de_core_news_sm')\n",
    "spacy_en = spacy.load('en_core_web_sm')"
   ]
  },
  {
   "cell_type": "code",
   "execution_count": 5,
   "metadata": {},
   "outputs": [],
   "source": [
    "def tokenize_de(text):\n",
    "    \"\"\"\n",
    "    Tokenizes German text from a string into a list of strings\n",
    "    \"\"\"\n",
    "    return [tok.text for tok in spacy_de.tokenizer(text)]\n",
    "\n",
    "def tokenize_en(text):\n",
    "    \"\"\"\n",
    "    Tokenizes English text from a string into a list of strings\n",
    "    \"\"\"\n",
    "    return [tok.text for tok in spacy_en.tokenizer(text)]"
   ]
  },
  {
   "cell_type": "markdown",
   "metadata": {},
   "source": [
    "Our fields are the same as the previous notebook. The model expects data to be fed in with the batch dimension first, so we use `batch_first = True`. "
   ]
  },
  {
   "cell_type": "code",
   "execution_count": 6,
   "metadata": {},
   "outputs": [],
   "source": [
    "SRC = Field(tokenize = tokenize_de, \n",
    "            init_token = '<sos>', \n",
    "            eos_token = '<eos>', \n",
    "            lower = True, \n",
    "            batch_first = True)\n",
    "\n",
    "TRG = Field(tokenize = tokenize_en, \n",
    "            init_token = '<sos>', \n",
    "            eos_token = '<eos>', \n",
    "            lower = True, \n",
    "            batch_first = True)"
   ]
  },
  {
   "cell_type": "markdown",
   "metadata": {},
   "source": [
    "We then load the Multi30k dataset and build the vocabulary."
   ]
  },
  {
   "cell_type": "code",
   "execution_count": 7,
   "metadata": {},
   "outputs": [],
   "source": [
    "train_data, valid_data, test_data = Multi30k.splits(exts = ('.de', '.en'), \n",
    "                                                    fields = (SRC, TRG))"
   ]
  },
  {
   "cell_type": "code",
   "execution_count": 8,
   "metadata": {},
   "outputs": [],
   "source": [
    "SRC.build_vocab(train_data, min_freq = 2)\n",
    "TRG.build_vocab(train_data, min_freq = 2)"
   ]
  },
  {
   "cell_type": "code",
   "execution_count": 9,
   "metadata": {},
   "outputs": [
    {
     "name": "stdout",
     "output_type": "stream",
     "text": [
      "defaultdict(<bound method Vocab._default_unk_index of <torchtext.vocab.Vocab object at 0x7f83a3d26350>>, {'<unk>': 0, '<pad>': 1, '<sos>': 2, '<eos>': 3, '.': 4, 'ein': 5, 'einem': 6, 'in': 7, 'eine': 8, ',': 9, 'und': 10, 'mit': 11, 'auf': 12, 'mann': 13, 'einer': 14, 'der': 15, 'frau': 16, 'die': 17, 'zwei': 18, 'einen': 19, 'im': 20, 'an': 21, 'von': 22, 'sich': 23, 'dem': 24, 'mädchen': 25, 'junge': 26, 'vor': 27, 'zu': 28, 'steht': 29, 'männer': 30, 'sitzt': 31, 'hund': 32, 'den': 33, 'straße': 34, 'während': 35, 'gruppe': 36, 'hält': 37, 'spielt': 38, 'das': 39, 'hemd': 40, 'personen': 41, 'über': 42, 'drei': 43, 'eines': 44, 'frauen': 45, 'blauen': 46, 'neben': 47, 'ist': 48, 'kind': 49, 'roten': 50, 'weißen': 51, 'stehen': 52, 'sitzen': 53, 'menschen': 54, 'am': 55, 'aus': 56, 'spielen': 57, 'durch': 58, 'bei': 59, 'geht': 60, 'trägt': 61, 'fährt': 62, 'wasser': 63, 'um': 64, 'kinder': 65, 'kleines': 66, 'person': 67, 'macht': 68, 'springt': 69, 'kleiner': 70, 'schwarzen': 71, 'entlang': 72, 'leute': 73, 'gehen': 74, 'etwas': 75, 'mehrere': 76, 'seinem': 77, 'großen': 78, 'oberteil': 79, 'jungen': 80, 'hand': 81, 'grünen': 82, 'läuft': 83, 'sind': 84, 'für': 85, 'hintergrund': 86, 'fahrrad': 87, 'freien': 88, 'jacke': 89, 'luft': 90, 'strand': 91, 'ball': 92, 'hat': 93, 'anderen': 94, 'schaut': 95, 'junger': 96, 'kleidung': 97, 'hinter': 98, 'sie': 99, 'nach': 100, 'andere': 101, 'gelben': 102, 'kleine': 103, 'gebäude': 104, 'vier': 105, 'hut': 106, 'tisch': 107, 'wird': 108, 'beim': 109, 'nähe': 110, 'essen': 111, 'kleinen': 112, 'menschenmenge': 113, 'schwarzer': 114, 'kamera': 115, 'paar': 116, 'vorbei': 117, 'gras': 118, 'hoch': 119, 't-shirt': 120, 'hunde': 121, 'boden': 122, 'schnee': 123, 'rennt': 124, 'ihre': 125, 'unter': 126, 'ihren': 127, 'kleid': 128, 'gitarre': 129, 'älterer': 130, 'draußen': 131, 'sein': 132, 'zusammen': 133, 'ihr': 134, 'feld': 135, 'bühne': 136, 'fahren': 137, 'brille': 138, 'seine': 139, 'herum': 140, 'rennen': 141, 'gehweg': 142, 'kopf': 143, 'sehen': 144, 'er': 145, 'blickt': 146, 'dabei': 147, 'foto': 148, 'seinen': 149, 'weißer': 150, 'des': 151, 'stadt': 152, 'braunen': 153, 'hinunter': 154, 'park': 155, 'liegt': 156, 'laufen': 157, 'versucht': 158, 'arbeitet': 159, 'jeans': 160, 'als': 161, 'bank': 162, 'tragen': 163, 'baby': 164, 'dame': 165, 'wie': 166, 'machen': 167, 'große': 168, 'lächelt': 169, 'schauen': 170, 'brauner': 171, 'ihrem': 172, 'schwarz': 173, 'ältere': 174, 'orangefarbenen': 175, 'ihm': 176, 'junges': 177, 'bürgersteig': 178, 'arbeiten': 179, 'hose': 180, 'zeigt': 181, 'sieht': 182, 'spricht': 183, 'liest': 184, 'unterhalten': 185, 'skateboard': 186, 'halten': 187, 'haaren': 188, 'wand': 189, 'weg': 190, 'viele': 191, 'sonnenbrille': 192, 'zum': 193, 'boot': 194, 'pferd': 195, 'gekleidete': 196, 'seiner': 197, 'hosen': 198, 'rosa': 199, 'tag': 200, 'helm': 201, 'weißem': 202, 'grauen': 203, 'singt': 204, 'ihnen': 205, 'blauem': 206, 'gesicht': 207, '„': 208, 'bild': 209, 'mantel': 210, 'auto': 211, 'posiert': 212, 'darauf': 213, 'felsen': 214, 'fußball': 215, 'fünf': 216, 'klettert': 217, 'führt': 218, 'shorts': 219, 'befindet': 220, 'einige': 221, 'sand': 222, 'mikrofon': 223, 'baum': 224, 'blauer': 225, 'schwarzem': 226, 'sehr': 227, 'wirft': 228, 'gekleideter': 229, 'band': 230, 'es': 231, 'weiß': 232, '“': 233, 'blau': 234, 'meer': 235, 'oder': 236, 'rotem': 237, 'isst': 238, 'restaurant': 239, 'wald': 240, 'arbeiter': 241, 'männern': 242, 'schwarze': 243, 'anderer': 244, 'kindern': 245, 'raum': 246, 'wiese': 247, 'fenster': 248, 'langen': 249, 'pullover': 250, 'roter': 251, 'wartet': 252, 'weiße': 253, 'ins': 254, 'anzug': 255, 'bluse': 256, 'gestreiften': 257, 'posieren': 258, 'motorrad': 259, 'haar': 260, 'springen': 261, 'tanzen': 262, 'trikot': 263, 'werden': 264, 'oberkörper': 265, 'voller': 266, 'bereitet': 267, 'stuhl': 268, 'spieler': 269, 'betrachtet': 270, 'rot': 271, 'alter': 272, 'hügel': 273, 'blonde': 274, 'schild': 275, 'zwischen': 276, 'handy': 277, 'oben': 278, 'warten': 279, 'leuten': 280, 'schläft': 281, 'berg': 282, 'zieht': 283, 'ab': 284, 'mütze': 285, 'buch': 286, 'lehnt': 287, 'reitet': 288, 'händen': 289, 'beobachtet': 290, 'maul': 291, 'miteinander': 292, 'stock': 293, 'bäumen': 294, 'fluss': 295, 'ihrer': 296, 'tanzt': 297, 'bauarbeiter': 298, 'kleinkind': 299, 'rucksack': 300, 'arm': 301, 'lächeln': 302, 'schiebt': 303, 'vom': 304, 'befinden': 305, 'gegen': 306, 'haben': 307, 'radfahrer': 308, 'küche': 309, 'see': 310, 'seite': 311, 'spielzeug': 312, 'kurzen': 313, 'schwimmbecken': 314, 'asiatische': 315, 'welle': 316, 'rücken': 317, 'spiel': 318, 'treppe': 319, 'zaun': 320, 'verkauft': 321, 'zur': 322, 'familie': 323, 'fangen': 324, 'jemand': 325, 'mitten': 326, 'trinkt': 327, 'versammelt': 328, 'großer': 329, 'erwachsene': 330, 'rosafarbenen': 331, 'blumen': 332, 'hängt': 333, 'ihn': 334, 'schneidet': 335, 'geschäft': 336, 'gerade': 337, 'markt': 338, 'telefoniert': 339, 'belebten': 340, 'bunten': 341, 'malt': 342, 'spazieren': 343, 'umgeben': 344, 'nimmt': 345, 'reihe': 346, 'blicken': 347, 'gewässer': 348, 'rote': 349, 'schwimmt': 350, 'zug': 351, 'autos': 352, 'bus': 353, 'denen': 354, 'freiem': 355, 'schneebedeckten': 356, 'vielen': 357, 'gekleidet': 358, 'schlägt': 359, 'brücke': 360, 'fuß': 361, 'gebäudes': 362, 'hände': 363, 'mutter': 364, 'sonnigen': 365, 'wagen': 366, 'fliegt': 367, 'himmel': 368, 'publikum': 369, 'bart': 370, 'fußballspieler': 371, 'hebt': 372, 'kämpfen': 373, 'richtung': 374, 'tasche': 375, 'dunklen': 376, 'hemden': 377, 'herunter': 378, 'geländer': 379, 'grünem': 380, 'weste': 381, 'hohen': 382, 'platz': 383, 'asiatischer': 384, 'blondes': 385, 'graffiti': 386, 'haus': 387, 'weißes': 388, 'zuschauer': 389, 'alte': 390, 'kopfbedeckung': 391, 'seil': 392, 'zeitung': 393, 'überqueren': 394, 'mannes': 395, 'hinauf': 396, 'sprung': 397, 'teil': 398, 'zuschauen': 399, 'bereiten': 400, 'musik': 401, 'tritt': 402, 'davon': 403, 'genießt': 404, 'orangen': 405, 'basketball': 406, 'blaue': 407, 'decke': 408, 'hof': 409, 'karierten': 410, 'lacht': 411, 'mittleren': 412, 'sechs': 413, 'shirt': 414, 'benutzt': 415, 'da': 416, 'schirm': 417, 'zuschauern': 418, 'alten': 419, 'fest': 420, 'kunststück': 421, 'mauer': 422, 'menge': 423, 'papier': 424, 'stück': 425, 'einigen': 426, 'großes': 427, 'unterhält': 428, 'alters': 429, 'blick': 430, 'mensch': 431, 'rasen': 432, 'spielplatz': 433, 'zusieht': 434, 'baseballspieler': 435, 'mitte': 436, 'nahe': 437, 'nebeneinander': 438, 'schaukel': 439, 'sofa': 440, 'zuschaut': 441, 'armen': 442, 'lässt': 443, 'nachts': 444, 'trinken': 445, '–': 446, 'bereit': 447, 'fotos': 448, 'lila': 449, 'pool': 450, 'rock': 451, 'typ': 452, 'zusehen': 453, 'augen': 454, 'dach': 455, 'gegenstand': 456, 'gelber': 457, 'hinten': 458, 'versuchen': 459, 'zigarette': 460, 'bier': 461, 'gibt': 462, 'mehreren': 463, 'scheint': 464, 'sonne': 465, 'beobachten': 466, 'mund': 467, 'surfer': 468, 'treten': 469, 'beide': 470, 'flagge': 471, 'fängt': 472, 'kniet': 473, 'nummer': 474, 'outfit': 475, 'raucht': 476, 'schal': 477, 'uniform': 478, 'öffentlichen': 479, 'betrachten': 480, 'ferne': 481, 'nicht': 482, 'schürze': 483, 'stange': 484, 'stufen': 485, 'trikots': 486, 'verschneiten': 487, 'führen': 488, 'liegen': 489, 'wanderer': 490, 'blonden': 491, 'diese': 492, 'erwachsener': 493, 'frisbee': 494, 'gehsteig': 495, 'rotes': 496, 'außerhalb': 497, 'einander': 498, 'holz': 499, 'lachen': 500, 'rampe': 501, 'snowboarder': 502, 'teenager': 503, 'tennisball': 504, 'unten': 505, 'gemüse': 506, 'u-bahn': 507, 'bett': 508, 'greift': 509, 'männliche': 510, 'reden': 511, 'rutscht': 512, 'veranstaltung': 513, 'aufschrift': 514, 'braune': 515, 'bärtiger': 516, 'fotografiert': 517, 'grün': 518, 'hilft': 519, 'kleidern': 520, 'nacht': 521, 'schwarz-weißer': 522, 'beiden': 523, 'hüten': 524, 'sonnenuntergang': 525, 'surft': 526, 'werfen': 527, 'dass': 528, 'gelbe': 529, 'gelbem': 530, 'grüner': 531, 'haare': 532, 'herr': 533, 'kostümen': 534, 'leiter': 535, 'man': 536, 'musiker': 537, 'skifahrer': 538, 'überquert': 539, 'art': 540, 'damen': 541, 'legt': 542, 'nacktem': 543, 'polizisten': 544, 'statue': 545, 'städtischen': 546, 'ufer': 547, 'versammeln': 548, 'zelt': 549, 'basketballspieler': 550, 'blonder': 551, 'erwachsenen': 552, 'maschine': 553, 'nehmen': 554, 'orange': 555, 'tür': 556, 'bar': 557, 'blaues': 558, 'kommt': 559, 'leine': 560, 'mannschaft': 561, 'rutsche': 562, 'tor': 563, 'brunnen': 564, 'genießen': 565, 'guckt': 566, 'pfad': 567, 'polizist': 568, 'schreibt': 569, 'stellt': 570, 'sweatshirt': 571, 'vater': 572, 'westen': 573, 'asiatischen': 574, 'eimer': 575, 'fisch': 576, 'gelb': 577, 'leeren': 578, 'lesen': 579, 'läufer': 580, 'stühlen': 581, 'braut': 582, 'ende': 583, 'feuer': 584, 'gekleideten': 585, 'gestreiftem': 586, 'getränk': 587, 'grill': 588, 'her': 589, 'inmitten': 590, 'kaufen': 591, 'klettern': 592, 'obst': 593, 'ohne': 594, 'regen': 595, 'schlagzeug': 596, 'sprechen': 597, 'streckt': 598, 'umgebung': 599, 'verschiedene': 600, 'wobei': 601, 'badeanzug': 602, 'eis': 603, 'fahrzeug': 604, 'riesigen': 605, 'schuhen': 606, 'schutzhelm': 607, 'schwingt': 608, 'wellen': 609, 'anderes': 610, 'arme': 611, 'gegend': 612, 'gelbes': 613, 'gemeinsam': 614, 'grauem': 615, 'handschuhen': 616, 'instrument': 617, 'motorradfahrer': 618, 'parade': 619, 'parkplatz': 620, 'regenschirm': 621, 'schlagen': 622, 'singen': 623, 'sohn': 624, 'soldaten': 625, 'trick': 626, 'uniformen': 627, 'älteren': 628, 'bergen': 629, 'gebäuden': 630, 'hört': 631, 'jugendlicher': 632, 'kinderwagen': 633, 'korb': 634, 'offenen': 635, 'schwarzes': 636, 'starrt': 637, 'straßenecke': 638, 'straßenrand': 639, '\\xa0': 640, 'arbeit': 641, 'baustelle': 642, 'bereich': 643, 'dieser': 644, 'jagt': 645, 'lächelnd': 646, 'mikrophon': 647, 'pinkfarbenen': 648, 'schoß': 649, 'straßen': 650, 'umarmt': 651, 'zurück': 652, 'computer': 653, 'dunkelhäutiger': 654, 'gleich': 655, 'grüne': 656, 'jacken': 657, 'kostüm': 658, 'krawatte': 659, 'laden': 660, 'orangefarbener': 661, 'pause': 662, 'waren': 663, ' ': 664, '\"': 665, 'kurz': 666, 'repariert': 667, 'schreibtisch': 668, 'volleyball': 669, 'vordergrund': 670, 'alle': 671, 'baseball': 672, 'ganz': 673, 'garten': 674, 'gegeneinander': 675, 'gekleidetes': 676, 'gut': 677, 'konzert': 678, 'kuchen': 679, 'kurzer': 680, 'putzt': 681, 'schatten': 682, 'vogel': 683, 'asiatisches': 684, 'balanciert': 685, 'bedeckt': 686, 'fahrradfahrer': 687, 'fahrrädern': 688, 'grünes': 689, 'jemandem': 690, 'kunden': 691, 'lächelnde': 692, 'pflanzen': 693, 'sandalen': 694, 'verkaufen': 695, 'beugt': 696, 'bikini': 697, 'erde': 698, 'fell': 699, 'gegenüber': 700, 'land': 701, 'lkw': 702, 'netz': 703, 'party': 704, 'pferden': 705, 'setzt': 706, 'stein': 707, 'stiefeln': 708, 'weibliche': 709, 'winkt': 710, 'ziehen': 711, 'dreht': 712, 'einkaufswagen': 713, 'felswand': 714, 'football': 715, 'football-spieler': 716, 'footballspieler': 717, 'fällt': 718, 'glas': 719, 'halsband': 720, 'klassenzimmer': 721, 'mobiltelefon': 722, 'orangefarbenem': 723, 'reiten': 724, 'schiedsrichter': 725, 'schulter': 726, 'schüler': 727, 'snowboard': 728, 'surfbrett': 729, 'wo': 730, 'badehose': 731, 'belebte': 732, 'dessen': 733, 'hellbrauner': 734, 'höhe': 735, 'schlitten': 736, 'schläger': 737, 'team': 738, 'unbefestigten': 739, 'aussieht': 740, 'bein': 741, 'braunem': 742, 'davor': 743, 'durchs': 744, 'kajak': 745, 'kanu': 746, 'leuchtend': 747, 'oberteilen': 748, 'rad': 749, 'redet': 750, 'schuhe': 751, 'schwimmen': 752, 'seines': 753, 'stand': 754, 'was': 755, 'zeigen': 756, 'ecke': 757, 'küssen': 758, 'küsst': 759, 'loch': 760, 'schlange': 761, 'schnauze': 762, 'spiegel': 763, 'tischen': 764, 'verschiedenen': 765, 'asiatisch': 766, 'base': 767, 'bäume': 768, 'farbenfrohen': 769, 'grasbewachsenen': 770, 'hin': 771, 'kreis': 772, 'künstler': 773, 'laptop': 774, 'lilafarbenen': 775, 'mikroskop': 776, 'männlicher': 777, 'rennstrecke': 778, 'schultern': 779, 'schönen': 780, 'seifenblasen': 781, 'skateboarder': 782, 'spaß': 783, 't-shirts': 784, 'taschen': 785, 'telefon': 786, 'tochter': 787, 'akkordeon': 788, 'flasche': 789, 'gepflasterten': 790, 'gerüst': 791, 'haufen': 792, 'kai': 793, 'kirche': 794, 'kocht': 795, 'spielfeld': 796, 'tanktop': 797, 'tasse': 798, 'zimmer': 799, 'aussehende': 800, 'bedient': 801, 'bemalt': 802, 'café': 803, 'farben': 804, 'freunde': 805, 'freunden': 806, 'gegnerischen': 807, 'hellen': 808, 'hunden': 809, 'kappe': 810, 'küste': 811, 'nur': 812, 'parkbank': 813, 'rodeo': 814, 'schaukelt': 815, 'tennis': 816, 'unterwegs': 817, 'beleuchteten': 818, 'bis': 819, 'braun-weißer': 820, 'damit': 821, 'entspannt': 822, 'fleisch': 823, 'gasse': 824, 'geige': 825, 'grauer': 826, 'helmen': 827, 'katze': 828, 'sachen': 829, 'schaufel': 830, 'schutzhelmen': 831, 'schwimmbrille': 832, 'sieben': 833, 'ski': 834, 'stadion': 835, 'steine': 836, 'teich': 837, 'trampolin': 838, 'umarmen': 839, 'violetten': 840, 'berge': 841, 'cowboy': 842, 'hang': 843, 'holt': 844, 'hüpft': 845, 'jongliert': 846, 'kopfhörer': 847, 'langem': 848, 'maske': 849, 'overall': 850, 'rand': 851, 'schlamm': 852, 'schüssel': 853, 'skiern': 854, 'so': 855, 'steigt': 856, 'strecke': 857, 'tänzer': 858, 'verwendet': 859, 'voll': 860, ';': 861, 'barfuß': 862, 'braun': 863, 'couch': 864, 'dunkler': 865, 'feldweg': 866, 'flaggen': 867, 'fotografieren': 868, 'fußballspiel': 869, 'kaffee': 870, 'kauft': 871, 'klippe': 872, 'landschaft': 873, 'lastwagen': 874, 'links': 875, 'lächelnder': 876, 'rechts': 877, 'reifen': 878, 'reparieren': 879, 'roller': 880, 'schießt': 881, 'tanz': 882, 'anzügen': 883, 'asiate': 884, 'aussehender': 885, 'bekommt': 886, 'berührt': 887, 'bläst': 888, 'cowboyhut': 889, 'dunkelhäutige': 890, 'fahnen': 891, 'grillt': 892, 'heben': 893, 'hellblauen': 894, 'hockt': 895, 'instrumenten': 896, 'kopftuch': 897, 'objekt': 898, 'ringen': 899, 'ruht': 900, 'schüttelt': 901, 'sitzende': 902, 'teller': 903, 'verfolgt': 904, 'wandert': 905, 'wüste': 906, 'beinen': 907, 'bilder': 908, 'clown': 909, 'flugzeug': 910, 'geschlossenen': 911, 'handtasche': 912, 'hängen': 913, 'instrumente': 914, 'linken': 915, 'mahlzeit': 916, 'metall': 917, 'nase': 918, 'new': 919, 'personengruppe': 920, 'reinigt': 921, 'springbrunnen': 922, 'veranda': 923, 'überfüllten': 924, 'asiaten': 925, 'asiatin': 926, 'auch': 927, 'bauen': 928, 'blatt': 929, 'diesem': 930, 'felsigen': 931, 'geländemotorrad': 932, 'gezogen': 933, 'gucken': 934, 'hauses': 935, 'heraus': 936, 'hinab': 937, 'marathon': 938, 'müll': 939, 'pinkfarbenem': 940, 'salto': 941, 'tennisspieler': 942, 'traditioneller': 943, 'öffnet': 944, 'üben': 945, 'auftritt': 946, 'balkon': 947, 'dieses': 948, 'fahrräder': 949, 'kann': 950, 'kerl': 951, 'lederjacke': 952, 'nachdem': 953, 'reiter': 954, 'rothaarige': 955, 'schneiden': 956, 'schnell': 957, 'steinen': 958, 'sänger': 959, 'taucht': 960, 'umzug': 961, 'untersucht': 962, 'winterkleidung': 963, 'wäscht': 964, 'zeit': 965, 'allein': 966, 'amerikanische': 967, 'bach': 968, 'bahn': 969, 'beieinander': 970, 'bunte': 971, 'finger': 972, 'gebiet': 973, 'geld': 974, 'gelegt': 975, 'gießt': 976, 'hellbraunen': 977, 'kickt': 978, 'kurve': 979, 'passanten': 980, 'pferde': 981, 'schießen': 982, 'schlafen': 983, 'schlauch': 984, 'sitzender': 985, 'skateboardfahrer': 986, 'teams': 987, 'teppich': 988, 'terrasse': 989, 'tuch': 990, 'vollen': 991, 'weitere': 992, 'wurde': 993, 'wurf': 994, 'zunge': 995, 'zähne': 996, 'übt': 997, 'ausrüstung': 998, 'beton': 999, 'bringt': 1000, 'bräutigam': 1001, 'brünette': 1002, 'büro': 1003, 'frisch': 1004, 'fußgänger': 1005, 'gezeigt': 1006, 'hals': 1007, 'helfen': 1008, 'kampfsport': 1009, 'koch': 1010, 'kommen': 1011, 'nassen': 1012, 'ob': 1013, 'rasiert': 1014, 'steigen': 1015, 'touristen': 1016, 'viel': 1017, 'vollführt': 1018, 'wettkampf': 1019, 'york': 1020, 'angelt': 1021, 'arbeitskleidung': 1022, 'baumstamm': 1023, 'benutzen': 1024, 'besen': 1025, 'bullen': 1026, 'darunter': 1027, 'geben': 1028, 'getränke': 1029, 'gleitet': 1030, 'grau': 1031, 'hellhäutiger': 1032, 'hinaus': 1033, 'hinterher': 1034, 'hockeyspieler': 1035, 'karren': 1036, 'kissen': 1037, 'kuh': 1038, 'können': 1039, 'lebensmittel': 1040, 'licht': 1041, 'matte': 1042, 'neoprenanzug': 1043, 'paddelt': 1044, 'schreit': 1045, 'schwimmer': 1046, 'schöne': 1047, 'sitzenden': 1048, 'skater': 1049, 'sportler': 1050, 'straßenkünstler': 1051, 'tunnel': 1052, 'wasserfall': 1053, 'acht': 1054, 'alleine': 1055, 'berges': 1056, 'bewegt': 1057, 'braunhaarige': 1058, 'chinesischen': 1059, 'entfernt': 1060, 'fast': 1061, 'feiern': 1062, 'glücklich': 1063, 'handtuch': 1064, 'jungs': 1065, 'kapuzenpulli': 1066, 'kehrt': 1067, 'kochen': 1068, 'konzentriert': 1069, 'mänteln': 1070, 'nahaufnahme': 1071, 'ort': 1072, 'rechten': 1073, 'rollstuhl': 1074, 'runden': 1075, 'stoff': 1076, 'teleskop': 1077, 'tennisschläger': 1078, 'theke': 1079, 'tier': 1080, 'turnhalle': 1081, 'umher': 1082, 'verkleidet': 1083, 'vorbeigehen': 1084, 'ärmellosen': 1085, '2': 1086, 'afrikanische': 1087, 'becher': 1088, 'befestigt': 1089, 'braunes': 1090, 'fahrer': 1091, 'farbe': 1092, 'fläche': 1093, 'folgt': 1094, 'fotograf': 1095, 'freund': 1096, 'gegenstände': 1097, 'gerät': 1098, 'geschäftigen': 1099, 'gewand': 1100, 'gräbt': 1101, 'handstand': 1102, 'indische': 1103, 'jagen': 1104, 'jemanden': 1105, 'kalten': 1106, 'keyboard': 1107, 'lassen': 1108, 'lehnen': 1109, 'lächelndes': 1110, 'offenem': 1111, 'rolltreppe': 1112, 'rot-weißen': 1113, 'sees': 1114, 'stapel': 1115, 'stark': 1116, 'trainiert': 1117, 'verkehr': 1118, 'waldgebiet': 1119, 'weihnachtsbaum': 1120, 'weit': 1121, 'wohnzimmer': 1122, 'angezogen': 1123, 'ballons': 1124, 'baseballkappe': 1125, 'baut': 1126, 'blondem': 1127, 'blätter': 1128, 'bringen': 1129, 'bushaltestelle': 1130, 'daumen': 1131, 'dunkelhaarige': 1132, 'fischen': 1133, 'füßen': 1134, 'gelehnt': 1135, 'gemälde': 1136, 'geschenk': 1137, 'geworfen': 1138, 'hocke': 1139, 'hölzernen': 1140, 'hören': 1141, 'ihres': 1142, 'jugendliche': 1143, 'kahlköpfiger': 1144, 'komplett': 1145, 'kunststücke': 1146, 'nähert': 1147, 'pfütze': 1148, 'rast': 1149, 'schaufelt': 1150, 'schlag': 1151, 'schäferhund': 1152, 'sonnenbrillen': 1153, 'spitze': 1154, 'stehenden': 1155, 'steilen': 1156, 'streichelt': 1157, 'trommel': 1158, 'trägerhemd': 1159, 'weint': 1160, 'werbung': 1161, ':': 1162, 'abend': 1163, 'ausgestreckten': 1164, 'behälter': 1165, 'brust': 1166, 'cheerleader': 1167, 'dreadlocks': 1168, 'eingang': 1169, 'eins': 1170, 'fans': 1171, 'gassi': 1172, 'geparkt': 1173, 'geschirr': 1174, 'goldenen': 1175, 'graffitis': 1176, 'hammer': 1177, 'heißen': 1178, 'hürde': 1179, 'ich': 1180, 'joggen': 1181, 'joggt': 1182, 'jüngeren': 1183, 'kisten': 1184, 'klavier': 1185, 'kletterer': 1186, 'kopfhörern': 1187, 'langhaariger': 1188, 'menschengruppe': 1189, 'motorrädern': 1190, 'pfosten': 1191, 'projekt': 1192, 'pärchen': 1193, 'restaurants': 1194, 'scheinen': 1195, 'schmutzigen': 1196, 'schnurrbart': 1197, 'schwarz-weißen': 1198, 'skatepark': 1199, 'speisen': 1200, 'spritzt': 1201, 'stadtstraße': 1202, 'steinmauer': 1203, 'teilen': 1204, 'vorn': 1205, 'wandbild': 1206, 'wunderschönen': 1207, 'wäsche': 1208, 'zeichnet': 1209, 'zuschauermenge': 1210, '(': 1211, ')': 1212, 'amerikanischen': 1213, 'anlegestelle': 1214, 'bahnsteig': 1215, 'balls': 1216, 'baseballmütze': 1217, 'beschäftigt': 1218, 'bildschirm': 1219, 'bowlingbahn': 1220, 'decken': 1221, 'dies': 1222, 'direkt': 1223, 'e-gitarre': 1224, 'einzelner': 1225, 'fischer': 1226, 'fliegen': 1227, 'flughafen': 1228, 'füße': 1229, 'gelände': 1230, 'gepäck': 1231, 'gesäumten': 1232, 'getränken': 1233, 'hell': 1234, 'hindernis': 1235, 'hula-hoop-reifen': 1236, 'kids': 1237, 'knien': 1238, 'koffer': 1239, 'kreuzung': 1240, 'laub': 1241, 'luftballons': 1242, 'mädchens': 1243, 'nickerchen': 1244, 'nähmaschine': 1245, 'rede': 1246, 'rosafarbenem': 1247, 'rudert': 1248, 'schuh': 1249, 'schutzbrille': 1250, 'seiten': 1251, 'silbernen': 1252, 'soldat': 1253, 'stellen': 1254, 'treffen': 1255, 'typen': 1256, 'vorbeifährt': 1257, 'zeichen': 1258, 'älteres': 1259, 'aber': 1260, 'afrikanischer': 1261, 'amüsieren': 1262, 'angelrute': 1263, 'anhat': 1264, 'arena': 1265, 'aufblasbaren': 1266, 'aufs': 1267, 'balken': 1268, 'bauch': 1269, 'bearbeitet': 1270, 'bedeckten': 1271, 'berühren': 1272, 'blume': 1273, 'bowlingkugel': 1274, 'brett': 1275, 'bänken': 1276, 'bücher': 1277, 'dinge': 1278, 'einkaufszentrum': 1279, 'feuerwehrmänner': 1280, 'fotografen': 1281, 'gang': 1282, 'geblümten': 1283, 'gewässers': 1284, 'graben': 1285, 'heu': 1286, 'hinterhof': 1287, 'hütte': 1288, 'kunstwerk': 1289, 'lachend': 1290, 'marschiert': 1291, 'mithilfe': 1292, 'mountainbike': 1293, 'outfits': 1294, 'pier': 1295, 'regenschirmen': 1296, 'rucksäcken': 1297, 'rädern': 1298, 'schlagzeuger': 1299, 'schule': 1300, 'schwach': 1301, 'schwarz-weiß': 1302, 'socken': 1303, 'steinigen': 1304, 'strohhut': 1305, 'studenten': 1306, 'städtische': 1307, 'trompete': 1308, 'verkauf': 1309, 'violettem': 1310, 'wettbewerb': 1311, 'wänden': 1312, 'ziel': 1313, '!': 1314, 'abendessen': 1315, 'backsteingebäude': 1316, 'beigefarbenen': 1317, 'bestehende': 1318, 'blau-weißen': 1319, 'bluejeans': 1320, 'daneben': 1321, 'dicht': 1322, 'drachen': 1323, 'dreck': 1324, 'dunkelblauen': 1325, 'fahrt': 1326, 'feier': 1327, 'flachen': 1328, 'flüssigkeit': 1329, 'füllt': 1330, 'gegenseitig': 1331, 'geländemotorradfahrer': 1332, 'gespräch': 1333, 'gewehr': 1334, 'gitarrist': 1335, 'grillen': 1336, 'gruppen': 1337, 'herd': 1338, 'hochzeit': 1339, 'jahrmarkt': 1340, 'jüngere': 1341, 'kariertem': 1342, 'kaut': 1343, 'klettergerüst': 1344, 'kopfüber': 1345, 'labor': 1346, 'mannschaften': 1347, 'moped': 1348, 'offenbar': 1349, 'picknicktisch': 1350, 'plattform': 1351, 'rennwagen': 1352, 'richtet': 1353, 'riesige': 1354, 'rollerblades': 1355, 'sandstrand': 1356, 'saxophon': 1357, 'schirmen': 1358, 'schwarz-brauner': 1359, 'schwenkt': 1360, 'schwimmbad': 1361, 'setzen': 1362, 'skulptur': 1363, 'steckt': 1364, 'stift': 1365, 'sucht': 1366, 'teig': 1367, 'wein': 1368, 'zeitschrift': 1369, 'becken': 1370, 'begutachtet': 1371, 'beißt': 1372, 'bewölkten': 1373, 'brandung': 1374, 'brot': 1375, 'bunt': 1376, 'bunter': 1377, 'dunkelhaariger': 1378, 'eltern': 1379, 'entspannen': 1380, 'fahne': 1381, 'farbenfroher': 1382, 'fegt': 1383, 'feuerwehrmann': 1384, 'findet': 1385, 'frisbeescheibe': 1386, 'fußballfeld': 1387, 'füttert': 1388, 'geldbörse': 1389, 'geschäften': 1390, 'geschäftskleidung': 1391, 'grasfläche': 1392, 'grimasse': 1393, 'herab': 1394, 'hilfe': 1395, 'jeansjacke': 1396, 'kalb': 1397, 'kerzen': 1398, 'lehrer': 1399, 'leicht': 1400, 'lied': 1401, 'malen': 1402, 'noch': 1403, 'orchester': 1404, 'paddeln': 1405, 'parkt': 1406, 'planscht': 1407, 'puck': 1408, 'reinigen': 1409, 'rennauto': 1410, 'robe': 1411, 'rollt': 1412, 'röcken': 1413, 'sanddüne': 1414, 'schlafanzug': 1415, 'schweißt': 1416, 'spielkleidung': 1417, 'sportveranstaltung': 1418, 'sportwagen': 1419, 'stier': 1420, 'straßenhändler': 1421, 'surfboard': 1422, 'sängerin': 1423, 'tafel': 1424, 'tief': 1425, 'trainieren': 1426, 'traktor': 1427, 'treppen': 1428, 'tricks': 1429, 'turnerin': 1430, 'umhang': 1431, 'untersuchen': 1432, 'verlassen': 1433, 'vorne': 1434, 'wandern': 1435, 'waschsalon': 1436, 'wasserflasche': 1437, 'will': 1438, '3': 1439, 'afroamerikaner': 1440, 'ast': 1441, 'badewanne': 1442, 'bahnhof': 1443, 'ballon': 1444, 'baumes': 1445, 'beine': 1446, 'bekommen': 1447, 'bespritzt': 1448, 'bewundert': 1449, 'blumenmuster': 1450, 'bogen': 1451, 'braun-schwarzer': 1452, 'bückt': 1453, 'büschen': 1454, 'dazu': 1455, 'diskutieren': 1456, 'eingezäunten': 1457, 'einrad': 1458, 'eishockeyspieler': 1459, 'engen': 1460, 'esel': 1461, 'fahrgeschäft': 1462, 'fallschirm': 1463, 'festhält': 1464, 'flur': 1465, 'fußgängerüberweg': 1466, 'gefüllt': 1467, 'gleichen': 1468, 'graue': 1469, 'hinein': 1470, 'jockey': 1471, 'kapuze': 1472, 'kegel': 1473, 'köpfen': 1474, 'körper': 1475, 'lange': 1476, 'marschieren': 1477, 'maulkorb': 1478, 'messer': 1479, 'mittag': 1480, 'mittagessen': 1481, 'motorroller': 1482, 'motorräder': 1483, 'näht': 1484, 'orangefarbene': 1485, 'palmen': 1486, 'piste': 1487, 'podium': 1488, 'runter': 1489, 'sammelt': 1490, 'scheinbar': 1491, 'schildern': 1492, 'schubkarre': 1493, 'seilen': 1494, 'silhouette': 1495, 'sportkleidung': 1496, 'stehende': 1497, 'stirn': 1498, 'stufe': 1499, 'teenageralter': 1500, 'topf': 1501, 'treibt': 1502, 'turner': 1503, 'verkleidete': 1504, 'verlässt': 1505, 'vielleicht': 1506, 'violine': 1507, 'vorüber': 1508, 'vögel': 1509, 'waldweg': 1510, 'welpen': 1511, 'werkzeug': 1512, 'wettrennen': 1513, 'wischt': 1514, 'zahlreiche': 1515, 'ziegelmauer': 1516, 'überprüft': 1517, 'afroamerikanische': 1518, 'akustikgitarre': 1519, 'asiatinnen': 1520, 'aufführung': 1521, 'aussehenden': 1522, 'baseballspiel': 1523, 'beginnt': 1524, 'bekleidung': 1525, 'bewegen': 1526, 'bibliothek': 1527, 'blättern': 1528, 'cafe': 1529, 'chor': 1530, 'drinnen': 1531, 'einsamer': 1532, 'entlanggeht': 1533, 'fahrrads': 1534, 'farbigen': 1535, 'feiert': 1536, 'fernglas': 1537, 'gegner': 1538, 'gehalten': 1539, 'gehende': 1540, 'geschäfts': 1541, 'gestreiftes': 1542, 'gewändern': 1543, 'glatzköpfiger': 1544, 'gleichzeitig': 1545, 'greifen': 1546, 'grimassen': 1547, 'hier': 1548, 'häusern': 1549, 'indischer': 1550, 'jubeln': 1551, 'kameras': 1552, 'khakifarbenen': 1553, 'kiste': 1554, 'klassenraum': 1555, 'köche': 1556, 'landet': 1557, 'lockigen': 1558, 'london': 1559, 'ländlichen': 1560, 'löffel': 1561, 'mitglieder': 1562, 'moment': 1563, 'neue': 1564, 'neugeborenes': 1565, 'nächsten': 1566, 'plakat': 1567, 'poster': 1568, 'radrennen': 1569, 'rande': 1570, 'reifenschaukel': 1571, 'rettungswesten': 1572, 'rosafarbene': 1573, 'rothaariges': 1574, 'ruhigen': 1575, 'schaufeln': 1576, 'schaufenster': 1577, 'schieben': 1578, 'schmutz': 1579, 'snowboardfahrer': 1580, 'softball': 1581, 'spiels': 1582, 'stangen': 1583, 'starren': 1584, 'statt': 1585, 'stehender': 1586, 'stirnband': 1587, 'tauben': 1588, 'taucher': 1589, 'teilweise': 1590, 'tennisspielerin': 1591, 'the': 1592, 'torhüter': 1593, 'trommeln': 1594, 'verdeckt': 1595, 'verkäufer': 1596, 'vorbeigeht': 1597, 'webt': 1598, 'wendet': 1599, 'zubereitet': 1600, 'zöpfen': 1601, 'abends': 1602, 'achterbahn': 1603, 'asien': 1604, 'aufmerksam': 1605, 'bandana': 1606, 'barfüßige': 1607, 'basketballspiel': 1608, 'bauarbeiten': 1609, 'bilden': 1610, 'brauen': 1611, 'bällen': 1612, 'club': 1613, 'computerbildschirm': 1614, 'deck': 1615, 'elefanten': 1616, 'figur': 1617, 'fingern': 1618, 'floß': 1619, 'flöte': 1620, 'geparkten': 1621, 'gesichtsbemalung': 1622, 'gestikuliert': 1623, 'gewickelt': 1624, 'halstuch': 1625, 'handschuh': 1626, 'hindurch': 1627, 'händler': 1628, 'inlineskates': 1629, 'jubelt': 1630, 'karte': 1631, 'kettensäge': 1632, 'kindes': 1633, 'klatscht': 1634, 'langhaarige': 1635, 'lebensmittelgeschäft': 1636, 'leckt': 1637, 'manche': 1638, 'marktplatz': 1639, 'meeres': 1640, 'mülltonne': 1641, 'mützen': 1642, 'nah': 1643, 'ohr': 1644, 'ohren': 1645, 'olympischen': 1646, 'ozean': 1647, 'papiere': 1648, 'plastiktüte': 1649, 'radfahrern': 1650, 'ring': 1651, 'rosafarbener': 1652, 'schaukeln': 1653, 'schilder': 1654, 'schreiben': 1655, 'schwert': 1656, 'show': 1657, 'sowie': 1658, 'stehend': 1659, 'streicht': 1660, 'streifen': 1661, 'strickmütze': 1662, 'stühle': 1663, 'szene': 1664, 'taxi': 1665, 'trainer': 1666, 'tribüne': 1667, 'u-bahn-station': 1668, 'unbefestigte': 1669, 'verheiratetes': 1670, 'versammlung': 1671, 'vorbereitet': 1672, 'wange': 1673, 'werkstatt': 1674, 'altes': 1675, 'ansieht': 1676, 'aufgestellt': 1677, 'ausgestellt': 1678, 'aussehen': 1679, 'badeanzügen': 1680, 'badezimmer': 1681, 'begleitet': 1682, 'beisammen': 1683, 'beleuchtung': 1684, 'bemalten': 1685, 'betonwand': 1686, 'bewegung': 1687, 'bike': 1688, 'blasen': 1689, 'blau-gelben': 1690, 'booten': 1691, 'braun-weiße': 1692, 'breakdance': 1693, 'computern': 1694, 'cowboys': 1695, 'dorf': 1696, 'dudelsack': 1697, 'dunklem': 1698, 'fallen': 1699, 'feuerwehrleute': 1700, 'freundin': 1701, 'fänger': 1702, 'gebeugt': 1703, 'geräten': 1704, 'gesichtern': 1705, 'gestreifter': 1706, 'geöffneten': 1707, 'glänzenden': 1708, 'gold': 1709, 'golfball': 1710, 'haltung': 1711, 'hart': 1712, 'heißluftballon': 1713, 'hellhäutige': 1714, 'herumstehen': 1715, 'hocker': 1716, 'hockey': 1717, 'hundes': 1718, 'hüte': 1719, 'jackett': 1720, 'karten': 1721, 'kette': 1722, 'kleider': 1723, 'knöpfen': 1724, 'kreide': 1725, 'kunstwerke': 1726, 'köpfe': 1727, 'kümmert': 1728, 'legen': 1729, 'lernt': 1730, 'linie': 1731, 'maschendrahtzaun': 1732, 'mountainbiker': 1733, 'museum': 1734, 'männliches': 1735, 'nebel': 1736, 'nieder': 1737, 'packt': 1738, 'pink': 1739, 'pitcher': 1740, 'produkte': 1741, 'prüft': 1742, 'pudel': 1743, 'putzen': 1744, 'rauch': 1745, 'sandigen': 1746, 'schafe': 1747, 'schiff': 1748, 'schleife': 1749, 'schmuck': 1750, 'schneeanzug': 1751, 'schnitzt': 1752, 'schwimmweste': 1753, 'schüsseln': 1754, 'selbst': 1755, 'sonnenschirm': 1756, 'spaziergang': 1757, 'spielerisch': 1758, 'sprungbrett': 1759, 'suchen': 1760, 'tarnkleidung': 1761, 'traditionellen': 1762, 'trainingsanzug': 1763, 'treiben': 1764, 'treppenstufen': 1765, 'tut': 1766, 'tänzerin': 1767, 'tätowierung': 1768, 'tätowierungen': 1769, 'türen': 1770, 'uhr': 1771, 'vergnügungspark': 1772, 'verschneite': 1773, 'waschbecken': 1774, 'waschen': 1775, 'wassers': 1776, 'watet': 1777, 'welpe': 1778, 'winter': 1779, 'wir': 1780, '2012': 1781, 'abgeworfen': 1782, 'afroamerikanischer': 1783, 'auge': 1784, 'babys': 1785, 'banner': 1786, 'bau': 1787, 'bekleidet': 1788, 'bekleidete': 1789, 'bekleideter': 1790, 'besteht': 1791, 'bietet': 1792, 'blocken': 1793, 'bmx-fahrer': 1794, 'bordstein': 1795, 'bowling': 1796, 'braunhaariger': 1797, 'brettspiel': 1798, 'bälle': 1799, 'city': 1800, 'dock': 1801, 'dritte': 1802, 'drückt': 1803, 'einkaufstasche': 1804, 'eiscreme': 1805, 'entgegen': 1806, 'erklimmen': 1807, 'flaschen': 1808, 'flauschiger': 1809, 'freude': 1810, 'fußballdress': 1811, 'fußgängern': 1812, 'gefüllten': 1813, 'gegenständen': 1814, 'gehender': 1815, 'geländewagen': 1816, 'gemacht': 1817, 'gepunkteten': 1818, 'gesprungen': 1819, 'gläsern': 1820, 'gürtel': 1821, 'hafen': 1822, 'helme': 1823, 'herren': 1824, 'hohe': 1825, 'hoher': 1826, 'holzbank': 1827, 'händchen': 1828, 'indem': 1829, 'innenstadt': 1830, 'japanischen': 1831, 'jeder': 1832, 'jugendlichen': 1833, 'jüngerer': 1834, 'kante': 1835, 'karussell': 1836, 'kerle': 1837, 'kleineren': 1838, 'kleinkinder': 1839, 'laborkittel': 1840, 'langärmeligen': 1841, 'laptops': 1842, 'lebensmitteln': 1843, 'leuchtenden': 1844, 'lieferwagen': 1845, 'löschen': 1846, 'mitarbeiter': 1847, 'muster': 1848, 'männlichen': 1849, 'möglicherweise': 1850, 'namen': 1851, 'netze': 1852, 'oberen': 1853, 'obststand': 1854, 'operation': 1855, 'orientalische': 1856, 'paare': 1857, 'passenden': 1858, 'pferdeschwanz': 1859, 'pinkfarbener': 1860, 'präsentiert': 1861, 'rahmen': 1862, 'ringer': 1863, 'ruhen': 1864, 'rutschen': 1865, 'rückwärts': 1866, 'sammeln': 1867, 'scheibe': 1868, 'schwebt': 1869, 'schütteln': 1870, 'seltsamen': 1871, 'serviert': 1872, 'shirts': 1873, 'silberfarbenen': 1874, 'sport': 1875, 'spärlich': 1876, 'straßenverkäufer': 1877, 'stöcke': 1878, 'stößt': 1879, 'säugling': 1880, 'säulen': 1881, 'süßigkeiten': 1882, 'tablett': 1883, 'tiere': 1884, 'transportiert': 1885, 'turnschuhen': 1886, 'türöffnung': 1887, 'unterschiedlichen': 1888, 'verteilt': 1889, 'verwenden': 1890, 'videospiel': 1891, 'vorderseite': 1892, 'waffe': 1893, 'wasserrutsche': 1894, 'weihnachtsmann': 1895, 'weil': 1896, 'weiter': 1897, 'wette': 1898, 'wirbelt': 1899, 'wunderschöne': 1900, 'zement': 1901, 'örtlichen': 1902, 'überall': 1903, '4': 1904, '5': 1905, 'a': 1906, 'abgebildet': 1907, 'abgestellt': 1908, 'afrikanischen': 1909, 'amüsiert': 1910, 'aneinander': 1911, 'angeboten': 1912, 'angebracht': 1913, 'anhänger': 1914, 'arzt': 1915, 'aufgeregt': 1916, 'aufgereiht': 1917, 'axt': 1918, 'ballerina': 1919, 'baseballschläger': 1920, 'beladen': 1921, 'bergsteiger': 1922, 'bestellen': 1923, 'bevor': 1924, 'biker': 1925, 'bildern': 1926, 'bootes': 1927, 'boxer': 1928, 'deren': 1929, 'dreirad': 1930, 'dämmerung': 1931, 'ebenfalls': 1932, 'eimern': 1933, 'eingeschlafen': 1934, 'ente': 1935, 'entfernung': 1936, 'erdhügel': 1937, 'erreichen': 1938, 'erzeugnisse': 1939, 'filmt': 1940, 'fischt': 1941, 'fliegenden': 1942, 'formt': 1943, 'freizeitpark': 1944, 'fremden': 1945, 'frisbee-scheibe': 1946, 'fröhlich': 1947, 'früchte': 1948, 'fußballmannschaft': 1949, 'gefolgt': 1950, 'gesehen': 1951, 'gitarren': 1952, 'gitarristen': 1953, 'gleisen': 1954, 'größeren': 1955, 'halskette': 1956, 'handschuhe': 1957, 'herkunft': 1958, 'herrn': 1959, 'holzboden': 1960, 'home': 1961, 'karton': 1962, 'kasse': 1963, 'kauert': 1964, 'klappstuhl': 1965, 'klasse': 1966, 'konferenz': 1967, 'kostüme': 1968, 'kran': 1969, 'krankenhaus': 1970, 'kratzt': 1971, 'kugel': 1972, 'kurze': 1973, 'kurzem': 1974, 'körben': 1975, 'lachende': 1976, 'lagerfeuer': 1977, 'landstraße': 1978, 'lasso': 1979, 'leggings': 1980, 'leinwand': 1981, 'liegenden': 1982, 'ließt': 1983, 'locken': 1984, 'luftballon': 1985, 'lächelnden': 1986, 'meisten': 1987, 'menschenansammlung': 1988, 'mischt': 1989, 'motorhaube': 1990, 'mülleimer': 1991, 'namens': 1992, 'nasser': 1993, 'niedrigen': 1994, 'obdachloser': 1995, 'ofen': 1996, 'oranger': 1997, 'overalls': 1998, 'partie': 1999, 'perlen': 2000, 'pflanze': 2001, 'präsentation': 2002, 'puppe': 2003, 'rechte': 2004, 'regnerischen': 2005, 'richtungen': 2006, 'rückseite': 2007, 'rücksitz': 2008, 'schlauchboot': 2009, 'schminkt': 2010, 'schneeschuhen': 2011, 'schneit': 2012, 'schulkinder': 2013, 'schutzausrüstung': 2014, 'schutzkleidung': 2015, 'schwarzhaarige': 2016, 'schwingen': 2017, 'sicht': 2018, 'sieg': 2019, 'soll': 2020, 'spring': 2021, 'staubigen': 2022, 'stelzen': 2023, 'stolz': 2024, 'strecken': 2025, 'streichen': 2026, 'stöcken': 2027, 'surfen': 2028, 'swimmingpool': 2029, 'säule': 2030, 'teilnehmer': 2031, 'texas': 2032, 'tracht': 2033, 'trifft': 2034, 'turban': 2035, 'ungewöhnlichen': 2036, 'unordentlichen': 2037, 'unterrichtet': 2038, 'unterwäsche': 2039, 'vergnügt': 2040, 'vorrichtung': 2041, 'vortrag': 2042, 'webstuhl': 2043, 'windhund': 2044, 'ziegelsteinen': 2045, 'ziegelwand': 2046, 'ziellinie': 2047, 'zylinder': 2048, 'öffentlichkeit': 2049, 'übergewichtiger': 2050, 'amerikanischer': 2051, 'ampel': 2052, 'angezogener': 2053, 'anhaben': 2054, 'apfel': 2055, 'asiat': 2056, 'attraktive': 2057, 'aufnahme': 2058, 'ausgestreckt': 2059, 'ausgezogen': 2060, 'aussehendes': 2061, 'aussicht': 2062, 'autobahn': 2063, 'außenbereich': 2064, 'bad': 2065, 'banjo': 2066, 'bauernmarkt': 2067, 'bedienen': 2068, 'bedruckten': 2069, 'befahrenen': 2070, 'begeisterung': 2071, 'beleuchtet': 2072, 'besucht': 2073, 'betrachter': 2074, 'betreten': 2075, 'bewaldeten': 2076, 'bildes': 2077, 'bindet': 2078, 'board': 2079, 'boxen': 2080, 'bruder': 2081, 'bzw.': 2082, 'cello': 2083, 'chinesische': 2084, 'clowns': 2085, 'dahinter': 2086, 'daran': 2087, 'darbietung': 2088, 'darin': 2089, 'diesen': 2090, 'dribbelt': 2091, 'dritten': 2092, 'dritter': 2093, 'einkaufen': 2094, 'einkaufstüten': 2095, 'elektrischen': 2096, 'entfernen': 2097, 'erhobenen': 2098, 'erleuchteten': 2099, 'essensstand': 2100, 'etwa': 2101, 'experiment': 2102, 'fahrzeuge': 2103, 'fass': 2104, 'fasst': 2105, 'felsbrocken': 2106, 'felsvorsprung': 2107, 'fenstern': 2108, 'fertig': 2109, 'festgebunden': 2110, 'feuerwehrauto': 2111, 'fische': 2112, 'fischernetz': 2113, 'flipflops': 2114, 'flusses': 2115, 'flussufer': 2116, 'flügeln': 2117, 'formeller': 2118, 'frisur': 2119, 'füllen': 2120, 'gegnerische': 2121, 'gelangen': 2122, 'geschnitten': 2123, 'geschwindigkeit': 2124, 'gespannt': 2125, 'getroffen': 2126, 'geöffnet': 2127, 'golf': 2128, 'heller': 2129, 'herbst': 2130, 'heruntergekommenen': 2131, 'hinterbeinen': 2132, 'hohem': 2133, 'hohes': 2134, 'holen': 2135, 'holzzaun': 2136, 'hoodie': 2137, 'hula-hoop': 2138, 'hübsche': 2139, 'hübschen': 2140, 'irokesenschnitt': 2141, 'jeep': 2142, 'jeweils': 2143, 'kampf': 2144, 'kapuzenpullover': 2145, 'karohemd': 2146, 'kartons': 2147, 'klaren': 2148, 'kneipe': 2149, 'knie': 2150, 'kopfschmuck': 2151, 'kreuz': 2152, 'kricket': 2153, 'lampe': 2154, 'laufbahn': 2155, 'lippen': 2156, 'los': 2157, 'maler': 2158, 'maschinen': 2159, 'mitglied': 2160, 'musikgruppe': 2161, 'musikinstrumente': 2162, 'mäht': 2163, 'namensschild': 2164, 'nass': 2165, 'oberfläche': 2166, 'orangefarbenes': 2167, 'orientalisch': 2168, 'parcours': 2169, 'passiert': 2170, 'patienten': 2171, 'plate': 2172, 'platte': 2173, 'protestiert': 2174, 'pullunder': 2175, 'rasenfläche': 2176, 'rauchen': 2177, 'regenmantel': 2178, 'reihen': 2179, 'reklametafel': 2180, 'rennens': 2181, 'rohr': 2182, 'rudern': 2183, 'röhre': 2184, 'sauber': 2185, 'saxofon': 2186, 'schach': 2187, 'schachtel': 2188, 'schlagmann': 2189, 'schlammigen': 2190, 'schlendert': 2191, 'schneebedeckte': 2192, 'schneebedecktes': 2193, 'schnur': 2194, 'schwarz-weiße': 2195, 'schwarz-weißem': 2196, 'schürzen': 2197, 'schützen': 2198, 'schützt': 2199, 'segelboot': 2200, 'seichten': 2201, 'sessel': 2202, 'sicherheitsweste': 2203, 'skateboards': 2204, 'spaziert': 2205, 'stab': 2206, 'station': 2207, 'steile': 2208, 'steintreppe': 2209, 'strands': 2210, 'straßenarbeiter': 2211, 'straßenmusiker': 2212, 'straßenseite': 2213, 'stromschnellen': 2214, 'stürzt': 2215, 'tagsüber': 2216, 'tanzfläche': 2217, 'tee': 2218, 'teilnehmen': 2219, 'top': 2220, 'treppenhaus': 2221, 'tätowierte': 2222, 'umringt': 2223, 'uniformierte': 2224, 'uniformierter': 2225, 'unteren': 2226, 'vergnügen': 2227, 'verzierten': 2228, 'violett': 2229, 'vorführt': 2230, 'völlig': 2231, 'warm': 2232, 'warmen': 2233, 'wasserfläche': 2234, 'wasserski': 2235, 'weiteren': 2236, 'wenn': 2237, 'werfer': 2238, 'würde': 2239, 'zauns': 2240, 'ähnlich': 2241, 'öffnen': 2242, 'überprüfen': 2243, 'altmodischen': 2244, 'angehalten': 2245, 'angezogene': 2246, 'ansehen': 2247, 'anweisungen': 2248, 'anzahl': 2249, 'arbeitern': 2250, 'aufblasbare': 2251, 'aufzug': 2252, 'auslage': 2253, 'backsteinmauer': 2254, 'baseballfeld': 2255, 'beachvolleyball': 2256, 'begeistert': 2257, 'beißen': 2258, 'bestehend': 2259, 'betet': 2260, 'betonmauer': 2261, 'blaskapelle': 2262, 'blau-grünen': 2263, 'blockt': 2264, 'bockenden': 2265, 'bord': 2266, 'breiten': 2267, 'brennende': 2268, 'brillen': 2269, 'buchstaben': 2270, 'busses': 2271, 'bündel': 2272, 'bürstet': 2273, 'china': 2274, 'darüber': 2275, 'dekoriert': 2276, 'demonstranten': 2277, 'dicken': 2278, 'dieselbe': 2279, 'dunkelheit': 2280, 'eingewickelt': 2281, 'einiger': 2282, 'eishockey': 2283, 'elektronischen': 2284, 'erhält': 2285, 'erklimmt': 2286, 'esstisch': 2287, 'europa': 2288, 'fabrik': 2289, 'fahrradhelm': 2290, 'fahrzeugen': 2291, 'faulenzen': 2292, 'fels': 2293, 'fernsehen': 2294, 'fernseher': 2295, 'feuerstelle': 2296, 'figuren': 2297, 'fliege': 2298, 'flip-flops': 2299, 'flugzeugs': 2300, 'folgen': 2301, 'fontäne': 2302, 'footballspiel': 2303, 'forscher': 2304, 'frischem': 2305, 'fußgängerübergang': 2306, 'fächer': 2307, 'garage': 2308, 'gehstock': 2309, 'gelb-schwarzen': 2310, 'geldautomaten': 2311, 'gelegenen': 2312, 'gepflasterte': 2313, 'gericht': 2314, 'geschmückt': 2315, 'gespielt': 2316, 'gewinnen': 2317, 'gießen': 2318, 'gipfel': 2319, 'glatze': 2320, 'gleichgewicht': 2321, 'grünfläche': 2322, 'halle': 2323, 'hamburger': 2324, 'handys': 2325, 'hause': 2326, 'hellgrünen': 2327, 'heraushängender': 2328, 'hochstuhl': 2329, 'hockeyspiel': 2330, 'holzkonstruktion': 2331, 'horizont': 2332, 'hosenträgern': 2333, 'hängematte': 2334, 'hüfte': 2335, 'indien': 2336, 'irgendeinem': 2337, 'jockeys': 2338, 'kajakfahrer': 2339, 'kampfsportler': 2340, 'karate': 2341, 'kies': 2342, 'kompletter': 2343, 'kopfbedeckungen': 2344, 'kämpft': 2345, 'ladefläche': 2346, 'laster': 2347, 'legerer': 2348, 'lernen': 2349, 'lokal': 2350, 'läuferin': 2351, 'marathonläufer': 2352, 'meißelt': 2353, 'metallstange': 2354, 'mitspieler': 2355, 'muskulöser': 2356, 'möchte': 2357, 'nahen': 2358, 'natur': 2359, 'of': 2360, 'orientalischer': 2361, 'osten': 2362, 'ozeans': 2363, 'passagiere': 2364, 'passt': 2365, 'peace-zeichen': 2366, 'pfanne': 2367, 'pfeil': 2368, 'pilot': 2369, 'pizza': 2370, 'polohemd': 2371, 'probiert': 2372, 'richten': 2373, 'rikscha': 2374, 'rollen': 2375, 'rosaroten': 2376, 'rostigen': 2377, 'rot-schwarzen': 2378, 'rothaariger': 2379, 'ruder': 2380, 'rugbyspieler': 2381, 'ruhig': 2382, 'rührt': 2383, 'sandburg': 2384, 'sandwich': 2385, 'saugt': 2386, 'schachteln': 2387, 'schaf': 2388, 'schlucht': 2389, 'schmalen': 2390, 'schnappt': 2391, 'schnüffelt': 2392, 'schwenken': 2393, 'schwere': 2394, 'schöner': 2395, 'seifenblase': 2396, 'servieren': 2397, 'sicherheitswesten': 2398, 'silberne': 2399, 'skatet': 2400, 'smoking': 2401, 'soeben': 2402, 'sommertag': 2403, 'sonnenlicht': 2404, 'spiegelbild': 2405, 'spielsachen': 2406, 'sporthalle': 2407, 'spritzen': 2408, 'sprüht': 2409, 'späht': 2410, 'stadtpark': 2411, 'stativ': 2412, 'staub': 2413, 'steinbank': 2414, 'stiefel': 2415, 'straßenfest': 2416, 'straßenszene': 2417, 'strumpfhose': 2418, 'studio': 2419, 'stunt': 2420, 'sägt': 2421, 'tal': 2422, 'tattoo': 2423, 'taube': 2424, 'teenagern': 2425, 'telefonieren': 2426, 'telefonzelle': 2427, 'tennisplatz': 2428, 'times': 2429, 'tomaten': 2430, 'ton': 2431, 'trockenen': 2432, 'tun': 2433, 'turm': 2434, 'tüten': 2435, 'umgebenen': 2436, 'unterhemd': 2437, 'usa': 2438, 'verkaufsstand': 2439, 'verschieden': 2440, 'verschränkten': 2441, 'vorderen': 2442, 'vorführung': 2443, 'vorsichtig': 2444, 'vögeln': 2445, 'wachmann': 2446, 'waschmaschine': 2447, 'wasserbecken': 2448, 'wassersprenger': 2449, 'weiterer': 2450, 'wildnis': 2451, 'windhunde': 2452, 'wolken': 2453, 'wollmütze': 2454, 'yoga': 2455, 'zahnbürste': 2456, 'zeitschriften': 2457, 'zelten': 2458, 'zeremonie': 2459, 'ziegelbau': 2460, 'ziegelgebäude': 2461, 'zuhause': 2462, 'zuhört': 2463, '?': 2464, 'absperrung': 2465, 'afrikaner': 2466, 'afroamerikanisches': 2467, 'aktentasche': 2468, 'albern': 2469, 'alkohol': 2470, 'aller': 2471, 'anderem': 2472, 'angefeuert': 2473, 'angeln': 2474, 'ansicht': 2475, 'anzusehen': 2476, 'aufeinander': 2477, 'ausgebreitet': 2478, 'ausgebreiteten': 2479, 'ausstellung': 2480, 'backflip': 2481, 'backsteinstraße': 2482, 'badehosen': 2483, 'badekappe': 2484, 'barfüßiger': 2485, 'baskenmütze': 2486, 'basketballfeld': 2487, 'baumstumpf': 2488, 'baumstämmen': 2489, 'bauwerk': 2490, 'beginn': 2491, 'begriff': 2492, 'berglandschaft': 2493, 'beten': 2494, 'betonstufen': 2495, 'beutel': 2496, 'binden': 2497, 'blazer': 2498, 'bleiben': 2499, 'bleibt': 2500, 'blondhaariger': 2501, 'bohrmaschine': 2502, 'boote': 2503, 'braunhaariges': 2504, 'brautjungfern': 2505, 'brennenden': 2506, 'burgunderroten': 2507, 'cheerleaderin': 2508, 'cheerleadern': 2509, 'chinesischer': 2510, 'demonstration': 2511, 'denkt': 2512, 'deutsche': 2513, 'dirigiert': 2514, 'dose': 2515, 'dosen': 2516, 'drink': 2517, 'dunkel': 2518, 'dünnen': 2519, 'eier': 2520, 'einfachen': 2521, 'einheimischer': 2522, 'einkaufstaschen': 2523, 'einkäufer': 2524, 'einsamen': 2525, 'eislaufen': 2526, 'enten': 2527, 'entweder': 2528, 'ereignis': 2529, 'fackel': 2530, 'fahrzeugs': 2531, 'farbige': 2532, 'fassade': 2533, 'faulenzt': 2534, 'felsens': 2535, 'felsklippe': 2536, 'fischmarkt': 2537, 'flammen': 2538, 'fliesen': 2539, 'football-spiel': 2540, 'footballfeld': 2541, 'friedenszeichen': 2542, 'frische': 2543, 'frischen': 2544, 'friseur': 2545, 'fröhliche': 2546, 'ganzen': 2547, 'gefallen': 2548, 'gefangen': 2549, 'gefleckter': 2550, 'geflochtenen': 2551, 'geldbeutel': 2552, 'gemusterten': 2553, 'gesichtsausdruck': 2554, 'gestreifte': 2555, 'gesäumte': 2556, 'getragen': 2557, 'getreide': 2558, 'gletscher': 2559, 'glückliche': 2560, 'golden': 2561, 'habseligkeiten': 2562, 'hacken': 2563, 'hackt': 2564, 'halb': 2565, 'handtaschen': 2566, 'handwerker': 2567, 'haut': 2568, 'hervor': 2569, 'herzen': 2570, 'hinteren': 2571, 'hinweg': 2572, 'historischen': 2573, 'hochhackigen': 2574, 'hochzuklettern': 2575, 'hocken': 2576, 'holzbrett': 2577, 'horn': 2578, 'hotel': 2579, 'huhn': 2580, 'hundespielzeug': 2581, 'hüpfen': 2582, 'innenraum': 2583, 'interagieren': 2584, 'irgendeiner': 2585, 'irgendwo': 2586, 'jeansshorts': 2587, 'john': 2588, 'kabine': 2589, 'kaffeetasse': 2590, 'kajaks': 2591, 'kamel': 2592, 'kameramann': 2593, 'kamm': 2594, 'kanus': 2595, 'karierter': 2596, 'kehren': 2597, 'kellner': 2598, 'khakifarbener': 2599, 'kilt': 2600, 'konstruktion': 2601, 'kontrolle': 2602, 'kostümierte': 2603, 'krabbelt': 2604, 'kraft': 2605, 'kunstgalerie': 2606, 'käfig': 2607, 'kümmern': 2608, 'kürbis': 2609, 'ladens': 2610, 'lampen': 2611, 'langes': 2612, 'laternen': 2613, 'laufband': 2614, 'lebensmittelmarkt': 2615, 'leitet': 2616, 'lilafarbener': 2617, 'linke': 2618, 'lädt': 2619, 'mehr': 2620, 'mehrfarbigen': 2621, 'motocrossfahrer': 2622, 'motor': 2623, 'musikinstrument': 2624, 'musikinstrumenten': 2625, 'muss': 2626, 'möwen': 2627, 'müllcontainer': 2628, 'nassem': 2629, 'neuen': 2630, 'nummern': 2631, 'objekte': 2632, 'palme': 2633, 'papa': 2634, 'parken': 2635, 'passagieren': 2636, 'pfadfinder': 2637, 'pfeife': 2638, 'pflasterstraße': 2639, 'pinsel': 2640, 'pistole': 2641, 'pizzeria': 2642, 'plüschtier': 2643, 'porträt': 2644, 'probieren': 2645, 'pullovern': 2646, 'pult': 2647, 'quarterback': 2648, 'randstein': 2649, 'reflektierenden': 2650, 'regelt': 2651, 'regnet': 2652, 'reicht': 2653, 'ringkampf': 2654, 'rockband': 2655, 'rodeoreiter': 2656, 'ruderboot': 2657, 'sack': 2658, 'sandhügel': 2659, 'schals': 2660, 'schenkt': 2661, 'schlafend': 2662, 'schlafendes': 2663, 'schleift': 2664, 'schlittschuhen': 2665, 'schuss': 2666, 'schutt': 2667, 'schwebebalken': 2668, 'segelt': 2669, 'seichtem': 2670, 'sims': 2671, 'sitz': 2672, 'smartphone': 2673, 'snack': 2674, 'sortiert': 2675, 'spielenden': 2676, 'spielern': 2677, 'spielers': 2678, 'square': 2679, 'st.': 2680, 'stadtszene': 2681, 'staffelei': 2682, 'stammeskleidung': 2683, 'startlinie': 2684, 'steuert': 2685, 'stil': 2686, 'straßenrennen': 2687, 'student': 2688, 'supermarkt': 2689, 'säge': 2690, 'säubert': 2691, 'tankstelle': 2692, 'tauziehen': 2693, 'teilt': 2694, 'tippt': 2695, 'traditionelle': 2696, 'tropischen': 2697, 'trottet': 2698, 'trüben': 2699, 'türkisen': 2700, 'u-bahnstation': 2701, 'umzäunten': 2702, 'uns': 2703, 'untergrund': 2704, 'versteckt': 2705, 'versuch': 2706, 'verteidiger': 2707, 'violetter': 2708, 'vogelperspektive': 2709, 'volleyballspieler': 2710, 'voran': 2711, 'vorstellung': 2712, 'waffel': 2713, 'wahrscheinlich': 2714, 'wanne': 2715, 'war': 2716, 'warnweste': 2717, 'wassermelonen': 2718, 'wasserstraße': 2719, 'weiblichen': 2720, 'wetter': 2721, 'wieder': 2722, 'wilden': 2723, 'winterjacke': 2724, 'wintertag': 2725, 'wippe': 2726, 'xylophon': 2727, 'zahl': 2728, 'zeichnen': 2729, 'ziege': 2730, 'ziegel': 2731, 'zielt': 2732, 'zigarre': 2733, 'zurecht': 2734, 'zweite': 2735, '-': 2736, '10': 2737, 'abgedunkelten': 2738, 'abgesperrten': 2739, 'akustische': 2740, 'amboss': 2741, 'anschauen': 2742, 'anschaut': 2743, 'aquarium': 2744, 'aufgeblasenen': 2745, 'aufgenommen': 2746, 'aufhat': 2747, 'aufmerksamkeit': 2748, 'aufrecht': 2749, 'aufschlag': 2750, 'aufwärmen': 2751, 'ausschau': 2752, 'auswahl': 2753, 'autositz': 2754, 'außen': 2755, 'badekleidung': 2756, 'bagger': 2757, 'bahngleisen': 2758, 'balgen': 2759, 'bandmitglieder': 2760, 'baseballkleidung': 2761, 'baums': 2762, 'beamte': 2763, 'bedeckter': 2764, 'beendet': 2765, 'befahrene': 2766, 'befindlichen': 2767, 'begutachten': 2768, 'beigen': 2769, 'bestellt': 2770, 'besuchen': 2771, 'beteiligt': 2772, 'betonbank': 2773, 'betonplatte': 2774, 'bikini-oberteil': 2775, 'bikinis': 2776, 'billard': 2777, 'blumenstrauß': 2778, 'blühenden': 2779, 'bohrt': 2780, 'bordsteinkante': 2781, 'braun-weißen': 2782, 'bricht': 2783, 'bulle': 2784, 'bullenreiter': 2785, 'buntem': 2786, 'buntes': 2787, 'bücherregal': 2788, 'bürste': 2789, 'day': 2790, 'dekorationen': 2791, 'dekorativen': 2792, 'dekorierten': 2793, 'deutscher': 2794, 'digitalkamera': 2795, 'dj': 2796, 'dreiköpfige': 2797, 'dress': 2798, 'du': 2799, 'dunkeln': 2800, 'durchsucht': 2801, 'ei': 2802, 'einkaufspassage': 2803, 'einsatz': 2804, 'einzelne': 2805, 'einzufangen': 2806, 'eisbahn': 2807, 'eiswaffeln': 2808, 'eiswagen': 2809, 'eng': 2810, 'engel': 2811, 'erreicht': 2812, 'erwischt': 2813, 'essend': 2814, 'essenswagen': 2815, 'eventuell': 2816, 'fahrenden': 2817, 'fahrradrennen': 2818, 'farbenfroh': 2819, 'farbenfrohe': 2820, 'fasziniert': 2821, 'fechten': 2822, 'feuert': 2823, 'feuerwerk': 2824, 'filzhut': 2825, 'fitnessstudio': 2826, 'freizeitkleidung': 2827, 'freut': 2828, 'fröhliches': 2829, 'fußballspielen': 2830, 'fußballteam': 2831, 'fußballteams': 2832, 'fußballtrikot': 2833, 'fußgängerbrücke': 2834, 'fußweg': 2835, 'füttern': 2836, 'garn': 2837, 'gebaut': 2838, 'gefahren': 2839, 'gegenüberliegenden': 2840, 'gehoben': 2841, 'gehwegs': 2842, 'gehüllt': 2843, 'gelbbrauner': 2844, 'genau': 2845, 'geradeaus': 2846, 'gerichtet': 2847, 'geschminkt': 2848, 'geschminkten': 2849, 'geschrieben': 2850, 'geschäftige': 2851, 'gesenktem': 2852, 'gesichter': 2853, 'gesichts': 2854, 'gewehren': 2855, 'geöffnetem': 2856, 'glastür': 2857, 'gleis': 2858, 'glückliches': 2859, 'goldfarbenen': 2860, 'golfplatz': 2861, 'großstadt': 2862, 'grün-weißen': 2863, 'gürteln': 2864, 'haken': 2865, 'haltend': 2866, 'helle': 2867, 'hellgelben': 2868, 'hemdbluse': 2869, 'herz': 2870, 'hindernisparcours': 2871, 'hochgehoben': 2872, 'hochhält': 2873, 'hochspringt': 2874, 'hochzeitskleidung': 2875, 'hochzeitstorte': 2876, 'holztisch': 2877, 'hotdogs': 2878, 'hubschrauber': 2879, 'hydranten': 2880, 'hörsaal': 2881, 'hüpfburg': 2882, 'inhalt': 2883, 'inline': 2884, 'innenhof': 2885, 'inspizieren': 2886, 'inspiziert': 2887, 'ipod': 2888, 'irgendetwas': 2889, 'japan': 2890, 'jogger': 2891, 'jüngeres': 2892, 'kabel': 2893, 'kabeln': 2894, 'kaninchen': 2895, 'karateanzug': 2896, 'karateanzügen': 2897, 'kartenspiel': 2898, 'kathedrale': 2899, 'kegeln': 2900, 'keine': 2901, 'khakihose': 2902, 'kicken': 2903, 'kiefern': 2904, 'kittel': 2905, 'klappstühlen': 2906, 'kleinere': 2907, 'konfetti': 2908, 'kopfsteinpflasterstraße': 2909, 'kragen': 2910, 'krankenschwestern': 2911, 'kunde': 2912, 'kunst': 2913, 'kunstvollen': 2914, 'körbe': 2915, 'küchentresen': 2916, 'lacrosse': 2917, 'landkarte': 2918, 'lauf': 2919, 'liegende': 2920, 'liegestühlen': 2921, 'limousine': 2922, 'lippenstift': 2923, 'marineblauen': 2924, 'maulkörben': 2925, 'mehrfarbige': 2926, 'metallzaun': 2927, 'mikrofone': 2928, 'mikrofonen': 2929, 'mindestens': 2930, 'modell': 2931, 'modellflugzeug': 2932, 'modernen': 2933, 'monopoly': 2934, 'mopp': 2935, 'motocross-fahrer': 2936, 'motorradfahrern': 2937, 'musikern': 2938, 'möbelstück': 2939, 'mülltüte': 2940, 'nachbarschaft': 2941, 'nachmittag': 2942, 'nachtclub': 2943, 'nackte': 2944, 'nackten': 2945, 'nackter': 2946, 'nacktes': 2947, 'nasse': 2948, 'neun': 2949, 'nichts': 2950, 'notizen': 2951, 'näher': 2952, 'obwohl': 2953, 'ochsen': 2954, 'offener': 2955, 'packen': 2956, 'parasailing': 2957, 'pass': 2958, 'perücke': 2959, 'pflückt': 2960, 'pinken': 2961, 'platziert': 2962, 'polizei': 2963, 'pony': 2964, 'popcorn': 2965, 'pose': 2966, 'position': 2967, 'produkt': 2968, 'professor': 2969, 'promenade': 2970, 'punkten': 2971, 'puppen': 2972, 'pyramide': 2973, 'quad': 2974, 'radrennfahrer': 2975, 'rasenmäher': 2976, 'rauchend': 2977, 'raufen': 2978, 'rennfahrer': 2979, 'rollern': 2980, 'rot-schwarzer': 2981, 'rot-weiß': 2982, 'rot-weißes': 2983, 'rothaarigen': 2984, 'ruft': 2985, 'ruhigem': 2986, 'saal': 2987, 'saiteninstrument': 2988, 'schale': 2989, 'schaufensterfront': 2990, 'schaulustige': 2991, 'schippt': 2992, 'schlafzimmer': 2993, 'schlecht': 2994, 'schlendern': 2995, 'schlittschuh': 2996, 'schmetterling': 2997, 'schmettert': 2998, 'schmutziges': 2999, 'schnuller': 3000, 'schotterstraße': 3001, 'schotterweg': 3002, 'schritt': 3003, 'schwanz': 3004, 'schwarz-braune': 3005, 'schwarz-braunen': 3006, 'schwarz-roten': 3007, 'schwarzweißer': 3008, 'schweren': 3009, 'schwimmflügeln': 3010, 'schwimmwesten': 3011, 'schält': 3012, 'schülern': 3013, 'seilspringen': 3014, 'seitenlinie': 3015, 'seitlich': 3016, 'skateboardpark': 3017, 'sms': 3018, 'sorgfältig': 3019, 'spazierstock': 3020, 'speer': 3021, 'speisekarte': 3022, 'spielerin': 3023, 'spielzeugauto': 3024, 'spielzeuge': 3025, 'spült': 3026, 'steg': 3027, 'stelle': 3028, 'stern': 3029, 'strandpromenade': 3030, 'straßenmarkt': 3031, 'strickt': 3032, 'struktur': 3033, 'studiert': 3034, 'stöbern': 3035, 'stücke': 3036, 'tackelt': 3037, 'taucheranzug': 3038, 'teenagerin': 3039, 'teilnimmt': 3040, 'tempel': 3041, 'tennisschuhen': 3042, 'thema': 3043, 'tiefen': 3044, 'tischdecke': 3045, 'tische': 3046, 'trenchcoat': 3047, 'trocknet': 3048, 'tänzerinnen': 3049, 'tänzern': 3050, 'tätowierter': 3051, 'türkisfarbenen': 3052, 'ufers': 3053, 'umgestürzten': 3054, 'umhängen': 3055, 'unaufgeräumten': 3056, 'untergeht': 3057, 'unterschiedlicher': 3058, 'verfolgen': 3059, 'verkleideter': 3060, 'verlassenen': 3061, 'verlegt': 3062, 'verteilen': 3063, 'verärgert': 3064, 'video': 3065, 'videokamera': 3066, 'videospiele': 3067, 'volleyballspiel': 3068, 'vorbeifahren': 3069, 'wakeboard': 3070, 'wanderweg': 3071, 'wandmalerei': 3072, 'warnwesten': 3073, 'wegen': 3074, 'weihnachten': 3075, 'weihnachtsmannkostüm': 3076, 'weinendes': 3077, 'weiß-schwarzer': 3078, 'weißhaariger': 3079, 'wenig': 3080, 'werkzeugen': 3081, 'wettlauf': 3082, 'wiegt': 3083, 'wohnung': 3084, 'wurden': 3085, 'wählt': 3086, 'wände': 3087, 'wäre': 3088, 'zebrastreifen': 3089, 'zeitungen': 3090, 'zelte': 3091, 'zuckerwatte': 3092, 'zutaten': 3093, 'zähnen': 3094, 'zündet': 3095, 'ärmellosem': 3096, 'überblickt': 3097, 'überdachten': 3098, '&': 3099, \"'\": 3100, '/': 3101, '6': 3102, 'abhang': 3103, 'abstammung': 3104, 'afroamerikanerin': 3105, 'angel': 3106, 'angemaltem': 3107, 'ans': 3108, 'ansammlung': 3109, 'anscheinend': 3110, 'anzugreifen': 3111, 'anzuziehen': 3112, 'arbeitende': 3113, 'artikel': 3114, 'asphalt': 3115, 'aufgabe': 3116, 'aufgeregte': 3117, 'ausflug': 3118, 'ausgestrecktem': 3119, 'auszeichnung': 3120, 'außenseite': 3121, 'außerdem': 3122, 'babyschaukel': 3123, 'backsteinwand': 3124, 'bademantel': 3125, 'baden': 3126, 'bahnen': 3127, 'balkonen': 3128, 'ballbesitz': 3129, 'bambus': 3130, 'bananen': 3131, 'barfüßiges': 3132, 'barkeeper': 3133, 'bass': 3134, 'bastelt': 3135, 'bauer': 3136, 'bauernhof': 3137, 'beaufsichtigt': 3138, 'beenden': 3139, 'befestigen': 3140, 'befragt': 3141, 'begleiter': 3142, 'bekleidungsgeschäft': 3143, 'beladenen': 3144, 'berghang': 3145, 'bergsteigen': 3146, 'besitz': 3147, 'betonrampe': 3148, 'betritt': 3149, 'bettelt': 3150, 'bewundern': 3151, 'blattwerk': 3152, 'blau-roten': 3153, 'blaugrünen': 3154, 'blond': 3155, 'blondhaarige': 3156, 'blondhaariges': 3157, 'blumenwiese': 3158, 'blätterhaufen': 3159, 'bmx-rad': 3160, 'boots': 3161, 'brechen': 3162, 'brunnens': 3163, 'brät': 3164, 'bräunlicher': 3165, 'brünettes': 3166, 'buckelnden': 3167, 'bulldozer': 3168, 'busch': 3169, 'büchern': 3170, 'büsche': 3171, 'coach': 3172, 'collie': 3173, 'dafür': 3174, 'deckt': 3175, 'derby': 3176, 'deutet': 3177, 'diadem': 3178, 'dicker': 3179, 'drängen': 3180, 'dschungel': 3181, 'dunk': 3182, 'dunkelhaariges': 3183, 'durchgang': 3184, 'dünne': 3185, 'ebene': 3186, 'einfahrt': 3187, 'einrichtung': 3188, 'einschließlich': 3189, 'eishockeyspiel': 3190, 'eisschnellläufer': 3191, 'eiswaffel': 3192, 'elternteil': 3193, 'endzone': 3194, 'enge': 3195, 'erdboden': 3196, 'erhalten': 3197, 'erhöhten': 3198, 'erledigen': 3199, 'erleuchtet': 3200, 'erzielen': 3201, 'erzählt': 3202, 'fackeln': 3203, 'fahrradreifen': 3204, 'federn': 3205, 'feldhockey': 3206, 'felsblock': 3207, 'felsige': 3208, 'fensterputzer': 3209, 'fernrohr': 3210, 'fertigen': 3211, 'fertigt': 3212, 'festival': 3213, 'film': 3214, 'flaches': 3215, 'flauschigen': 3216, 'fliesenboden': 3217, 'food': 3218, 'for': 3219, 'freuen': 3220, 'freundinnen': 3221, 'funktioniert': 3222, 'fußboden': 3223, 'fußtritt': 3224, 'führung': 3225, 'gabel': 3226, 'garagentor': 3227, 'gartenstuhl': 3228, 'gedrängt': 3229, 'geholfen': 3230, 'geiger': 3231, 'gejagt': 3232, 'geländefahrzeug': 3233, 'gemalt': 3234, 'gemütlich': 3235, 'geschlagen': 3236, 'geschminktem': 3237, 'geschmückten': 3238, 'geschoben': 3239, 'geschäftsmann': 3240, 'gespritzt': 3241, 'geste': 3242, 'gesteckt': 3243, 'gestützt': 3244, 'gewonnen': 3245, 'gleiche': 3246, 'golfspieler': 3247, 'graues': 3248, 'grauhaarige': 3249, 'grauhaariger': 3250, 'grills': 3251, 'großem': 3252, 'gurt': 3253, 'gute': 3254, 'gymnastik': 3255, 'haarschnitt': 3256, 'halfpipe': 3257, 'halsketten': 3258, 'harfe': 3259, 'harten': 3260, 'hechtet': 3261, 'heißluftballons': 3262, 'heißt': 3263, 'hellbraune': 3264, 'hellbraunem': 3265, 'hellrosa': 3266, 'herrlichen': 3267, 'hochklettert': 3268, 'hochzeitsfeier': 3269, 'hochzeitsgesellschaft': 3270, 'hochzeitskleid': 3271, 'holzstuhl': 3272, 'huckepack': 3273, 'hängebrücke': 3274, 'indianer': 3275, 'informationen': 3276, 'inneren': 3277, 'intensiv': 3278, 'interessanten': 3279, 'interviewt': 3280, 'irgendeine': 3281, 'jahre': 3282, 'jemandes': 3283, 'jenga': 3284, 'kahl': 3285, 'kamelen': 3286, 'kamin': 3287, 'kanadischen': 3288, 'kastanienbraunen': 3289, 'katzen': 3290, 'kein': 3291, 'kerze': 3292, 'kindergruppe': 3293, 'kinn': 3294, 'klarinette': 3295, 'klatschen': 3296, 'klein': 3297, 'kleinigkeit': 3298, 'kleinstadt': 3299, 'kletterwand': 3300, 'knallbunten': 3301, 'kollegen': 3302, 'konferenztisch': 3303, 'kopftüchern': 3304, 'korridor': 3305, 'kragenhemd': 3306, 'krankenhausbett': 3307, 'krankenschwester': 3308, 'krug': 3309, 'kulisse': 3310, 'kunstausstellung': 3311, 'kutsche': 3312, 'käse': 3313, 'labrador': 3314, 'lackiert': 3315, 'ladung': 3316, 'landung': 3317, 'langärmligen': 3318, 'lappen': 3319, 'lastwagens': 3320, 'lautsprecher': 3321, 'ledermantel': 3322, 'leere': 3323, 'leger': 3324, 'lehrerin': 3325, 'lehrt': 3326, 'leidenschaftlich': 3327, 'lenkt': 3328, 'letzten': 3329, 'lichtern': 3330, 'live': 3331, 'lohfarbener': 3332, 'love': 3333, 'läufern': 3334, 'make-up': 3335, 'mannschaftskollegen': 3336, 'marathonlauf': 3337, 'marktstand': 3338, 'mast': 3339, 'matratze': 3340, 'mcdonalds': 3341, 'medizinische': 3342, 'medizinischen': 3343, 'mehl': 3344, 'metallgegenstand': 3345, 'miami': 3346, 'militärische': 3347, 'minigolf': 3348, 'misst': 3349, 'montur': 3350, 'morgen': 3351, 'motorboot': 3352, 'motorradrennen': 3353, 'mönch': 3354, 'müde': 3355, 'navigiert': 3356, 'nebligen': 3357, 'nippt': 3358, 'noten': 3359, 'nudeln': 3360, 'nächtlichen': 3361, 'oberhemd': 3362, 'oldtimer': 3363, 'operationssaal': 3364, 'orangensaft': 3365, 'paket': 3366, 'pinata': 3367, 'pinkfarbene': 3368, 'pitch': 3369, 'plakatwand': 3370, 'plane': 3371, 'plantscht': 3372, 'plastik': 3373, 'poliert': 3374, 'politischen': 3375, 'polizistin': 3376, 'poloshirt': 3377, 'priester': 3378, 'probt': 3379, 'pustet': 3380, 'pyjama': 3381, 'radfahren': 3382, 'radio': 3383, 'rangeln': 3384, 'rasieren': 3385, 'reagieren': 3386, 'recht': 3387, 'redner': 3388, 'rednerpult': 3389, 'regenbogen': 3390, 'reis': 3391, 'reisen': 3392, 'rennbahn': 3393, 'restaurantküche': 3394, 'richtig': 3395, 'roboter': 3396, 'rollerskates': 3397, 'rollschuh': 3398, 'rollstühlen': 3399, 'rosafarbenes': 3400, 'rosen': 3401, 'rot-blauen': 3402, 'rucksäcke': 3403, 'rugby': 3404, 'ruinen': 3405, 'runde': 3406, 'rundes': 3407, 'räumt': 3408, 'rückwärtssalto': 3409, 'sackhüpfen': 3410, 'salat': 3411, 'sandskulptur': 3412, 'sari': 3413, 'sattel': 3414, 'schalter': 3415, 'schanze': 3416, 'schattigen': 3417, 'schaufenstern': 3418, 'schaumbad': 3419, 'schauspieler': 3420, 'scheinwerferlicht': 3421, 'schienen': 3422, 'schlafenden': 3423, 'schlafender': 3424, 'schloss': 3425, 'schminke': 3426, 'schmutzige': 3427, 'schneeball': 3428, 'schneehaufen': 3429, 'schnorchel': 3430, 'schreiendes': 3431, 'schusswaffe': 3432, 'schutzwesten': 3433, 'schwarz-blauen': 3434, 'schwarzweißen': 3435, 'schweißen': 3436, 'schwertern': 3437, 'schwierigkeiten': 3438, 'schwimmenden': 3439, 'schwimmerin': 3440, 'schülerin': 3441, 'seattle': 3442, 'seife': 3443, 'seilschaukel': 3444, 'senioren': 3445, 'sitzend': 3446, 'sitzendes': 3447, 'skate-park': 3448, 'skateboardrampe': 3449, 'skateboardtrick': 3450, 'skigebiet': 3451, 'skulpturen': 3452, 'sortieren': 3453, 'spanischer': 3454, 'spielende': 3455, 'spielzug': 3456, 'sprache': 3457, 'springenden': 3458, 'stabhochsprung': 3459, 'stadtplatz': 3460, 'staffellauf': 3461, 'stamm': 3462, 'staubsauger': 3463, 'stecken': 3464, 'steinernen': 3465, 'stofftier': 3466, 'stolpert': 3467, 'stoßen': 3468, 'straßencafé': 3469, 'streicheln': 3470, 'stroh': 3471, 'strom': 3472, 'stützt': 3473, 'subway': 3474, 'tauchausrüstung': 3475, 'teddybär': 3476, 'tellern': 3477, 'tennisspielen': 3478, 'textnachricht': 3479, 'theater': 3480, 'tischtennis': 3481, 'torbogen': 3482, 'toreinfahrt': 3483, 'tourist': 3484, 'training': 3485, 'transporter': 3486, 'traurig': 3487, 'trommelt': 3488, 'turnier': 3489, 'türeingang': 3490, 'tüte': 3491, 'uferweg': 3492, 'ultimate': 3493, 'umklammert': 3494, 'unfall': 3495, 'unglücklich': 3496, 'unterhalb': 3497, 'unterricht': 3498, 'unterschiedliche': 3499, 'ureinwohner': 3500, 'van': 3501, 'vaters': 3502, 'verbringen': 3503, 'verbundenen': 3504, 'verdunkelten': 3505, 'vereisten': 3506, 'verkehrt': 3507, 'verlassene': 3508, 'verletzt': 3509, 'verliert': 3510, 'vermutlich': 3511, 'verschiedenfarbigen': 3512, 'versehen': 3513, 'verwirrt': 3514, 'verzieht': 3515, 'vierköpfige': 3516, 'vorbereiten': 3517, 'vordach': 3518, 'vorlesung': 3519, 'wadet': 3520, 'waffen': 3521, 'wangen': 3522, 'warenkorb': 3523, 'wasserfahrzeug': 3524, 'wasserlauf': 3525, 'wassermelone': 3526, 'wasserskifahrer': 3527, 'waten': 3528, 'weingläsern': 3529, 'weiß-braune': 3530, 'weiß-brauner': 3531, 'welt': 3532, 'wetteifern': 3533, 'wheelie': 3534, 'wintermantel': 3535, 'würden': 3536, 'zeichnung': 3537, 'ziegen': 3538, 'zigaretten': 3539, 'zugeht': 3540, 'zugewandt': 3541, 'zugucken': 3542, 'zuguckt': 3543, 'zuhören': 3544, 'zupft': 3545, 'zweiten': 3546, 'zweiter': 3547, 'älter': 3548, 'ärmel': 3549, 'ärmeln': 3550, 'überkreuzten': 3551, 'übung': 3552, 'übungen': 3553, '#': 3554, '11': 3555, '12': 3556, '9': 3557, 'abenddämmerung': 3558, 'abgewandt': 3559, 'absatzschuhen': 3560, 'absolventen': 3561, 'absperrband': 3562, 'abwärts': 3563, 'abzuwehren': 3564, 'abzuwerfen': 3565, 'afrikanisches': 3566, 'akkordeonspieler': 3567, 'akrobatische': 3568, 'aktion': 3569, 'albernen': 3570, 'altmodischer': 3571, 'ananas': 3572, 'anblick': 3573, 'and': 3574, 'angelehnt': 3575, 'angelruten': 3576, 'angelschnur': 3577, 'angerichtet': 3578, 'angesicht': 3579, 'angestellte': 3580, 'angezeigt': 3581, 'angezogenes': 3582, 'anlage': 3583, 'ansetzt': 3584, 'antiken': 3585, 'anweisung': 3586, 'anzüge': 3587, 'armband': 3588, 'armee': 3589, 'aufdruck': 3590, 'aufgaben': 3591, 'aufnahmen': 3592, 'aufzuheben': 3593, 'aufzunehmen': 3594, 'ausblick': 3595, 'ausdruck': 3596, 'ausführung': 3597, 'ausgeschnittenen': 3598, 'ausländische': 3599, 'ausländischen': 3600, 'auszuführen': 3601, 'backen': 3602, 'backsteingebäudes': 3603, 'badebekleidung': 3604, 'badesachen': 3605, 'badet': 3606, 'bahngleise': 3607, 'balancieren': 3608, 'banane': 3609, 'bandmitgliedern': 3610, 'barren': 3611, 'baseballkappen': 3612, 'baseballspiels': 3613, 'baseballwerfer': 3614, 'bassgitarre': 3615, 'baufälligen': 3616, 'baumgesäumten': 3617, 'bauprojekt': 3618, 'bedienung': 3619, 'befestigten': 3620, 'befreit': 3621, 'befördert': 3622, 'beginnen': 3623, 'belebter': 3624, 'bequem': 3625, 'bereits': 3626, 'berggipfel': 3627, 'bergigen': 3628, 'beschnüffelt': 3629, 'besprechen': 3630, 'besprühten': 3631, 'besuch': 3632, 'besuchten': 3633, 'betrieb': 3634, 'bewegungen': 3635, 'biegt': 3636, 'bieten': 3637, 'bikinioberteil': 3638, 'blase': 3639, 'blau-weiß': 3640, 'bleistift': 3641, 'block': 3642, 'blue': 3643, 'blumenfeld': 3644, 'blumenkleid': 3645, 'blumenmädchen': 3646, 'blusen': 3647, 'blättert': 3648, 'blöcken': 3649, 'boston': 3650, 'bowling-kugel': 3651, 'brautkleid': 3652, 'breitkrempigen': 3653, 'broschüre': 3654, 'brünett': 3655, 'buffet': 3656, 'bäckerei': 3657, 'bärten': 3658, 'bärtige': 3659, 'bügelt': 3660, 'chips': 3661, 'chirurgen': 3662, 'cockpit': 3663, 'concert': 3664, 'cremefarbenen': 3665, 'daraus': 3666, 'deckel': 3667, 'demonstriert': 3668, 'denkmal': 3669, 'deutschen': 3670, 'dicke': 3671, 'dingen': 3672, 'dirigent': 3673, 'dirtbike': 3674, 'diskutiert': 3675, 'domino': 3676, 'dorfbewohner': 3677, 'dritte-welt-land': 3678, 'drähten': 3679, 'dunkelbrauner': 3680, 'dunkelgrünen': 3681, 'dunking': 3682, 'dunkles': 3683, 'duscht': 3684, 'edlen': 3685, 'eiern': 3686, 'eigenen': 3687, 'eingegraben': 3688, 'einkäufern': 3689, 'einsame': 3690, 'einsames': 3691, 'einteiler': 3692, 'eisenbahnschienen': 3693, 'elektriker': 3694, 'elektrogitarre': 3695, 'elf': 3696, 'elmo': 3697, 'empor': 3698, 'entgegengesetzte': 3699, 'enthält': 3700, 'entladen': 3701, 'entlanggehen': 3702, 'erhebt': 3703, 'erklärt': 3704, 'ersten': 3705, 'erwischen': 3706, 'essstäbchen': 3707, 'esszimmer': 3708, 'euro': 3709, 'fahrbaren': 3710, 'fahrradgeschäft': 3711, 'fahrradtrick': 3712, 'fall': 3713, 'fallschirmspringen': 3714, 'fan': 3715, 'fang': 3716, 'feder': 3717, 'fein': 3718, 'feldes': 3719, 'felsenklippe': 3720, 'felsformation': 3721, 'festzug': 3722, 'feuerleiter': 3723, 'feuerwehrwagen': 3724, 'fingernägel': 3725, 'fischerboot': 3726, 'flag': 3727, 'flanellhemd': 3728, 'flanke': 3729, 'flecken': 3730, 'fliegende': 3731, 'flügel': 3732, 'football-feld': 3733, 'footballteam': 3734, 'form': 3735, 'fotograph': 3736, 'fotographen': 3737, 'free': 3738, 'freiluftmarkt': 3739, 'friedhof': 3740, 'frustriert': 3741, 'fröhlicher': 3742, 'fundament': 3743, 'funken': 3744, 'fußballmannschaften': 3745, 'fußballplatz': 3746, 'fuße': 3747, 'fällen': 3748, 'förmlicher': 3749, 'führenden': 3750, 'gabelstapler': 3751, 'geburtstag': 3752, 'geburtstagskuchen': 3753, 'gebückter': 3754, 'gedanken': 3755, 'geduldig': 3756, 'gefilmt': 3757, 'gefliesten': 3758, 'gefrorenen': 3759, 'gefällten': 3760, 'gefärbten': 3761, 'gegenspieler': 3762, 'gehören': 3763, 'geküsst': 3764, 'gelb-grünen': 3765, 'gelb-weißen': 3766, 'gelbbraunen': 3767, 'geländern': 3768, 'gemalten': 3769, 'genüsslich': 3770, 'gepflegten': 3771, 'gerätschaften': 3772, 'geschichte': 3773, 'geschlossen': 3774, 'geschossen': 3775, 'gesichert': 3776, 'gesichtsmaske': 3777, 'gespreizten': 3778, 'gestalteten': 3779, 'gestrüpp': 3780, 'gesäumt': 3781, 'getackelt': 3782, 'glasgebäude': 3783, 'glatzenansatz': 3784, 'gleiten': 3785, 'glücklicher': 3786, 'goldener': 3787, 'grasbewachsene': 3788, 'grasbewachsenes': 3789, 'griff': 3790, 'grinst': 3791, 'groß': 3792, 'großküche': 3793, 'größe': 3794, 'grün-gelben': 3795, 'grün-weiß': 3796, 'grüßen': 3797, 'guten': 3798, 'gähnt': 3799, 'gäste': 3800, 'hafengebiet': 3801, 'halbkreis': 3802, 'halt': 3803, 'haltestelle': 3804, 'happen': 3805, 'harmonika': 3806, 'hatte': 3807, 'hauptsächlich': 3808, 'hausaufgaben': 3809, 'hausmeister': 3810, 'heiraten': 3811, 'hellhäutigen': 3812, 'hellroten': 3813, 'hemdchen': 3814, 'herauf': 3815, 'herstellt': 3816, 'high': 3817, 'hinterteil': 3818, 'hinunterfährt': 3819, 'holzboot': 3820, 'holzpfahl': 3821, 'holzplattform': 3822, 'holzrampe': 3823, 'hot': 3824, 'hotdog': 3825, 'hula': 3826, 'hundeshow': 3827, 'häuser': 3828, 'höhle': 3829, 'hölle': 3830, 'hübsch': 3831, 'i': 3832, 'idyllischen': 3833, 'inder': 3834, 'indianischer': 3835, 'indischen': 3836, 'ineinander': 3837, 'inklusive': 3838, 'innenseite': 3839, 'innerhalb': 3840, 'irgendein': 3841, 'jeansrock': 3842, 'jetski': 3843, 'kahlen': 3844, 'kalte': 3845, 'kanal': 3846, 'kanone': 3847, 'kaputten': 3848, 'kargen': 3849, 'kariertes': 3850, 'karikatur': 3851, 'kastenwagen': 3852, 'kauern': 3853, 'kaufhaus': 3854, 'kaum': 3855, 'keller': 3856, 'kellnerin': 3857, 'ketten': 3858, 'khakihosen': 3859, 'kickboxen': 3860, 'kiefer': 3861, 'kimonos': 3862, 'kleidungsstücke': 3863, 'knabbert': 3864, 'knallgelben': 3865, 'knappen': 3866, 'kniehohen': 3867, 'kopfball': 3868, 'kostet': 3869, 'kranich': 3870, 'krawatten': 3871, 'kreisförmigen': 3872, 'kricketspieler': 3873, 'kriecht': 3874, 'kronen': 3875, 'krücken': 3876, 'kunstmuseum': 3877, 'kunststoff': 3878, 'kuss': 3879, 'kälte': 3880, 'kämpfer': 3881, 'küchentheke': 3882, 'küchentisch': 3883, 'kühen': 3884, 'künstlerin': 3885, 'lama': 3886, 'landen': 3887, 'langarmhemd': 3888, 'langer': 3889, 'langsam': 3890, 'last': 3891, 'lasters': 3892, 'laubbedeckten': 3893, 'laubbläser': 3894, 'laubhaufen': 3895, 'laufende': 3896, 'leben': 3897, 'lebensmittelgeschäfts': 3898, 'leitern': 3899, 'lenker': 3900, 'leopardenmuster': 3901, 'letzte': 3902, 'liebkost': 3903, 'liegestütze': 3904, 'lilafarbene': 3905, 'lkws': 3906, 'lobby': 3907, 'lockigem': 3908, 'logo': 3909, 'lokalen': 3910, 'luftsprung': 3911, 'lustigen': 3912, 'lötet': 3913, 'maiskolben': 3914, 'mal': 3915, 'mama': 3916, 'masken': 3917, 'massen': 3918, 'match': 3919, 'material': 3920, 'matsch': 3921, 'matten': 3922, 'maulesel': 3923, 'meeresufer': 3924, 'meerjungfrau': 3925, 'meerwasser': 3926, 'melonen': 3927, 'menschenschlange': 3928, 'messe': 3929, 'messen': 3930, 'metallkonstruktion': 3931, 'meter': 3932, 'mexikanische': 3933, 'mexikanischen': 3934, 'militärangehörige': 3935, 'militärs': 3936, 'militäruniform': 3937, 'militäruniformen': 3938, 'mittelgroßen': 3939, 'mixt': 3940, 'mobilen': 3941, 'motorrollern': 3942, 'mundharmonika': 3943, 'musizieren': 3944, 'männergruppe': 3945, 'möwe': 3946, 'müllbeutel': 3947, 'nacheinander': 3948, 'nachrichten': 3949, 'nagel': 3950, 'nasses': 3951, 'neigt': 3952, 'neongrünen': 3953, 'notenständer': 3954, 'notizbuch': 3955, 'nähen': 3956, 'nähern': 3957, 'obdachlose': 3958, 'oberhalb': 3959, 'oberteile': 3960, 'objekten': 3961, 'obst-': 3962, 'offene': 3963, 'offiziellen': 3964, 'ohrhörern': 3965, 'op-kittel': 3966, 'ordnet': 3967, 'ordnung': 3968, 'orientalischen': 3969, 'outfielder': 3970, 'packung': 3971, 'parks': 3972, 'pelzmantel': 3973, 'pendler': 3974, 'pfannen': 3975, 'pferderennen': 3976, 'pferdes': 3977, 'pflanzt': 3978, 'pflaster': 3979, 'pflügt': 3980, 'pfoten': 3981, 'picknick': 3982, 'piers': 3983, 'planschen': 3984, 'platten': 3985, 'podest': 3986, 'pokal': 3987, 'poolbillard': 3988, 'posaune': 3989, 'prachtvollen': 3990, 'projektor': 3991, 'protestieren': 3992, 'protestschild': 3993, 'prüfen': 3994, 'prüfung': 3995, 'pub': 3996, 'punkt': 3997, 'radfahrerin': 3998, 'ragt': 3999, 'rallyeauto': 4000, 'rasierten': 4001, 'raums': 4002, 'raus': 4003, 'red': 4004, 'regal': 4005, 'regenschirme': 4006, 'reist': 4007, 'reitern': 4008, 'religiöse': 4009, 'reparaturen': 4010, 'rettungsschwimmer': 4011, 'rettungsweste': 4012, 'riemen': 4013, 'riesiger': 4014, 'roben': 4015, 'rolle': 4016, 'roller-derby-spiel': 4017, 'rot-weiß-blauen': 4018, 'rot-weiße': 4019, 'rudel': 4020, 'ruhige': 4021, 'rum': 4022, 'rustikalen': 4023, 'rängen': 4024, 'räumen': 4025, 'rückenschwimmen': 4026, 'rückhand': 4027, 'sakko': 4028, 'saris': 4029, 'saust': 4030, 'schafen': 4031, 'schaffen': 4032, 'schau': 4033, 'schaufensterpuppe': 4034, 'scheinwerfer': 4035, 'schere': 4036, 'schickes': 4037, 'schiene': 4038, 'schiffs': 4039, 'schildkröte': 4040, 'schippen': 4041, 'schlanke': 4042, 'schlanker': 4043, 'schleifen': 4044, 'schließen': 4045, 'schließt': 4046, 'schlummert': 4047, 'schläfchen': 4048, 'schmettern': 4049, 'schmutziger': 4050, 'schnauzer': 4051, 'schneeengel': 4052, 'schneehügel': 4053, 'schneemann': 4054, 'schneidebrett': 4055, 'schnitzen': 4056, 'schokoladeneis': 4057, 'school': 4058, 'schreien': 4059, 'schuhgeschäft': 4060, 'schulbus': 4061, 'schwan': 4062, 'schwangere': 4063, 'schwarzhaariger': 4064, 'schwer': 4065, 'schwerer': 4066, 'schwester': 4067, 'schwimmhilfe': 4068, 'schwung': 4069, 'schädel': 4070, 'schärpen': 4071, 'schönes': 4072, 'schüttet': 4073, 'segelboote': 4074, 'seile': 4075, 'seltsam': 4076, 'seltsames': 4077, 'sesseln': 4078, 'shop': 4079, 'sicher': 4080, 'sicherheitsausrüstung': 4081, 'sicherheitskleidung': 4082, 'sichtbar': 4083, 'skiausrüstung': 4084, 'skilift': 4085, 'skimütze': 4086, 'skipiste': 4087, 'skyline': 4088, 'slam': 4089, 'snacks': 4090, 'sodass': 4091, 'softballspielerin': 4092, 'sollen': 4093, 'sommerkleid': 4094, 'sonnen': 4095, 'sonnenhut': 4096, 'sonnenschein': 4097, 'sonnenschirmen': 4098, 'sowohl': 4099, 'spagat': 4100, 'spielend': 4101, 'spielmannszug': 4102, 'spielplatzgerät': 4103, 'spielzeugen': 4104, 'spielzeugpferd': 4105, 'spinnrad': 4106, 'sportereignis': 4107, 'sportlerin': 4108, 'sportliche': 4109, 'sportplatz': 4110, 'sportspiel': 4111, 'sprühfarbe': 4112, 'spüle': 4113, 'stadtviertel': 4114, 'stapelt': 4115, 'starbucks': 4116, 'statuen': 4117, 'staubwolke': 4118, 'stehendes': 4119, 'steingebäude': 4120, 'steinstufen': 4121, 'steinwand': 4122, 'stiel': 4123, 'stimmt': 4124, 'strafzettel': 4125, 'strahlend': 4126, 'strandes': 4127, 'strauß': 4128, 'straßenarbeiten': 4129, 'street': 4130, 'streiten': 4131, 'strickjacke': 4132, 'strohhalm': 4133, 'strähnen': 4134, 'stäbchen': 4135, 'städtischer': 4136, 'suv': 4137, 'symbol': 4138, 'sägen': 4139, 'tages': 4140, 'talent': 4141, 'tanzende': 4142, 'tassen': 4143, 'tattoo-künstler': 4144, 'tauchen': 4145, 'taucherbrille': 4146, 'taxis': 4147, 'teile': 4148, 'telefonmasten': 4149, 'tennisbällen': 4150, 'tenniskleidung': 4151, 'terrier': 4152, 'tisches': 4153, 'toiletten': 4154, 'tollen': 4155, 'toter': 4156, 'treppengeländer': 4157, 'trockenem': 4158, 'trockenes': 4159, 'trocknen': 4160, 'tropischer': 4161, 'truthahn': 4162, 'tutu': 4163, 'töpfen': 4164, 'töpferscheibe': 4165, 'töpferwaren': 4166, 'u-bahn-tunnel': 4167, 'umeinander': 4168, 'umgedrehten': 4169, 'umhängetasche': 4170, 'unbefestigtem': 4171, 'unfertigen': 4172, 'ungefähr': 4173, 'unruhigem': 4174, 'unterbricht': 4175, 'untergrundbahn': 4176, 'unterhaltung': 4177, 'unterseite': 4178, 'us': 4179, 'verbringt': 4180, 'verbunden': 4181, 'verdienen': 4182, 'verhindern': 4183, 'verkleiden': 4184, 'verschiedener': 4185, 'verschiedenfarbige': 4186, 'verspritzt': 4187, 'verstecken': 4188, 'verstärker': 4189, 'verteidigen': 4190, 'violettes': 4191, 'volksfest': 4192, 'vorbeigehenden': 4193, 'vorbereitung': 4194, 'vorhang': 4195, 'vorliest': 4196, 'vorwärts': 4197, 'vorübergehen': 4198, 'wachsen': 4199, 'wagens': 4200, 'waldes': 4201, 'walmart': 4202, 'wanderung': 4203, 'washington': 4204, 'wasserfontäne': 4205, 'wasserkante': 4206, 'wasserschlauch': 4207, 'weggeht': 4208, 'weihnachtsgeschenke': 4209, 'welche': 4210, 'welcome': 4211, 'wenige': 4212, 'werbetafel': 4213, 'werkzeuge': 4214, 'wildwasser': 4215, 'wind': 4216, 'windjacke': 4217, 'winken': 4218, 'wintermänteln': 4219, 'winzigen': 4220, 'wirbt': 4221, 'wirken': 4222, 'wischen': 4223, 'wissenschaftler': 4224, 'wissenschaftliches': 4225, 'wolkigen': 4226, 'wäschekorb': 4227, 'wäscheleine': 4228, 'zentrum': 4229, 'ziegeln': 4230, 'zitronen': 4231, 'zoo': 4232, 'zubereiten': 4233, 'zueinander': 4234, 'zugs': 4235, 'zuläuft': 4236, 'zweier': 4237, 'zweiteiligen': 4238, 'zwölf': 4239, 'zügen': 4240, 'ärzte': 4241, 'öffentliche': 4242, 'übergibt': 4243, 'überwiegend': 4244, '24': 4245, '8': 4246, 'abfälle': 4247, 'abgelegt': 4248, 'abgeschnittenen': 4249, 'abgestimmten': 4250, 'abschlag': 4251, 'abschleppwagen': 4252, 'abseits': 4253, 'absätzen': 4254, 'abzufangen': 4255, 'abzunehmen': 4256, 'actionfoto': 4257, 'affen': 4258, 'afrikanerin': 4259, 'afroamerikanischen': 4260, 'aktivität': 4261, 'akustischen': 4262, 'albert': 4263, 'all': 4264, 'allen': 4265, 'alltag': 4266, 'alt': 4267, 'altmodische': 4268, 'america': 4269, 'anbietet': 4270, 'angebunden': 4271, 'angegriffen': 4272, 'angekettet': 4273, 'angeleint': 4274, 'angels': 4275, 'angemalt': 4276, 'angemalten': 4277, 'angeschaut': 4278, 'angeschnallt': 4279, 'angler': 4280, 'angucken': 4281, 'anhält': 4282, 'ankommenden': 4283, 'anlass': 4284, 'anleitung': 4285, 'anorak': 4286, 'anschneiden': 4287, 'anzeige': 4288, 'anziehen': 4289, 'apparat': 4290, 'arabischer': 4291, 'arbeitsplatz': 4292, 'arkade': 4293, 'arten': 4294, 'aschenbahn': 4295, 'asphaltstraße': 4296, 'atem': 4297, 'athlet': 4298, 'athleten': 4299, 'attackieren': 4300, 'au': 4301, 'aufgebaut': 4302, 'aufgehängt': 4303, 'aufgemalt': 4304, 'aufgesetzten': 4305, 'aufgestellten': 4306, 'aufhalten': 4307, 'aufkleber': 4308, 'aufnahmestudio': 4309, 'aufnehmen': 4310, 'aufnimmt': 4311, 'auftreten': 4312, 'ausführt': 4313, 'ausgefransten': 4314, 'ausgelassen': 4315, 'ausgelegt': 4316, 'ausgeschnittene': 4317, 'ausgestopfte': 4318, 'ausgestopften': 4319, 'ausland': 4320, 'aussichtspunkt': 4321, 'ausstreckt': 4322, 'auswirft': 4323, 'auszuruhen': 4324, 'auszuziehen': 4325, 'außentreppe': 4326, 'außenwand': 4327, 'backwaren': 4328, 'balance': 4329, 'ballett': 4330, 'bandkollegen': 4331, 'barett': 4332, 'barriere': 4333, 'baseballplatz': 4334, 'baseballs': 4335, 'baseman': 4336, 'baserunner': 4337, 'basketballkorb': 4338, 'basketballplatz': 4339, 'basketballwurf': 4340, 'basketbälle': 4341, 'basteln': 4342, 'bauarbeiterhelm': 4343, 'bauarbeitern': 4344, 'baumaschinen': 4345, 'baumgruppe': 4346, 'beagle': 4347, 'beamten': 4348, 'bedeckte': 4349, 'bedruckt': 4350, 'beeindruckende': 4351, 'beigefarbener': 4352, 'beisammensein': 4353, 'beleibter': 4354, 'beleuchtete': 4355, 'bellen': 4356, 'bemalte': 4357, 'bergab': 4358, 'bergpfad': 4359, 'berufskleidung': 4360, 'beruhigt': 4361, 'beschmiert': 4362, 'beschädigtes': 4363, 'besetzte': 4364, 'besitzer': 4365, 'bespritzen': 4366, 'bestehenden': 4367, 'besteigen': 4368, 'bestellung': 4369, 'betreibt': 4370, 'betreut': 4371, 'beugen': 4372, 'bewachen': 4373, 'bewertet': 4374, 'bewölktem': 4375, 'bezeichnet': 4376, 'bierflaschen': 4377, 'biergläsern': 4378, 'bikini-unterteil': 4379, 'bildet': 4380, 'bildhauer': 4381, 'bittet': 4382, 'blau-braunen': 4383, 'blau-rosa': 4384, 'blau-schwarzen': 4385, 'blau-weißer': 4386, 'blaugrünem': 4387, 'bleckt': 4388, 'blickfeld': 4389, 'bloßen': 4390, 'blumendruck': 4391, 'blumentopf': 4392, 'blut': 4393, 'blutdruck': 4394, 'bmw': 4395, 'bmx': 4396, 'bohrer': 4397, 'boje': 4398, 'bootsanlegestelle': 4399, 'bowlingspieler': 4400, 'boxkampf': 4401, 'braun-weißem': 4402, 'braunhaarigen': 4403, 'brechenden': 4404, 'breit': 4405, 'breites': 4406, 'breitet': 4407, 'brennt': 4408, 'brettern': 4409, 'briefkasten': 4410, 'bronzestatue': 4411, 'broschüren': 4412, 'brustkorb': 4413, 'bräunlichen': 4414, 'bucht': 4415, 'buden': 4416, 'bummeln': 4417, 'bustier': 4418, 'butterbrot': 4419, 'bändern': 4420, 'bärtigen': 4421, 'bücherei': 4422, 'bühnenauftritt': 4423, 'bürgersteigs': 4424, 'bürogebäude': 4425, 'cafeteria': 4426, 'camcorder': 4427, 'campern': 4428, 'cheerleaders': 4429, 'chinatown': 4430, 'choreografie': 4431, 'clubs': 4432, 'coney': 4433, 'couchtisch': 4434, 'cowboyhüten': 4435, 'cowboykleidung': 4436, 'cowboystiefeln': 4437, 'cowgirl': 4438, 'dalmatiner': 4439, 'dampf': 4440, 'danach': 4441, 'darsteller': 4442, 'darstellt': 4443, 'darum': 4444, 'dasselbe': 4445, 'dehnt': 4446, 'denken': 4447, 'designs': 4448, 'dessert': 4449, 'deutlich': 4450, 'diashow': 4451, 'dog': 4452, 'dokumente': 4453, 'donuts': 4454, 'dort': 4455, 'drachenkostüm': 4456, 'drahtseil': 4457, 'drahtzaun': 4458, 'dreckigen': 4459, 'drein': 4460, 'dreiräder': 4461, 'drinks': 4462, 'drummer': 4463, 'drängeln': 4464, 'drängt': 4465, 'duckt': 4466, 'dunkelhaarigen': 4467, 'dunkelhäutiges': 4468, 'durcheinander': 4469, 'dusche': 4470, 'dutzend': 4471, 'dutzende': 4472, 'dünner': 4473, 'east': 4474, 'ehemann': 4475, 'eierkuchen': 4476, 'eilen': 4477, 'einfach': 4478, 'eingangshalle': 4479, 'eingepacktes': 4480, 'eingerahmte': 4481, 'einzigartigen': 4482, 'eiscrem': 4483, 'eisenbahn': 4484, 'eiskrem': 4485, 'eisskulptur': 4486, 'eisstand': 4487, 'eistüten': 4488, 'eiswagens': 4489, 'el': 4490, 'em': 4491, 'enkelin': 4492, 'entdeckt': 4493, 'entfernten': 4494, 'entlangfahren': 4495, 'entlangfährt': 4496, 'entscheiden': 4497, 'erfahrener': 4498, 'erhebung': 4499, 'erklettert': 4500, 'erkunden': 4501, 'erkundet': 4502, 'ernte': 4503, 'ernten': 4504, 'errichten': 4505, 'errichtet': 4506, 'erscheint': 4507, 'erste': 4508, 'eseln': 4509, 'essensverkäufer': 4510, 'esswaren': 4511, 'europäisches': 4512, 'explosion': 4513, 'fabrikarbeiter': 4514, 'fahrgäste': 4515, 'fahrgästen': 4516, 'fallenden': 4517, 'fallschirme': 4518, 'fallschirmen': 4519, 'fallschirmspringer': 4520, 'farbiger': 4521, 'farblich': 4522, 'farbstiften': 4523, 'faust': 4524, 'fechter': 4525, 'fechtkampf': 4526, 'fechtwettkampf': 4527, 'fegen': 4528, 'felds': 4529, 'felsformationen': 4530, 'fensterbank': 4531, 'fern': 4532, 'festlichen': 4533, 'feuerwehrfahrzeug': 4534, 'feuerwehrleuten': 4535, 'filmen': 4536, 'filmset': 4537, 'finden': 4538, 'first': 4539, 'flache': 4540, 'flachem': 4541, 'fleck': 4542, 'flohmarkt': 4543, 'flug': 4544, 'flughafens': 4545, 'fond': 4546, 'football-mannschaften': 4547, 'ford': 4548, 'formellen': 4549, 'formen': 4550, 'fotoshooting': 4551, 'frankreich': 4552, 'französischen': 4553, 'frei': 4554, 'freiheitsstatue': 4555, 'freiluftkonzert': 4556, 'freiluftveranstaltung': 4557, 'freundes': 4558, 'frisches': 4559, 'friseursalon': 4560, 'fußballnetz': 4561, 'fußballspiels': 4562, 'fußballtrikots': 4563, 'fähre': 4564, 'fässer': 4565, 'fäuste': 4566, 'föhnt': 4567, 'förmlichen': 4568, 'galerie': 4569, 'galoppiert': 4570, 'ganze': 4571, 'gartenstühlen': 4572, 'gartenwerkzeug': 4573, 'gasmaske': 4574, 'gebauten': 4575, 'gebirge': 4576, 'geblockt': 4577, 'gebunden': 4578, 'geburtstagsfeier': 4579, 'gebäck': 4580, 'gebäudeeingang': 4581, 'gebückt': 4582, 'gedeckten': 4583, 'gedruckt': 4584, 'geduckter': 4585, 'gefließten': 4586, 'gefrorene': 4587, 'gefüttert': 4588, 'gegnerischer': 4589, 'gehenden': 4590, 'gehendes': 4591, 'geholt': 4592, 'gehörschutz': 4593, 'geisha': 4594, 'gekauft': 4595, 'gekreuzten': 4596, 'gelandet': 4597, 'gelb-blauen': 4598, 'geldbörsen': 4599, 'geländemaschine': 4600, 'gemeinde': 4601, 'gemeinsame': 4602, 'gemeinsamen': 4603, 'gemusterte': 4604, 'gemüsemarkt': 4605, 'gemüsestand': 4606, 'geometrischen': 4607, 'geparkte': 4608, 'gepolsterten': 4609, 'gepäckstücken': 4610, 'gern': 4611, 'gerüsten': 4612, 'geschirrspüler': 4613, 'geschminkte': 4614, 'geschminkter': 4615, 'geschnitzte': 4616, 'geschäftsanzug': 4617, 'gesellschaft': 4618, 'gesenkt': 4619, 'gesichtsmasken': 4620, 'gesichtsschutz': 4621, 'gestapelt': 4622, 'gestellt': 4623, 'gestrichenen': 4624, 'gestürzt': 4625, 'getaucht': 4626, 'getraut': 4627, 'getupften': 4628, 'gewandt': 4629, 'gewaschen': 4630, 'gewehre': 4631, 'gewicht': 4632, 'gewinnt': 4633, 'geworfenen': 4634, 'gewächshaus': 4635, 'gewänder': 4636, 'gezogenen': 4637, 'gitarrenspieler': 4638, 'gitarrespieler': 4639, 'glasur': 4640, 'gleichauf': 4641, 'gleicher': 4642, 'gläser': 4643, 'glätten': 4644, 'glättet': 4645, 'glücklichen': 4646, 'gokart': 4647, 'goldfarbener': 4648, 'golfschläger': 4649, 'gottesdienst': 4650, 'grau-weiße': 4651, 'grau-weißer': 4652, 'green': 4653, 'grindet': 4654, 'großmutter': 4655, 'grube': 4656, 'grundschulkinder': 4657, 'gruppenbild': 4658, 'gruppenfoto': 4659, 'größer': 4660, 'größerer': 4661, 'grüßt': 4662, 'guitar': 4663, 'gummistiefeln': 4664, 'haarnetz': 4665, 'haarsalon': 4666, 'habe': 4667, 'hahn': 4668, 'halbwilden': 4669, 'halloween-kostümen': 4670, 'handbewegungen': 4671, 'handgelenk': 4672, 'handgerät': 4673, 'handgriff': 4674, 'handtüchern': 4675, 'handvoll': 4676, 'harkt': 4677, 'hawaii-hemd': 4678, 'headset': 4679, 'hecke': 4680, 'helfer': 4681, 'hellblauem': 4682, 'hellblauer': 4683, 'hellem': 4684, 'henna-tattoo': 4685, 'heran': 4686, 'herausragen': 4687, 'herauszufinden': 4688, 'herbsttag': 4689, 'herde': 4690, 'hero': 4691, 'herrenfriseur': 4692, 'hindernisse': 4693, 'hingesetzt': 4694, 'hinterbeine': 4695, 'hintere': 4696, 'hintereinander': 4697, 'hintern': 4698, 'hinterrad': 4699, 'hispanoamerikaner': 4700, 'hochgelegten': 4701, 'hochspringen': 4702, 'hochstart': 4703, 'hochzeitstag': 4704, 'hochzuheben': 4705, 'hockeymannschaften': 4706, 'holzgebäude': 4707, 'holzkohlegrill': 4708, 'holztür': 4709, 'hunderennen': 4710, 'hunderte': 4711, 'hundeschau': 4712, 'husky': 4713, 'hämmert': 4714, 'hängegleiter': 4715, 'hätte': 4716, 'hölzernes': 4717, 'hörnern': 4718, 'hübscher': 4719, 'hübsches': 4720, 'hügeligen': 4721, 'identisch': 4722, 'ignoriert': 4723, 'imbissstand': 4724, 'inderin': 4725, 'indisches': 4726, 'industriegebäude': 4727, 'inlineskater': 4728, 'inne': 4729, 'innen': 4730, 'interagiert': 4731, 'interessantes': 4732, 'interessierten': 4733, 'internet': 4734, 'irgendwelchen': 4735, 'irokesenfrisur': 4736, 'island': 4737, 'jack': 4738, 'jahren': 4739, 'japaner': 4740, 'jedoch': 4741, 'jogginganzug': 4742, 'jogginghose': 4743, 'kaffeetisch': 4744, 'kahlköpfigen': 4745, 'kaltes': 4746, 'kamele': 4747, 'kampfrichter': 4748, 'kampfsportkleidung': 4749, 'kanadische': 4750, 'kapuzenjacke': 4751, 'kapuzenteil': 4752, 'karaoke': 4753, 'karneval': 4754, 'kartoffeln': 4755, 'karussel': 4756, 'kaukasische': 4757, 'kaukasischer': 4758, 'keep': 4759, 'kekse': 4760, 'kelle': 4761, 'khakis': 4762, 'kid': 4763, 'kiesweg': 4764, 'kinds': 4765, 'kino': 4766, 'klammert': 4767, 'klarem': 4768, 'kleinbus': 4769, 'kleinem': 4770, 'kleinerer': 4771, 'kletterausrüstung': 4772, 'klettergurt': 4773, 'kniend': 4774, 'knieschonern': 4775, 'knieschützern': 4776, 'kniestrümpfen': 4777, 'knochen': 4778, 'knurrt': 4779, 'kochkleidung': 4780, 'kokosnüsse': 4781, 'komischen': 4782, 'kommunizieren': 4783, 'kommuniziert': 4784, 'komplizierten': 4785, 'kontrollieren': 4786, 'kontrolliert': 4787, 'korbleger': 4788, 'korbstuhl': 4789, 'krabbe': 4790, 'krankenwagen': 4791, 'kreuzfahrtschiff': 4792, 'krone': 4793, 'kugeln': 4794, 'kundschaft': 4795, 'kurs': 4796, 'kurzhaarige': 4797, 'kurzhaariger': 4798, 'kurzärmeligen': 4799, 'kuscheln': 4800, 'käfer': 4801, 'küchenboden': 4802, 'künstlern': 4803, 'kürbisfeld': 4804, 'küstenlinie': 4805, 'la': 4806, 'laderampe': 4807, 'lager': 4808, 'landebahn': 4809, 'langärmigen': 4810, 'laterne': 4811, 'latz': 4812, 'laufbekleidung': 4813, 'laufender': 4814, 'lauschen': 4815, 'lauter': 4816, 'lebensmittelverkäufer': 4817, 'lebhaft': 4818, 'lederkleidung': 4819, 'lego': 4820, 'leichtathlet': 4821, 'leisten': 4822, 'lenkrad': 4823, 'leotard': 4824, 'lesend': 4825, 'leuchten': 4826, 'leuchtende': 4827, 'lichter': 4828, 'liebe': 4829, 'liegender': 4830, 'lilafarbenes': 4831, 'lindgrünen': 4832, 'linien': 4833, 'lugt': 4834, 'lupe': 4835, 'läden': 4836, 'löcher': 4837, 'löwen': 4838, 'machete': 4839, 'mais': 4840, 'malerische': 4841, 'manövrieren': 4842, 'manövriert': 4843, 'marathonläuferin': 4844, 'marke': 4845, 'markisen': 4846, 'marktstraße': 4847, 'marschkapelle': 4848, 'mascara': 4849, 'matschigen': 4850, 'mauern': 4851, 'maultier': 4852, 'maus': 4853, 'mechaniker': 4854, 'mechanischen': 4855, 'meditiert': 4856, 'medizinisches': 4857, 'meeresfrüchten': 4858, 'megafon': 4859, 'megaphon': 4860, 'mehrerer': 4861, 'mehrfarbigem': 4862, 'meine': 4863, 'menschlichen': 4864, 'menü': 4865, 'metallgeländer': 4866, 'metallschüssel': 4867, 'metallstück': 4868, 'mets': 4869, 'mikrophonen': 4870, 'mikroskope': 4871, 'militärangehöriger': 4872, 'militärischer': 4873, 'militärkleidung': 4874, 'minivan': 4875, 'mischung': 4876, 'mittelalterlichen': 4877, 'mittelalterlicher': 4878, 'mittelstreifen': 4879, 'mobile': 4880, 'modisch': 4881, 'modischen': 4882, 'monstertruck': 4883, 'mosaik': 4884, 'moschee': 4885, 'motorisierten': 4886, 'motorradrennfahrer': 4887, 'mountainbikes': 4888, 'muscheln': 4889, 'musikfestival': 4890, 'musikkapelle': 4891, 'musikstück': 4892, 'möbel': 4893, 'mönche': 4894, 'mündern': 4895, 'müssen': 4896, 'mütter': 4897, 'nachbarschaftsladen': 4898, 'nadelstreifenanzug': 4899, 'nagellack': 4900, 'nahost': 4901, 'neoprenanzügen': 4902, 'netzen': 4903, 'neu': 4904, 'neues': 4905, 'niedliches': 4906, 'nintendo': 4907, 'nonne': 4908, 'ny': 4909, 'oberhemden': 4910, 'oberkörpern': 4911, 'obstkarren': 4912, 'offen': 4913, 'offiziere': 4914, 'ohio': 4915, 'ohrring': 4916, 'ollie': 4917, 'operieren': 4918, 'orange-weiß': 4919, 'orange-weißen': 4920, 'oranges': 4921, 'outdoor-veranstaltung': 4922, 'oxford': 4923, 'paddelboot': 4924, 'papiertüte': 4925, 'pappkarton': 4926, 'parallel': 4927, 'parkettboden': 4928, 'parkweg': 4929, 'passant': 4930, 'patientin': 4931, 'per': 4932, 'personal': 4933, 'pfahl': 4934, 'pferderücken': 4935, 'pferds': 4936, 'pflücken': 4937, 'picknickbank': 4938, 'picknickdecke': 4939, 'picknicktischen': 4940, 'pinkfarbenes': 4941, 'pirat': 4942, 'piraten': 4943, 'piñata': 4944, 'planschbecken': 4945, 'plastikrutsche': 4946, 'plastikstuhl': 4947, 'plastiktüten': 4948, 'plattenspieler': 4949, 'platzes': 4950, 'po': 4951, 'polizeibeamte': 4952, 'polospieler': 4953, 'poncho': 4954, 'posen': 4955, 'prahlt': 4956, 'proben': 4957, 'produkten': 4958, 'professioneller': 4959, 'programm': 4960, 'protest': 4961, 'protestkundgebung': 4962, 'prozession': 4963, 'prunkvollen': 4964, 'präsentieren': 4965, 'pulli': 4966, 'puzzle': 4967, 'quadraten': 4968, 'qualmt': 4969, 'r': 4970, 'radsportler': 4971, 'radweg': 4972, 'rampenlicht': 4973, 'rastet': 4974, 'rechen': 4975, 'redend': 4976, 'reflektierender': 4977, 'regenstiefeln': 4978, 'reh': 4979, 'reibt': 4980, 'reiher': 4981, 'reise': 4982, 'reißt': 4983, 'reklame': 4984, 'religiösen': 4985, 'rennautos': 4986, 'rennhunde': 4987, 'rennkleidung': 4988, 'renoviert': 4989, 'reparatur': 4990, 'rest': 4991, 'restauranttisch': 4992, 'retriever': 4993, 'riesiges': 4994, 'rings': 4995, 'ringträger': 4996, 'rockt': 4997, 'rodeo-arena': 4998, 'rohre': 4999, 'rollkoffer': 5000, 'rollkragenpullover': 5001, 'rollschuhen': 5002, 'rosarot': 5003, 'rot-gelber': 5004, 'rot-weißer': 5005, 'rotbraunen': 5006, 'rotweißen': 5007, 'rugby-spieler': 5008, 'rugbyspiel': 5009, 'rummel': 5010, 'rundherum': 5011, 'rötlichen': 5012, 'rückt': 5013, 'rüstung': 5014, 'saft': 5015, 'sagen': 5016, 'saiten': 5017, 'saiteninstrumente': 5018, 'salon': 5019, 'sandale': 5020, 'sanddünen': 5021, 'sandplatz': 5022, 'sandwiches': 5023, 'sattelzug': 5024, 'satz': 5025, 'sauna': 5026, 'schalen': 5027, 'scharfe': 5028, 'schaum': 5029, 'scheiben': 5030, 'scheren': 5031, 'schicken': 5032, 'schickt': 5033, 'schiffes': 5034, 'schildkappe': 5035, 'schindeln': 5036, 'schlachtet': 5037, 'schlammgrube': 5038, 'schlammpfütze': 5039, 'schlauchbooten': 5040, 'schlepper': 5041, 'schleudert': 5042, 'schluck': 5043, 'schlägern': 5044, 'schläuchen': 5045, 'schmerzen': 5046, 'schmutzigem': 5047, 'schnappschuss': 5048, 'schneebedecktem': 5049, 'schneewehe': 5050, 'schottenrock': 5051, 'schrank': 5052, 'schreibtischen': 5053, 'schreitet': 5054, 'schrift': 5055, 'schriftzug': 5056, 'schräg': 5057, 'schubsen': 5058, 'schuhputzer': 5059, 'schulband': 5060, 'schultertasche': 5061, 'schutthaufen': 5062, 'schutzbrillen': 5063, 'schutzweste': 5064, 'schwamm': 5065, 'schwarm': 5066, 'schwarz-gelben': 5067, 'schwarzhaarigen': 5068, 'schwein': 5069, 'schwerem': 5070, 'schwestern': 5071, 'schwimmanzug': 5072, 'schwimmbeckens': 5073, 'schwimmbrillen': 5074, 'schwimmern': 5075, 'schwitzt': 5076, 'schöpft': 5077, 'schützend': 5078, 'seesack': 5079, 'seetang': 5080, 'segeln': 5081, 'seht': 5082, 'seichtes': 5083, 'seilrutsche': 5084, 'seilspielzeug': 5085, 'seitenstraße': 5086, 'seltsamer': 5087, 'senffarbenen': 5088, 'senkrecht': 5089, 'sichtbaren': 5090, 'sieb': 5091, 'silbernes': 5092, 'skaten': 5093, 'skates': 5094, 'skijacke': 5095, 'skiläufer': 5096, 'skistöcken': 5097, 'smokings': 5098, 'sofas': 5099, 'softballspiel': 5100, 'softballspieler': 5101, 'softballspiels': 5102, 'solo': 5103, 'sombrero': 5104, 'sommer': 5105, 'sonnendurchfluteten': 5106, 'sonnenschild': 5107, 'sonnentag': 5108, 'sonnt': 5109, 'spanien': 5110, 'spanische': 5111, 'spazierstöcken': 5112, 'spektakulären': 5113, 'spielautomaten': 5114, 'spielgerät': 5115, 'spielhalle': 5116, 'spielzeugzug': 5117, 'spitz': 5118, 'spitzbart': 5119, 'spitzen': 5120, 'sport-bh': 5121, 'sportbekleidung': 5122, 'sportgeschäft': 5123, 'sporthose': 5124, 'sprintet': 5125, 'spritzwasser': 5126, 'sprungs': 5127, 'sprungtritt': 5128, 'sprungwurf': 5129, 'spuren': 5130, 'spülen': 5131, 'stacheligen': 5132, 'stadtbild': 5133, 'stadtgebiet': 5134, 'stapeln': 5135, 'start': 5136, 'state': 5137, 'staubsaugerschlauch': 5138, 'steaks': 5139, 'steigung': 5140, 'steindenkmal': 5141, 'stemmt': 5142, 'stirnbändern': 5143, 'stoffe': 5144, 'stoffhut': 5145, 'stofftiere': 5146, 'stop': 5147, 'stoppen': 5148, 'stoß': 5149, 'stramm': 5150, 'straßenbahn': 5151, 'straßenkleidung': 5152, 'straßenlampe': 5153, 'straßenlaterne': 5154, 'straßenschild': 5155, 'straßenstand': 5156, 'streut': 5157, 'stricken': 5158, 'strümpfen': 5159, 'sturzhelm': 5160, 'stutzt': 5161, 'stämmige': 5162, 'ständen': 5163, 'stückchen': 5164, 'substanz': 5165, 'summer': 5166, 'sumpfgebiet': 5167, 'sweatshirts': 5168, 'synchron': 5169, 'säcken': 5170, 'säubern': 5171, 'söhne': 5172, 'tabak': 5173, 'tabletts': 5174, 'tackeln': 5175, 'tandem': 5176, 'tank': 5177, 'tanktops': 5178, 'tanzenden': 5179, 'tarnhose': 5180, 'tarnmuster': 5181, 'tastatur': 5182, 'tattoos': 5183, 'tauscht': 5184, 'teamkollegen': 5185, 'teammitglied': 5186, 'teddybären': 5187, 'tennisspiel': 5188, 'teppichboden': 5189, 'teppiche': 5190, 'teppichen': 5191, 'testen': 5192, 'tiefe': 5193, 'tiefes': 5194, 'tiger': 5195, 'to': 5196, 'toilette': 5197, 'tonstudio': 5198, 'torte': 5199, 'torwart': 5200, 'touristengruppe': 5201, 'tragend': 5202, 'transportieren': 5203, 'transportmittel': 5204, 'transportwagen': 5205, 'traurigen': 5206, 'trauriges': 5207, 'trauzeugen': 5208, 'treppenhauses': 5209, 'trikotnummer': 5210, 'trompeter': 5211, 'truppe': 5212, 'trübes': 5213, 'tulpen': 5214, 'tunika': 5215, 'turnschuhe': 5216, 'tutus': 5217, 'twister': 5218, 'täglichen': 5219, 'tätowiert': 5220, 'töpferware': 5221, 'türkis': 5222, 'u-bahn-wagen': 5223, 'u-bahnhof': 5224, 'ukulele': 5225, 'umgedreht': 5226, 'umgekippten': 5227, 'umgibt': 5228, 'unbekannten': 5229, 'unechten': 5230, 'ungewöhnlich': 5231, 'unicef': 5232, 'university': 5233, 'universität': 5234, 'unkraut': 5235, 'unterlagen': 5236, 'unterstützung': 5237, 'unüberdachten': 5238, 'urbanen': 5239, 'us-armee': 5240, 'veranstaltungsort': 5241, 'verheiratete': 5242, 'verkehrsmittel': 5243, 'verkehrsreichen': 5244, 'verletzte': 5245, 'verletzten': 5246, 'verloren': 5247, 'verläuft': 5248, 'vermähltes': 5249, 'verrichtet': 5250, 'verrückter': 5251, 'verschwommen': 5252, 'versenkt': 5253, 'versetzt': 5254, 'verstreut': 5255, 'verteidigt': 5256, 'vervollständigt': 5257, 'verwendung': 5258, 'verzerrtes': 5259, 'vieh': 5260, 'vielzahl': 5261, 'viertel': 5262, 'vogelschwarm': 5263, 'volkswagen': 5264, 'volle': 5265, 'volleyballspielerin': 5266, 'vollständig': 5267, 'voneinander': 5268, 'vorbeilaufen': 5269, 'vordere': 5270, 'vorführen': 5271, 'vorm': 5272, 'vorschlaghammer': 5273, 'vortragssaal': 5274, 'vorübergeht': 5275, 'waage': 5276, 'wache': 5277, 'wade': 5278, 'waldhorn': 5279, 'walkie-talkie': 5280, 'wanderausrüstung': 5281, 'wanderern': 5282, 'wanderin': 5283, 'wanderstöcke': 5284, 'wandtafel': 5285, 'ware': 5286, 'warmer': 5287, 'wartebereich': 5288, 'wartenden': 5289, 'wartungsarbeiten': 5290, 'wartungsarbeiter': 5291, 'wasserball': 5292, 'wasserfalls': 5293, 'wassernähe': 5294, 'wasserpfütze': 5295, 'wasserpistole': 5296, 'wasserpistolen': 5297, 'wasserweg': 5298, 'weht': 5299, 'weiblicher': 5300, 'weicht': 5301, 'weihnachtszeit': 5302, 'weinglas': 5303, 'weise': 5304, 'weite': 5305, 'weiten': 5306, 'weiteres': 5307, 'weizen': 5308, 'weiß-blauen': 5309, 'weiß-grauen': 5310, 'weiß-grünen': 5311, 'weiß-roten': 5312, 'werbeanzeige': 5313, 'werdender': 5314, 'werkzeuggürtel': 5315, 'wildblumen': 5316, 'windsurfer': 5317, 'winterjacken': 5318, 'wissenschaftlichen': 5319, 'wochenmarkt': 5320, 'wohngegend': 5321, 'wohnmobil': 5322, 'wohnwagen': 5323, 'wok': 5324, 'wollen': 5325, 'worauf': 5326, 'wort': 5327, 'wunderkerze': 5328, 'wunderkerzen': 5329, 'wunderschönes': 5330, 'wählen': 5331, 'wäldern': 5332, 'wärmen': 5333, 'wörter': 5334, 'wühlt': 5335, 'würstchen': 5336, 'zahlen': 5337, 'zahlreichen': 5338, 'zahnspange': 5339, 'zeichnungen': 5340, 'zeigefinger': 5341, 'zementmischer': 5342, 'zerren': 5343, 'ziegelstraße': 5344, 'zielen': 5345, 'zombies': 5346, 'zopf': 5347, 'zugabteil': 5348, 'zusammengedrängt': 5349, 'zusammengefunden': 5350, 'zusammenkunft': 5351, 'zweck': 5352, 'zweig': 5353, 'zweige': 5354, 'zweigen': 5355, 'zwickt': 5356, 'ähnlicher': 5357, 'ändert': 5358, 'äpfeln': 5359, 'ärmelloses': 5360, 'ästen': 5361, 'öffentlicher': 5362, 'öffnung': 5363, 'örtlicher': 5364, 'übereinander': 5365, 'übergeben': 5366, 'übergewichtige': 5367, 'übergroßen': 5368, 'übernimmt': 5369, 'überreicht': 5370, 'übers': 5371, 'übersäten': 5372, '”': 5373, '%': 5374, '..': 5375, '1': 5376, '13': 5377, '14': 5378, '2.': 5379, '25.': 5380, '30ern': 5381, '38': 5382, '50': 5383, '63': 5384, '7': 5385, '96.': 5386, '@@': 5387, 'a.': 5388, 'abdeckplane': 5389, 'abdeckung': 5390, 'abendbrottisch': 5391, 'abendlichen': 5392, 'abfahrt': 5393, 'abfall': 5394, 'abfallenden': 5395, 'abflug': 5396, 'abgefeuert': 5397, 'abgelassen': 5398, 'abgeleckt': 5399, 'abgelenkt': 5400, 'abhebt': 5401, 'abhängen': 5402, 'abkühlen': 5403, 'abprallen': 5404, 'absatz': 5405, 'abschluss': 5406, 'absolvieren': 5407, 'absperrungen': 5408, 'abwischt': 5409, 'abzeichen': 5410, 'abzuspielen': 5411, 'achten': 5412, 'acker': 5413, 'ackerland': 5414, 'afrika': 5415, 'afro': 5416, 'afro-amerikanischer': 5417, 'aggressiv': 5418, 'ahornblatt': 5419, 'air': 5420, 'akrobatik': 5421, 'akrobatin': 5422, 'aktiv': 5423, 'aktivitäten': 5424, 'algen': 5425, 'allee': 5426, 'allem': 5427, 'alles': 5428, 'allradfahrzeug': 5429, 'altar': 5430, 'american': 5431, 'amische': 5432, 'amp': 5433, 'angefahren': 5434, 'angehobenen': 5435, 'angehört': 5436, 'angelausflug': 5437, 'angelegt': 5438, 'angeles': 5439, 'angeleuchtet': 5440, 'angeseilt': 5441, 'angestarrt': 5442, 'angestrengt': 5443, 'angreifer': 5444, 'angriff': 5445, 'angst': 5446, 'anguckt': 5447, 'anhören': 5448, 'ankunft': 5449, 'ansichten': 5450, 'anspiel': 5451, 'anstatt': 5452, 'antworten': 5453, 'anzugucken': 5454, 'anzuschauen': 5455, 'anzuzünden': 5456, 'apartment': 5457, 'apotheke': 5458, 'applaudiert': 5459, 'apple': 5460, 'apple-computer': 5461, 'arbeitenden': 5462, 'arbeitender': 5463, 'arbeitsbank': 5464, 'arbeitshandschuhe': 5465, 'arbeitsort': 5466, 'arbeitstag': 5467, 'arbeitswesten': 5468, 'arcade-spiel': 5469, 'architektonischen': 5470, 'archäologen': 5471, 'are': 5472, 'armbanduhr': 5473, 'armbändern': 5474, 'armut': 5475, 'arrangiert': 5476, 'asphaltbelag': 5477, 'astronautenanzug': 5478, 'atmet': 5479, 'attackiert': 5480, 'auditorium': 5481, 'aufbäumenden': 5482, 'aufgehenden': 5483, 'aufgeregtes': 5484, 'aufgesetztem': 5485, 'aufgesetzter': 5486, 'aufgespannt': 5487, 'aufgewühlte': 5488, 'aufklebern': 5489, 'aufsicht': 5490, 'aufsitzmäher': 5491, 'aufstellt': 5492, 'auftragen': 5493, 'aufträgt': 5494, 'aufwirbelt': 5495, 'aufwärts': 5496, 'aufzufallen': 5497, 'aufzuführen': 5498, 'aufzuschlagen': 5499, 'augen-makeup': 5500, 'augenbraue': 5501, 'augenschein': 5502, 'augenschutz': 5503, 'auseinander': 5504, 'ausgefallenem': 5505, 'ausgehen': 5506, 'ausgestreckter': 5507, 'ausgetragen': 5508, 'auspackt': 5509, 'ausrichten': 5510, 'ausruhen': 5511, 'aussteigen': 5512, 'ausstellungsraum': 5513, 'auszeit': 5514, 'auszuprobieren': 5515, 'autodach': 5516, 'autofahrer': 5517, 'autofenster': 5518, 'automaten': 5519, 'autor': 5520, 'außenanlage': 5521, 'außer': 5522, 'backsteinweg': 5523, 'badeshorts': 5524, 'badezeug': 5525, 'badminton': 5526, 'badmintonspieler': 5527, 'bagel-laden': 5528, 'bahnarbeiter': 5529, 'bahngleis': 5530, 'bahnhofs': 5531, 'bahnhofsgebäude': 5532, 'bahnrennen': 5533, 'bahnschienen': 5534, 'bahntunnel': 5535, 'ballerinas': 5536, 'ballettklasse': 5537, 'balletttänzer': 5538, 'balletttänzerinnen': 5539, 'ballonfiguren': 5540, 'ballontier': 5541, 'bande': 5542, 'bandmitglied': 5543, 'banjospieler': 5544, 'barbecue': 5545, 'barkeeperin': 5546, 'baseballcap': 5547, 'baseballhandschuh': 5548, 'baseballstadion': 5549, 'baseballteam': 5550, 'baseballuniform': 5551, 'basketballkorbs': 5552, 'basketballmannschaft': 5553, 'basketballspielerin': 5554, 'bassist': 5555, 'batik-muster': 5556, 'batik-oberteil': 5557, 'batman': 5558, 'batter': 5559, 'bauchtänzerin': 5560, 'bauern': 5561, 'baugerät': 5562, 'baumaschine': 5563, 'baumbestandenen': 5564, 'baumbewachsenen': 5565, 'baumgrenze': 5566, 'baumlosen': 5567, 'baumreichen': 5568, 'baumstamms': 5569, 'bauten': 5570, 'be-': 5571, 'beamter': 5572, 'beanie': 5573, 'bearbeiten': 5574, 'bears': 5575, 'becherglas': 5576, 'bechern': 5577, 'bedecktem': 5578, 'bedruckter': 5579, 'beeindrucken': 5580, 'beeindruckenden': 5581, 'befindliche': 5582, 'befreien': 5583, 'befördern': 5584, 'begeistertes': 5585, 'beginnender': 5586, 'begleitung': 5587, 'behandelt': 5588, 'behinderte': 5589, 'beiderseits': 5590, 'beige': 5591, 'beigebracht': 5592, 'beigefarben': 5593, 'beigem': 5594, 'beil': 5595, 'beinhaltet': 5596, 'beispiel': 5597, 'bekannten': 5598, 'bekannter': 5599, 'bekleideten': 5600, 'bekleidetes': 5601, 'beladenes': 5602, 'belag': 5603, 'belegten': 5604, 'beleuchteter': 5605, 'beleuchtetes': 5606, 'bellt': 5607, 'bemalen': 5608, 'bemaltem': 5609, 'benzin': 5610, 'benötigt': 5611, 'beobachter': 5612, 'bergauf': 5613, 'berggipfeln': 5614, 'bergkette': 5615, 'bergspitze': 5616, 'bergwand': 5617, 'bergwanderweg': 5618, 'bergweg': 5619, 'berieselungsanlage': 5620, 'berittener': 5621, 'berlin': 5622, 'bernsteinfarbener': 5623, 'berät': 5624, 'berühmten': 5625, 'beschließen': 5626, 'beschmierte': 5627, 'beschneidet': 5628, 'beschreibt': 5629, 'beschreibung': 5630, 'beschädigten': 5631, 'beschäftigter': 5632, 'beseitigen': 5633, 'besetztes': 5634, 'besichtigen': 5635, 'besonderen': 5636, 'besonders': 5637, 'besprechung': 5638, 'bespricht': 5639, 'besprüht': 5640, 'besseren': 5641, 'bestaunen': 5642, 'besteck': 5643, 'besten': 5644, 'bestimmte': 5645, 'bestimmten': 5646, 'besucher': 5647, 'besuchern': 5648, 'beteiligen': 5649, 'betonblock': 5650, 'betongebäude': 5651, 'betonierten': 5652, 'betonkonstruktion': 5653, 'betonsperren': 5654, 'betreiben': 5655, 'betrieben': 5656, 'betrunken': 5657, 'bettdecke': 5658, 'betten': 5659, 'bevölkerten': 5660, 'bewachsenen': 5661, 'bewaffneten': 5662, 'bewegungslos': 5663, 'bewirft': 5664, 'beworfen': 5665, 'bewölkter': 5666, 'biene': 5667, 'biergarten': 5668, 'big': 5669, 'bikes': 5670, 'bikinioberteile': 5671, 'bilderbuch': 5672, 'bilds': 5673, 'bill': 5674, 'bin': 5675, 'birthday': 5676, 'bisschen': 5677, 'bissen': 5678, 'blasinstrument': 5679, 'blasinstrumente': 5680, 'blasinstrumenten': 5681, 'blau-gelber': 5682, 'blau-weiße': 5683, 'blau-weißem': 5684, 'blau-weißes': 5685, 'blech': 5686, 'bleistiftrock': 5687, 'blondine': 5688, 'blumengeschäft': 5689, 'blumenladen': 5690, 'blumentöpfe': 5691, 'blutender': 5692, 'blühender': 5693, 'blüte': 5694, 'blütenblätter': 5695, 'boa': 5696, 'boards': 5697, 'bockendes': 5698, 'bodenball': 5699, 'bodennähe': 5700, 'body': 5701, 'bodyboard': 5702, 'bodybuilder': 5703, 'bodysuit': 5704, 'bohnen': 5705, 'bongos': 5706, 'boogie': 5707, 'boogieboard': 5708, 'bootsdeck': 5709, 'bootsfahrern': 5710, 'bordercollie': 5711, 'boss': 5712, 'bottich': 5713, 'boutique': 5714, 'bowlt': 5715, 'box': 5716, 'boxershorts': 5717, 'boxring': 5718, 'boxt': 5719, 'boy': 5720, 'boys': 5721, 'brand': 5722, 'braucht': 5723, 'braun-schwarz-weißer': 5724, 'braun-schwarze': 5725, 'braunschwarzer': 5726, 'brautpaar': 5727, 'brautstrauß': 5728, 'breakdancer': 5729, 'breite': 5730, 'brennen': 5731, 'brennendes': 5732, 'bretter': 5733, 'brezeln': 5734, 'brieftasche': 5735, 'britischen': 5736, 'brokkoli': 5737, 'brotlaib': 5738, 'brotstand': 5739, 'brusttief': 5740, 'brötchen': 5741, 'brüder': 5742, 'brünetter': 5743, 'brüsten': 5744, 'brüstung': 5745, 'buches': 5746, 'buchladen': 5747, 'buckelndes': 5748, 'buckelt': 5749, 'buddeln': 5750, 'bukett': 5751, 'bulldogge': 5752, 'bummelt': 5753, 'buntstiften': 5754, 'burg': 5755, 'burger': 5756, 'burgunderfarbener': 5757, 'burka': 5758, 'busfahrer': 5759, 'busfenster': 5760, 'busse': 5761, 'bussen': 5762, 'button-down-hemd': 5763, 'bäcker': 5764, 'bäckt': 5765, 'bänder': 5766, 'bären': 5767, 'bäuchlings': 5768, 'bögen': 5769, 'büchertasche': 5770, 'bühnenlicht': 5771, 'bühnenmitte': 5772, 'bündeln': 5773, 'bürgerkriegs': 5774, 'bürgerstein': 5775, 'büroarbeit': 5776, 'bürogebäudes': 5777, 'cadillac': 5778, 'campen': 5779, 'camper': 5780, 'campingausrüstung': 5781, 'campingstuhl': 5782, 'campingstühlen': 5783, 'canyon': 5784, 'caprihosen': 5785, 'capris': 5786, 'care': 5787, 'cellospieler': 5788, 'center': 5789, 'champagner': 5790, 'cheerleader-gruppe': 5791, 'cheerleader-outfit': 5792, 'chef': 5793, 'chefkoch': 5794, 'chefs': 5795, 'chevrolet': 5796, 'children': 5797, 'chinese': 5798, 'chinesen': 5799, 'chirurgischen': 5800, 'circus': 5801, 'clear': 5802, 'cocktails': 5803, 'cola': 5804, 'college-studenten': 5805, 'collegestudenten': 5806, 'comicfigur': 5807, 'company': 5808, 'computers': 5809, 'cool': 5810, 'coolen': 5811, 'corgi': 5812, 'cowboy-hut': 5813, 'cowboy-kleidung': 5814, 'cowboyhüte': 5815, 'cowgirl-hut': 5816, 'crew': 5817, 'crocs': 5818, 'cupcakes': 5819, 'dachdecker': 5820, 'dachziegel': 5821, 'damenunterwäsche': 5822, 'danebenstehen': 5823, 'dann': 5824, 'dar': 5825, 'dargestellt': 5826, 'darth': 5827, 'dasteht': 5828, 'davidstern': 5829, 'de': 5830, 'dead': 5831, 'deckeln': 5832, 'deere': 5833, 'deere-traktor': 5834, 'defense': 5835, 'defensive': 5836, 'dehnen': 5837, 'delfin': 5838, 'deli': 5839, 'demselben': 5840, 'denselben': 5841, 'design': 5842, 'desserts': 5843, 'dichten': 5844, 'dickem': 5845, 'dient': 5846, 'dinosaurier': 5847, 'dir': 5848, 'display': 5849, 'diverse': 5850, 'diversen': 5851, 'djs': 5852, 'dogge': 5853, 'dojo': 5854, 'doktor': 5855, 'dominiert': 5856, 'doppeldeckerbus': 5857, 'drache': 5858, 'drachenflieger': 5859, 'dramatisch': 5860, 'drauf': 5861, 'dreckige': 5862, 'drehen': 5863, 'dreifarbiger': 5864, 'dreirädern': 5865, 'driftet': 5866, 'drittes': 5867, 'ds': 5868, 'dummes': 5869, 'dung': 5870, 'dunkelgrüner': 5871, 'dunkle': 5872, 'dunkleren': 5873, 'durchnässt': 5874, 'durchquert': 5875, 'durchschnittlich': 5876, 'durchsichtige': 5877, 'durchsichtigen': 5878, 'durchsuchen': 5879, 'durchtrennt': 5880, 'dösen': 5881, 'döst': 5882, 'dünnes': 5883, 'e': 5884, 'ebenso': 5885, 'ehepaar': 5886, 'eichhörnchen': 5887, 'eien': 5888, 'eiffelturm': 5889, 'eifrig': 5890, 'eilt': 5891, 'ein-': 5892, 'einbruch': 5893, 'eindruck': 5894, 'einfährt': 5895, 'eingebuddelt': 5896, 'eingehüllt': 5897, 'eingelassenen': 5898, 'eingepackt': 5899, 'eingezäunte': 5900, 'einheimische': 5901, 'einheimischen': 5902, 'einhändigen': 5903, 'einkaufskorb': 5904, 'einkaufstüte': 5905, 'einkaufszentrums': 5906, 'einsatzkräfte': 5907, 'einstellt': 5908, 'einzelnen': 5909, 'einzelpersonen': 5910, 'einzusteigen': 5911, 'eisenstange': 5912, 'eisfläche': 5913, 'eisigen': 5914, 'eiskunstläufer': 5915, 'eisläufer': 5916, 'eistee': 5917, 'eiszapfen': 5918, 'ekstatisch': 5919, 'elefant': 5920, 'eleganten': 5921, 'elektrische': 5922, 'elektrogerät': 5923, 'elektronisches': 5924, 'elementary': 5925, 'ellbogen': 5926, 'ellenbogen': 5927, 'elmo-motiv': 5928, 'elmo-puppe': 5929, 'empfang': 5930, 'end': 5931, 'enden': 5932, 'engelskostümen': 5933, 'engelsstatue': 5934, 'englische': 5935, 'entgehen': 5936, 'entleert': 5937, 'entlädt': 5938, 'entscheidung': 5939, 'entschlossen': 5940, 'entsetzt': 5941, 'entsorgt': 5942, 'entwirft': 5943, 'entwirren': 5944, 'erdbeere': 5945, 'erforschen': 5946, 'erfrischenden': 5947, 'erhöht': 5948, 'erhöhte': 5949, 'erinnern': 5950, 'erkennen': 5951, 'erklären': 5952, 'erlangen': 5953, 'erledigt': 5954, 'ernstem': 5955, 'erobern': 5956, 'erregt': 5957, 'errichteten': 5958, 'erschöpft': 5959, 'erstellt': 5960, 'erwachsenes': 5961, 'erzeugt': 5962, 'erörtert': 5963, 'espresso': 5964, 'essenstisch': 5965, 'essenszubereitung': 5966, 'esstischen': 5967, 'ethnischen': 5968, 'ethnischer': 5969, 'etliche': 5970, 'europäischen': 5971, 'europäischer': 5972, 'exponat': 5973, 'express': 5974, 'eyeliner': 5975, 'fachkräfte': 5976, 'faden': 5977, 'fahrbahn': 5978, 'fahrersitz': 5979, 'fahrgast': 5980, 'fahrrad-': 5981, 'fahrradfahren': 5982, 'fahrradhelme': 5983, 'fahrradhelmen': 5984, 'fahrradkleidung': 5985, 'fahrradmechaniker': 5986, 'fahrradrahmen': 5987, 'fahrradständer': 5988, 'fahrradtaxi': 5989, 'fahrradtour': 5990, 'falke': 5991, 'falken': 5992, 'fallschirmsegeln': 5993, 'falsch': 5994, 'falsche': 5995, 'falten': 5996, 'faltet': 5997, 'familien': 5998, 'familienmitglieder': 5999, 'fanghandschuh': 6000, 'farbdose': 6001, 'farbenprächtigen': 6002, 'farbspritzern': 6003, 'farbwalze': 6004, 'farm': 6005, 'farn': 6006, 'fassen': 6007, 'fau': 6008, 'federhut': 6009, 'fee': 6010, 'fehlt': 6011, 'feierlicher': 6012, 'feiertage': 6013, 'feil': 6014, 'felder': 6015, 'feldern': 6016, 'feldhockeyspieler': 6017, 'felsblocks': 6018, 'fensterfront': 6019, 'fensters': 6020, 'ferkel': 6021, 'ferngesteuerten': 6022, 'fersen': 6023, 'fertiggestellten': 6024, 'festgehalten': 6025, 'festgemacht': 6026, 'festlich': 6027, 'festsaal': 6028, 'festumzugs': 6029, 'festzuhalten': 6030, 'fetzen': 6031, 'feuchtgebiet': 6032, 'feuerball': 6033, 'feuerhydranten': 6034, 'feuern': 6035, 'feuers': 6036, 'feuerwehr': 6037, 'feuerwehrangehöriger': 6038, 'feuerwehrhelm': 6039, 'feuerwehrmitarbeiter': 6040, 'feuerwehrschlauch': 6041, 'feuerwerkskörper': 6042, 'filmcrew': 6043, 'filmplakat': 6044, 'fingernägeln': 6045, 'fingerspitzen': 6046, 'fire': 6047, 'fischernetze': 6048, 'fischzug': 6049, 'fitte': 6050, 'flankiert': 6051, 'flattern': 6052, 'flattert': 6053, 'flauschige': 6054, 'fleißig': 6055, 'flickt': 6056, 'fliederfarbenen': 6057, 'fliederfarbener': 6058, 'fliegender': 6059, 'fliegenfischen': 6060, 'fließenden': 6061, 'flucht': 6062, 'flugbegleitung': 6063, 'flugblatt': 6064, 'fluggäste': 6065, 'flussabwärts': 6066, 'flyer': 6067, 'flößen': 6068, 'flüstern': 6069, 'flüstert': 6070, 'fontänen': 6071, 'football-coach': 6072, 'footballs': 6073, 'footballteams': 6074, 'force': 6075, 'formalitäten': 6076, 'formation': 6077, 'formelle': 6078, 'formiert': 6079, 'fort': 6080, 'fotoalbum': 6081, 'fototermin': 6082, 'fotovorlage': 6083, 'foyer': 6084, 'frack': 6085, 'fragen': 6086, 'francisco': 6087, 'frauengruppe': 6088, 'freibad': 6089, 'freie': 6090, 'freies': 6091, 'freiluftbühne': 6092, 'freiwurf': 6093, 'fremde': 6094, 'fremdländischer': 6095, 'frequentierten': 6096, 'fressen': 6097, 'freue': 6098, 'freundesgruppe': 6099, 'freundlich': 6100, 'frisbee-spiel': 6101, 'frisbees': 6102, 'friseurladen': 6103, 'friseurstuhl': 6104, 'frisst': 6105, 'frog': 6106, 'front': 6107, 'frontscheibe': 6108, 'frucht': 6109, 'frühen': 6110, 'frühlingstag': 6111, 'frühstück': 6112, 'fußballer': 6113, 'fußballs': 6114, 'fußballspielern': 6115, 'fußbrücke': 6116, 'fußbälle': 6117, 'fußgängerüberwegs': 6118, 'fußspuren': 6119, 'fäden': 6120, 'fähigkeiten': 6121, 'fässern': 6122, 'fäustlingen': 6123, 'föhn': 6124, 'förderband': 6125, 'förmlich': 6126, 'fügt': 6127, 'führer': 6128, 'fülle': 6129, 'gangs': 6130, 'gap-geschäft': 6131, 'garnelen': 6132, 'gart': 6133, 'gartenarbeit': 6134, 'gasgrill': 6135, 'gast': 6136, 'gastronomiebereich': 6137, 'gebadet': 6138, 'gebeugten': 6139, 'gebeugter': 6140, 'gebiets': 6141, 'gebilde': 6142, 'gebildet': 6143, 'geblieben': 6144, 'gebogen': 6145, 'gebräunte': 6146, 'gebäudekomplex': 6147, 'gebüsch': 6148, 'gedeckt': 6149, 'gedicht': 6150, 'gedreht': 6151, 'geeigneten': 6152, 'gefaltet': 6153, 'gefalteten': 6154, 'gefertigt': 6155, 'gefleckte': 6156, 'gefleckten': 6157, 'geflügel': 6158, 'gefährt': 6159, 'gefälle': 6160, 'gefärbter': 6161, 'gefüllte': 6162, 'gegangen': 6163, 'gegnerin': 6164, 'gegnern': 6165, 'gegners': 6166, 'gehaltenen': 6167, 'gehe': 6168, 'gehege': 6169, 'geheimnisvoller': 6170, 'gehgestell': 6171, 'gehört': 6172, 'geigenspieler': 6173, 'geklettert': 6174, 'geknöpften': 6175, 'gekrönt': 6176, 'gekühlten': 6177, 'gelangweilt': 6178, 'gelassen': 6179, 'gelbbraunem': 6180, 'geländefahrer': 6181, 'geländefahrzeugs': 6182, 'gemauerten': 6183, 'gemessen': 6184, 'gemischte': 6185, 'gemischter': 6186, 'gemustertem': 6187, 'gemähte': 6188, 'gemäldes': 6189, 'gemüseauslage': 6190, 'geneigtem': 6191, 'geneigten': 6192, 'genommen': 6193, 'gepolsterte': 6194, 'gepolsterter': 6195, 'gepäcktasche': 6196, 'gerahmte': 6197, 'gereicht': 6198, 'gerichteten': 6199, 'geringer': 6200, 'geräte': 6201, 'geräts': 6202, 'gescheckter': 6203, 'geschenken': 6204, 'geschenkpapier': 6205, 'geschieht': 6206, 'geschleudert': 6207, 'geschlungen': 6208, 'geschnittenen': 6209, 'geschnitzten': 6210, 'geschäfte': 6211, 'geschäftsviertel': 6212, 'geselligen': 6213, 'gesenkten': 6214, 'gesichtsfarbe': 6215, 'gesprüht': 6216, 'gestalt': 6217, 'getreten': 6218, 'getrocknet': 6219, 'getönten': 6220, 'gewalt': 6221, 'gewebe': 6222, 'gewebten': 6223, 'gewichte': 6224, 'gewundenen': 6225, 'gewürze': 6226, 'gezeichneten': 6227, 'gipfeln': 6228, 'gips': 6229, 'gitarrenkoffer': 6230, 'gitarrespielen': 6231, 'gitarristin': 6232, 'glasbehälter': 6233, 'glasbläser': 6234, 'glasflasche': 6235, 'glasflaschen': 6236, 'glasgebäudes': 6237, 'glasscheibe': 6238, 'glatten': 6239, 'glatzköpfige': 6240, 'glitzernden': 6241, 'glocke': 6242, 'goalie': 6243, 'gokart-fahrer': 6244, 'goldene': 6245, 'goldfarbenes': 6246, 'goldgelbe': 6247, 'goldschmuck': 6248, 'golfen': 6249, 'grabenbagger': 6250, 'grand': 6251, 'grasbahn': 6252, 'grasbedeckten': 6253, 'grasen': 6254, 'grashügel': 6255, 'grass': 6256, 'grasweg': 6257, 'grillrestaurant': 6258, 'grinsender': 6259, 'grob': 6260, 'großartige': 6261, 'großartigen': 6262, 'großeltern': 6263, 'großmarkt': 6264, 'großvater': 6265, 'grundstück': 6266, 'grün-blauem': 6267, 'grün-schwarzen': 6268, 'grün-weiße': 6269, 'grün-weißem': 6270, 'gummiball': 6271, 'gummihammer': 6272, 'gummischuhen': 6273, 'gurtzeug': 6274, 'guter': 6275, 'gänse': 6276, 'gässchen': 6277, 'hab': 6278, 'hacke': 6279, 'hafenbecken': 6280, 'hafenbeckens': 6281, 'halben': 6282, 'halbhohen': 6283, 'halbnackte': 6284, 'halbwüchsiger': 6285, 'hallenlaufbahn': 6286, 'halloween': 6287, 'halsbändern': 6288, 'halstüchern': 6289, 'haltegurt': 6290, 'handarbeit': 6291, 'handbewegung': 6292, 'handgemachten': 6293, 'handmixer': 6294, 'handtrommel': 6295, 'handtücher': 6296, 'hantiert': 6297, 'harlem': 6298, 'hartholzboden': 6299, 'hasen': 6300, 'hasenkostüm': 6301, 'hasenohren': 6302, 'haube': 6303, 'hausparty': 6304, 'haustür': 6305, 'hawaiianischer': 6306, 'hawaiihemd': 6307, 'head': 6308, 'hebebühne': 6309, 'hebevorrichtung': 6310, 'heck': 6311, 'hecken': 6312, 'heckklappe': 6313, 'heels': 6314, 'heimatlandes': 6315, 'heimischen': 6316, 'heimweg': 6317, 'heiße': 6318, 'heißes': 6319, 'helikopter': 6320, 'hellblaues': 6321, 'helles': 6322, 'hellgrauen': 6323, 'hellgrüner': 6324, 'hellhäutig': 6325, 'hellhäutiges': 6326, 'hellorangefarbenen': 6327, 'hellrosafarbenen': 6328, 'hellrotem': 6329, 'hellrotes': 6330, 'herabgelassen': 6331, 'herabhängenden': 6332, 'herannahenden': 6333, 'heranrollenden': 6334, 'herausgestreckter': 6335, 'herausholt': 6336, 'herbstlaub': 6337, 'herbstlichen': 6338, 'here': 6339, 'hereinbrechenden': 6340, 'hergeht': 6341, 'hergestellt': 6342, 'herrlich': 6343, 'herrscht': 6344, 'herstellung': 6345, 'herumlaufen': 6346, 'herumläuft': 6347, 'heruntergefallen': 6348, 'heruntergefallenen': 6349, 'heruntergelassen': 6350, 'herunterkommt': 6351, 'herzförmigen': 6352, 'herzschlag': 6353, 'herzustellen': 6354, 'heuballen': 6355, 'high-five': 6356, 'highschool-basketballspieler': 6357, 'hinaufgehen': 6358, 'hindern': 6359, 'hindernispfad': 6360, 'hingefallen': 6361, 'hinterlässt': 6362, 'hinuntergehen': 6363, 'hinunterrutscht': 6364, 'hippie': 6365, 'hirtenhund': 6366, 'hispanisch': 6367, 'historische': 6368, 'hitze': 6369, 'hochdruckreiniger': 6370, 'hochgehalten': 6371, 'hochgeschobener': 6372, 'hochklettern': 6373, 'hochkommt': 6374, 'hochsteigt': 6375, 'hochzeitsfoto': 6376, 'hochzeitsfotos': 6377, 'hochzeitskuchen': 6378, 'hockern': 6379, 'hockey-goalie': 6380, 'hockeyfeld': 6381, 'hockeyschläger': 6382, 'hockeyschlägern': 6383, 'hockeyspielern': 6384, 'hockeytorhüter': 6385, 'holzbalken': 6386, 'holzblöcke': 6387, 'holzbrücke': 6388, 'holzdeck': 6389, 'holzfußboden': 6390, 'holzfäller': 6391, 'holzgeländer': 6392, 'holzhaus': 6393, 'holzhütte': 6394, 'holzkiste': 6395, 'holzkisten': 6396, 'holzklötzen': 6397, 'holzkreuz': 6398, 'holzleiter': 6399, 'holzmöbeln': 6400, 'holzpfosten': 6401, 'holzstamm': 6402, 'holzsteg': 6403, 'holzstruktur': 6404, 'holzstäbe': 6405, 'holzstück': 6406, 'holzstücken': 6407, 'holztreppe': 6408, 'holzveranda': 6409, 'holzwand': 6410, 'hoop': 6411, 'hoops': 6412, 'hopper': 6413, 'hornspieler': 6414, 'hosentasche': 6415, 'hosentaschen': 6416, 'hugs': 6417, 'hunderennbahn': 6418, 'hundeschlitten': 6419, 'hunds': 6420, 'hunt': 6421, 'händlern': 6422, 'hängende': 6423, 'hüften': 6424, 'hügeln': 6425, 'hügels': 6426, 'hühner': 6427, 'hündin': 6428, 'hütchen': 6429, 'hütet': 6430, 'hütten': 6431, 'ice': 6432, 'iglu': 6433, 'imbiss': 6434, 'imbissbude': 6435, 'imbisswagen': 6436, 'immer': 6437, 'inderinnen': 6438, 'indianischen': 6439, 'informell': 6440, 'informellen': 6441, 'inline-skater': 6442, 'inline-skates': 6443, 'innenräumen': 6444, 'innenstadtbereich': 6445, 'insassen': 6446, 'insekt': 6447, 'insekten': 6448, 'interessant': 6449, 'interviewen': 6450, 'iowa': 6451, 'ipad': 6452, 'irgendeinen': 6453, 'irgendeines': 6454, 'irgendwelche': 6455, 'irgendwohin': 6456, 'irokesenhaarschnitt': 6457, 'italien': 6458, 'jahr': 6459, 'jalousien': 6460, 'james': 6461, 'japanerinnen': 6462, 'japanische': 6463, 'japanisches': 6464, 'jeans-shorts': 6465, 'jeansanzug': 6466, 'jede': 6467, 'jeden': 6468, 'jerseys': 6469, 'jerusalem': 6470, 'jim': 6471, 'joe': 6472, 'jongleur': 6473, 'jump': 6474, 'jungenmannschaft': 6475, 'jury': 6476, 'juweliergeschäft': 6477, 'jüdische': 6478, 'jüdischen': 6479, 'jüdischer': 6480, 'kabinen': 6481, 'kaffeehaus': 6482, 'kahlem': 6483, 'kahlrasiertem': 6484, 'kais': 6485, 'kalifornien': 6486, 'kaltem': 6487, 'kameracrew': 6488, 'kameraobjektiv': 6489, 'kampfanzügen': 6490, 'kampfsportturnier': 6491, 'kampfsportveranstaltung': 6492, 'kanals': 6493, 'kanne': 6494, 'kaputter': 6495, 'karate-klasse': 6496, 'karatekampf': 6497, 'karateturnier': 6498, 'karge': 6499, 'kartoffelchip': 6500, 'kasino': 6501, 'kastanienbraunes': 6502, 'katzenbabies': 6503, 'katzenbaby': 6504, 'kauen': 6505, 'kawasaki': 6506, 'kegelförmigen': 6507, 'kegelhut': 6508, 'keks': 6509, 'kennzeichnet': 6510, 'kennzeichnung': 6511, 'kettenkarussell': 6512, 'khaki-hosen': 6513, 'kieselsteine': 6514, 'kieshügel': 6515, 'kiesstrand': 6516, 'kimono': 6517, 'kinderbett': 6518, 'kinderbuch': 6519, 'kinderschaukel': 6520, 'kindertisch': 6521, 'king': 6522, 'kiosk': 6523, 'kippt': 6524, 'kirchenchor': 6525, 'kirmesattraktion': 6526, 'kissenschlacht': 6527, 'kitchenaid': 6528, 'kitesurfer': 6529, 'kitteln': 6530, 'kitzelt': 6531, 'klare': 6532, 'klassischen': 6533, 'kleidungsstück': 6534, 'kleinbusses': 6535, 'kleinkinds': 6536, 'kliff': 6537, 'klimpert': 6538, 'klippen': 6539, 'klub': 6540, 'klötze': 6541, 'knapp': 6542, 'knielangen': 6543, 'kniender': 6544, 'kniestrümpfe': 6545, 'knietief': 6546, 'knietiefes': 6547, 'knipst': 6548, 'knöpfe': 6549, 'kochjacke': 6550, 'kochmütze': 6551, 'kochtopf': 6552, 'koffern': 6553, 'kombis': 6554, 'komisch': 6555, 'komischer': 6556, 'komisches': 6557, 'kommunikationsgerät': 6558, 'kongress': 6559, 'konserven': 6560, 'konzertaufführung': 6561, 'kopf-an-kopf-rennen': 6562, 'kopfstand': 6563, 'kopie': 6564, 'korbs': 6565, 'koreanische': 6566, 'korken': 6567, 'korpulentes': 6568, 'kosten': 6569, 'kostenlose': 6570, 'kostümierter': 6571, 'krankenhauskleidung': 6572, 'krankenpfleger': 6573, 'kreativ': 6574, 'kreischt': 6575, 'kreuzen': 6576, 'krieg': 6577, 'kristallklaren': 6578, 'kräftige': 6579, 'krügen': 6580, 'kugelbad': 6581, 'kultur': 6582, 'kulturellen': 6583, 'kundgebung': 6584, 'kunstartikeln': 6585, 'kunsthandwerk': 6586, 'kunstprojekt': 6587, 'kunststoffbehälter': 6588, 'kunststofffolie': 6589, 'kunststofftasse': 6590, 'kunstvoll': 6591, 'kurven': 6592, 'kurzes': 6593, 'kätzchen': 6594, 'könnte': 6595, 'küchenmaschine': 6596, 'küchenutensilien': 6597, 'kühe': 6598, 'kühlbox': 6599, 'kühlboxen': 6600, 'kühlen': 6601, 'künstlerische': 6602, 'künstlerischen': 6603, 'künstlichem': 6604, 'kürbissen': 6605, 'kürzlich': 6606, 'küstenwache': 6607, 'laborant': 6608, 'laborkitteln': 6609, 'labradoodle': 6610, 'lachenden': 6611, 'lachsfarbenen': 6612, 'lacrosse-spieler': 6613, 'lacrossespieler': 6614, 'ladenfenster': 6615, 'ladengeschäft': 6616, 'lagerhalle': 6617, 'lagerraum': 6618, 'laken': 6619, 'lakers': 6620, 'lametta': 6621, 'landungssteg': 6622, 'landwirt': 6623, 'landwirtschaftlichen': 6624, 'lang': 6625, 'langgeht': 6626, 'langhaarigen': 6627, 'langlauf': 6628, 'langärmeligem': 6629, 'langärmligem': 6630, 'las': 6631, 'lateinamerikaner': 6632, 'lateinamerikanischen': 6633, 'laternenpfahl': 6634, 'latexhandschuhen': 6635, 'lattenzaun': 6636, 'latzhose': 6637, 'latzhosen': 6638, 'laubwerk': 6639, 'laufenden': 6640, 'laufgitter': 6641, 'laufhosen': 6642, 'laufkleidung': 6643, 'laufoberteil': 6644, 'laufschuhen': 6645, 'laufstrecke': 6646, 'lauscht': 6647, 'laut': 6648, 'lautsprechern': 6649, 'le': 6650, 'leadsänger': 6651, 'lebendigen': 6652, 'lebens': 6653, 'lebensmittelbereich': 6654, 'lebensmittelladen': 6655, 'lebhafte': 6656, 'lebron': 6657, 'leckerbissen': 6658, 'leckeren': 6659, 'lederoberteil': 6660, 'lederschuhe': 6661, 'lederstühlen': 6662, 'lederweste': 6663, 'leeres': 6664, 'leerstehenden': 6665, 'lehnstuhl': 6666, 'leht': 6667, 'leitplanken': 6668, 'leitung': 6669, 'leitungen': 6670, 'lenken': 6671, 'lesenden': 6672, 'leuchtendem': 6673, 'leuchtender': 6674, 'leuchtreklame': 6675, 'leuchtturm': 6676, 'lichts': 6677, 'lichtung': 6678, 'lieben': 6679, 'liefern': 6680, 'life': 6681, 'lift': 6682, 'liga': 6683, 'lilafarbenem': 6684, 'lilane': 6685, 'limo': 6686, 'limonaden': 6687, 'lineal': 6688, 'linkes': 6689, 'linkshändiger': 6690, 'linse': 6691, 'linsen': 6692, 'livekonzert': 6693, 'lohfarbenen': 6694, 'lokomotive': 6695, 'lokomotiven': 6696, 'lolli': 6697, 'londoner': 6698, 'louvre': 6699, 'luftballontiere': 6700, 'luftmatratzen': 6701, 'lungern': 6702, 'lungert': 6703, 'lustiges': 6704, 'lutscher': 6705, 'lutscht': 6706, 'ländliche': 6707, 'ländlicher': 6708, 'längsstreifen': 6709, 'lässig': 6710, 'lätzchen': 6711, 'löffeln': 6712, 'löwenzahnblüte': 6713, 'lümmelt': 6714, 'm': 6715, 'mac-computer': 6716, 'mach': 6717, 'magazin': 6718, 'mahl': 6719, 'mahlzeiten': 6720, 'majestätischen': 6721, 'makeup': 6722, 'malerischen': 6723, 'mammutbaum': 6724, 'mandel': 6725, 'mannequin': 6726, 'manns': 6727, 'marathonläufern': 6728, 'marathons': 6729, 'marineblau': 6730, 'marineblauer': 6731, 'marker': 6732, 'markierung': 6733, 'marmor': 6734, 'maschendraht': 6735, 'maskierter': 6736, 'maskottchen': 6737, 'masse': 6738, 'massiert': 6739, 'matador': 6740, 'matrosen': 6741, 'matrosenanzug': 6742, \"mcdonald's\": 6743, 'medaillen': 6744, 'meeresfrüchte': 6745, 'meeresstrand': 6746, 'meereswellen': 6747, 'mehrfamilienhaus': 6748, 'mehrfarbiger': 6749, 'meist': 6750, 'meißel': 6751, 'menschenleeren': 6752, 'menschenmassen': 6753, 'menschliche': 6754, 'metallabsperrung': 6755, 'metallarbeiter': 6756, 'metallbank': 6757, 'metallbauwerk': 6758, 'metalldach': 6759, 'metallenen': 6760, 'metallgebilde': 6761, 'metallgerüst': 6762, 'metallkiste': 6763, 'metallpfosten': 6764, 'metallrahmen': 6765, 'metallrohr': 6766, 'metallskulptur': 6767, 'metallstruktur': 6768, 'metallstuhl': 6769, 'metalltor': 6770, 'metzger': 6771, 'metzgerei': 6772, 'mexiko': 6773, 'michael': 6774, 'michigan': 6775, 'miene': 6776, 'mike': 6777, 'mikroskopen': 6778, 'militärhosen': 6779, 'militärischen': 6780, 'minirock': 6781, 'minnesota': 6782, 'mir': 6783, 'mischen': 6784, 'mitfahrgelegenheit': 6785, 'mitgliedern': 6786, 'mittelgroße': 6787, 'mittelpunkt': 6788, 'mittlerem': 6789, 'mixer': 6790, 'modelleisenbahn': 6791, 'modelliert': 6792, 'moderner': 6793, 'modernes': 6794, 'modische': 6795, 'modischer': 6796, 'mohikaner': 6797, 'mole': 6798, 'molliges': 6799, 'monopoly-spiel': 6800, 'monument': 6801, 'moosbedeckten': 6802, 'morgenrock': 6803, 'motiv': 6804, 'motorradfahren': 6805, 'motorradfahrerin': 6806, 'motorradhelm': 6807, 'motorradhelme': 6808, 'motorrads': 6809, 'motorschlitten': 6810, 'mountainbike-fahrer': 6811, 'muffins': 6812, 'musikalische': 6813, 'musikausrüstung': 6814, 'musikerin': 6815, 'musiziert': 6816, 'muskeln': 6817, 'muslimische': 6818, 'muslimischer': 6819, 'mustang': 6820, 'mädchengruppe': 6821, 'mädchenmannschaften': 6822, 'männe': 6823, 'männerteam': 6824, 'möbelgeschäft': 6825, 'möglich': 6826, 'müllhaufen': 6827, 'mülltonnen': 6828, 'münzfernsprecher': 6829, 'münztelefon': 6830, 'mürrisch': 6831, 'nachbarn': 6832, 'nachdenken': 6833, 'nachdenklich': 6834, 'nachgehen': 6835, 'nachhauseweg': 6836, 'nachricht': 6837, 'nachrichtensprecher': 6838, 'nacken': 6839, 'nadelstreifenhemd': 6840, 'nagelpistole': 6841, 'nahrung': 6842, 'nahöstlicher': 6843, 'namensschildern': 6844, 'nassgespritzt': 6845, 'naturpfad': 6846, 'naturprodukten': 6847, 'needle': 6848, 'neonfarbenen': 6849, 'neongelben': 6850, 'neongrün': 6851, 'netzstrümpfen': 6852, 'neugeborene': 6853, 'neugeborenen': 6854, 'neugieriges': 6855, 'new-york-hut': 6856, 'niedrig': 6857, 'niemand': 6858, 'nische': 6859, 'no': 6860, 'nonnentracht': 6861, 'normaler': 6862, 'not': 6863, 'notebook': 6864, 'notebooks': 6865, 'notenblatt': 6866, 'notenblättern': 6867, 'notiz': 6868, 'notre': 6869, 'nuckelt': 6870, 'nächstes': 6871, 'nächtliche': 6872, 'nächtliches': 6873, 'nägel': 6874, 'oakland': 6875, 'obama': 6876, 'oberleitungsfahrzeug': 6877, 'objektiv': 6878, 'ohrenschützern': 6879, 'ohrhörer': 6880, 'ohrringen': 6881, 'ohrschützern': 6882, 'ohrstöpseln': 6883, 'olympische': 6884, 'open-air-festival': 6885, 'open-air-konzert': 6886, 'operiert': 6887, 'opfer': 6888, 'orange-blauen': 6889, 'orange-grauen': 6890, 'orangefarben': 6891, 'orchesters': 6892, 'ordner': 6893, 'organgefarbenen': 6894, 'organisieren': 6895, 'orgel': 6896, 'orioles': 6897, 'orten': 6898, 'out': 6899, 'outdoor-bekleidung': 6900, 'pabst': 6901, 'pain': 6902, 'paintball': 6903, 'pakete': 6904, 'palmwedeln': 6905, 'papagei': 6906, 'papierhut': 6907, 'papierteller': 6908, 'pappschachtel': 6909, 'pappteller': 6910, 'paris': 6911, 'parka': 6912, 'parkgarage': 6913, 'parkuhr': 6914, 'part': 6915, 'partner': 6916, 'partnerin': 6917, 'passagier': 6918, 'passende': 6919, 'passendem': 6920, 'passender': 6921, 'passieren': 6922, 'pastellfarbenen': 6923, 'patient': 6924, 'patriotischen': 6925, 'patrouilliert': 6926, 'pavillon': 6927, 'pedal': 6928, 'pedale': 6929, 'pelikan': 6930, 'pelzigen': 6931, 'penn': 6932, 'penske': 6933, 'perle': 6934, 'personenzug': 6935, 'perücken': 6936, 'pfadfindern': 6937, 'pfannkuchen': 6938, 'pfarrer': 6939, 'pfau': 6940, 'pfauenkostüm': 6941, 'pfeiler': 6942, 'pferch': 6943, 'pferdefuhrwerk': 6944, 'pferdeschwänzen': 6945, 'pferdewagen': 6946, 'pfirsichfarbenen': 6947, 'pflügen': 6948, 'pfote': 6949, 'pianist': 6950, 'piano': 6951, 'pickup-truck': 6952, 'piercings': 6953, 'pilz': 6954, 'pinguine': 6955, 'pinien': 6956, 'pink-weißem': 6957, 'pitbull': 6958, 'plakate': 6959, 'plastikbecher': 6960, 'plastikeimer': 6961, 'plastikflasche': 6962, 'plastikflaschen': 6963, 'plastikwanne': 6964, 'plattenladen': 6965, 'platzt': 6966, 'plaudern': 6967, 'plüschtieren': 6968, 'polizeiauto': 6969, 'polizeibeamter': 6970, 'polizeifahrzeug': 6971, 'polizeiuniform': 6972, 'polo-hemd': 6973, 'ponchos': 6974, 'pools': 6975, 'porträts': 6976, 'postkarten': 6977, 'postmitarbeiter': 6978, 'power': 6979, 'powerpoint-präsentation': 6980, 'praktizieren': 6981, 'prallen': 6982, 'preise': 6983, 'preisrichter': 6984, 'presse': 6985, 'presslufthammer': 6986, 'presst': 6987, 'pritschenwagen': 6988, 'pro': 6989, 'probe': 6990, 'problem': 6991, 'professionell': 6992, 'projektorleinwand': 6993, 'protestierende': 6994, 'prächtig': 6995, 'prächtige': 6996, 'prächtigen': 6997, 'pucks': 6998, 'puderzucker': 6999, 'pulk': 7000, 'pullovers': 7001, 'pulver': 7002, 'punkte': 7003, 'purpurroten': 7004, 'pusten': 7005, 'päckchen': 7006, 'quadbike': 7007, 'quadratischen': 7008, 'querflöte': 7009, 'rampen': 7010, 'rasch': 7011, 'rasenplatz': 7012, 'rasiercreme': 7013, 'rasierer': 7014, 'rasiermesser': 7015, 'rasiertem': 7016, 'rasseln': 7017, 'rasten': 7018, 'rasterlocken': 7019, 'rauchwolke': 7020, 'rauen': 7021, 'rausgeworfen': 7022, 'reagiert': 7023, 'reaktion': 7024, 'rechteckigen': 7025, 'reckt': 7026, 'regenbogenfarbenen': 7027, 'regenbogenfarbigen': 7028, 'regenjacke': 7029, 'regenkleidung': 7030, 'regennassen': 7031, 'regierung': 7032, 'reifenspur': 7033, 'reiht': 7034, 'reiseführer': 7035, 'reisfeld': 7036, 'reishut': 7037, 'reitwettbewerb': 7038, 'reißen': 7039, 'reißverschluss': 7040, 'renaissance-fest': 7041, 'rennausrüstung': 7042, 'rennenden': 7043, 'rennhund': 7044, 'rennmotorrad': 7045, 'rentier': 7046, 'reporter': 7047, 'reportern': 7048, 'requisiten': 7049, 'restaurantmitarbeiter': 7050, 'rettet': 7051, 'rettungshelfer': 7052, 'rettungskraft': 7053, 'ribbon': 7054, 'richtern': 7055, 'riecht': 7056, 'rinder': 7057, 'ringe': 7058, 'ringsum': 7059, 'risiko': 7060, 'riss': 7061, 'ritter': 7062, 'rittlings': 7063, 'ritualtanz': 7064, 'rocker': 7065, 'rockkonzert': 7066, 'rocks': 7067, 'rod': 7068, 'rodeln': 7069, 'rodelt': 7070, 'rodeo-clown': 7071, 'rodeoarena': 7072, 'rodgers': 7073, 'roller-derby': 7074, 'rollerblader': 7075, 'rollschuhbahn': 7076, 'rolltreppen': 7077, 'rollwagen': 7078, 'rosa-grünen': 7079, 'rosaroter': 7080, 'rot-gelben': 7081, 'rot-gestreiften': 7082, 'rot-goldenen': 7083, 'rot-grünen': 7084, 'rot-weiß-blauem': 7085, 'rudermannschaft': 7086, 'rugby-spiel': 7087, 'rummelplatz': 7088, 'rund': 7089, 'runzelt': 7090, 'räder': 7091, 'röcke': 7092, 'rötlichem': 7093, 'rückbank': 7094, 'rüschen': 7095, 's': 7096, 'saiteninstrumenten': 7097, 'samen': 7098, 'san': 7099, 'sandkasten': 7100, 'sandsack': 7101, 'sandsturm': 7102, 'sanft': 7103, 'sanitäter': 7104, 'sauberen': 7105, 'sausen': 7106, 'saxofonspieler': 7107, 'saxophone': 7108, 'saxophonisten': 7109, 'schachbrett': 7110, 'schafft': 7111, 'schar': 7112, 'schaufensterauslage': 7113, 'schaufensterbummel': 7114, 'schaukelgestell': 7115, 'schaukelpferd': 7116, 'schaulustigen': 7117, 'schaulustiger': 7118, 'scheffel': 7119, 'scheitelpunkt': 7120, 'schert': 7121, 'scheucht': 7122, 'scheune': 7123, 'schichten': 7124, 'schick': 7125, 'schießplatz': 7126, 'schießstand': 7127, 'schilden': 7128, 'schilds': 7129, 'schirmchen': 7130, 'schirme': 7131, 'schirmt': 7132, 'schlafanzügen': 7133, 'schlafsäcken': 7134, 'schlagmanns': 7135, 'schlammigem': 7136, 'schlammiges': 7137, 'schlangen': 7138, 'schlapphut': 7139, 'schlechtem': 7140, 'schlechten': 7141, 'schleifmaschine': 7142, 'schleppe': 7143, 'schleuder': 7144, 'schlips': 7145, 'schlittenhunde': 7146, 'schlittert': 7147, 'schlittschuhe': 7148, 'schluckt': 7149, 'schmale': 7150, 'schmetterlinge': 7151, 'schmiert': 7152, 'schnabel': 7153, 'schneeanzügen': 7154, 'schneeausrüstung': 7155, 'schneeballschlacht': 7156, 'schneebrille': 7157, 'schneejacke': 7158, 'schneelandschaft': 7159, 'schnees': 7160, 'schneeschaufel': 7161, 'schneeschuh': 7162, 'schneesturm': 7163, 'schneidbrett': 7164, 'schneiderin': 7165, 'schneidersitz': 7166, 'schnellboot': 7167, 'schnellimbiss': 7168, 'schnurrbärten': 7169, 'schnurrbärtiger': 7170, 'schnüffeln': 7171, 'schnüren': 7172, 'schnürsenkel': 7173, 'schokolade': 7174, 'schottenröcken': 7175, 'schotter': 7176, 'schottische': 7177, 'schottischer': 7178, 'schraubendreher': 7179, 'schraubenschlüssel': 7180, 'schraubenzieher': 7181, 'schreibend': 7182, 'schreienden': 7183, 'schriftzeichen': 7184, 'schritten': 7185, 'schroffen': 7186, 'schrägen': 7187, 'schubkarren': 7188, 'schubst': 7189, 'schuhputzstand': 7190, 'schulalter': 7191, 'schulen': 7192, 'schuljungen': 7193, 'schulkantine': 7194, 'schulkindern': 7195, 'schulklasse': 7196, 'schuluniform': 7197, 'schuppen': 7198, 'schutzanzug': 7199, 'schutzhelme': 7200, 'schwarz-blaues': 7201, 'schwarz-orangefarbenen': 7202, 'schwarz-rot': 7203, 'schwarz-rotes': 7204, 'schwarzhaariges': 7205, 'schwarzweiß': 7206, 'schweinefleisch': 7207, 'schweißer': 7208, 'schwelle': 7209, 'schwerarbeiter': 7210, 'schwimmbekleidung': 7211, 'schwimmende': 7212, 'schwimmflügel': 7213, 'schwimmhalle': 7214, 'schwimmhilfen': 7215, 'schwimmkleidung': 7216, 'schwimmring': 7217, 'schwimmwettkampf': 7218, 'schwingenden': 7219, 'schwitzender': 7220, 'schwäne': 7221, 'schäbig': 7222, 'schäferhunde': 7223, 'schärpe': 7224, 'schön': 7225, 'schönheit': 7226, 'schülerinnen': 7227, 'schürt': 7228, 'schütter': 7229, 'seahawks': 7230, 'sechsköpfige': 7231, 'segel': 7232, 'segway': 7233, 'sehe': 7234, 'seifenwasser': 7235, 'seilbahn': 7236, 'seils': 7237, 'selbstgebastelten': 7238, 'selbstgebauten': 7239, 'seminar': 7240, 'sendet': 7241, 'senkrechte': 7242, 'sense': 7243, 'series': 7244, 'serviette': 7245, 'sessellift': 7246, 'set': 7247, 'shampoo': 7248, 'short': 7249, 'sichert': 7250, 'sicherungsseilen': 7251, 'sichtbare': 7252, 'side': 7253, 'signiert': 7254, 'silberfarbene': 7255, 'silbernem': 7256, 'silhouetten': 7257, 'singend': 7258, 'situation': 7259, 'sitzbank': 7260, 'sitze': 7261, 'sitzung': 7262, 'skateboard-kunststück': 7263, 'skateboard-stunt': 7264, 'skateboardanlage': 7265, 'skateboardfahren': 7266, 'skateranlage': 7267, 'skaterbahn': 7268, 'skaterpark': 7269, 'sketch': 7270, 'skianzug': 7271, 'skibrille': 7272, 'skifahrerin': 7273, 'skimboarden': 7274, 'snap': 7275, 'snowboards': 7276, 'socke': 7277, 'sockenhaltern': 7278, 'soda': 7279, 'softdrink': 7280, 'sogar': 7281, 'soldatinnen': 7282, 'sommerkleider': 7283, 'sommerkleidung': 7284, 'song': 7285, 'sonnebrille': 7286, 'sonnenanbetern': 7287, 'sonnenaufgang': 7288, 'sonnenbad': 7289, 'sonnenhüten': 7290, 'sonnenschirme': 7291, 'sonnenuntergangs': 7292, 'sonniger': 7293, 'sorgt': 7294, 'south': 7295, 'soße': 7296, 'space': 7297, 'spachtel': 7298, 'spanischen': 7299, 'spannen': 7300, 'spare': 7301, 'sparring': 7302, 'speedo-badehose': 7303, 'speerwurf': 7304, 'speiseraum': 7305, 'speist': 7306, 'speit': 7307, 'spiderman': 7308, 'spiegelungen': 7309, 'spiele': 7310, 'spielender': 7311, 'spielerischen': 7312, 'spielgeräten': 7313, 'spielhaus': 7314, 'spielkarten': 7315, 'spielkonsole': 7316, 'spielmannszugs': 7317, 'spieltunnel': 7318, 'spielzeug-basketballkorb': 7319, 'spielzeug-rasenmäher': 7320, 'spielzeugeisenbahn': 7321, 'spielzeugfahrrad': 7322, 'spielzeuggitarre': 7323, 'spielzeughammer': 7324, 'spielzeughaus': 7325, 'spielzeuglaster': 7326, 'spielzeuglastwagen': 7327, 'spielzeugrutsche': 7328, 'spielzeugs': 7329, 'spielzeugtraktor': 7330, 'spießen': 7331, 'spinnen': 7332, 'spinnkurs': 7333, 'spinnt': 7334, 'spirituosengeschäft': 7335, 'sportfans': 7336, 'sportfeld': 7337, 'sportgerät': 7338, 'sporthallenboden': 7339, 'sportjacke': 7340, 'sportstudio': 7341, 'sportteam': 7342, 'spreizt': 7343, 'sprinkleranlage': 7344, 'spruchbänder': 7345, 'sprühdosen': 7346, 'sprüngen': 7347, 'spur': 7348, 'spät': 7349, 'später': 7350, 'stadions': 7351, 'stadtarbeiter': 7352, 'stadtbrunnen': 7353, 'stadtbus': 7354, 'stadtgebäude': 7355, 'stadtlandschaft': 7356, 'stadtplan': 7357, 'stadtteil': 7358, 'stahl': 7359, 'stahlbalken': 7360, 'stammes': 7361, 'standbild': 7362, 'star': 7363, 'starker': 7364, 'startbereit': 7365, 'starten': 7366, 'startet': 7367, 'state-teams': 7368, 'stattfindenden': 7369, 'stattfindet': 7370, 'statur': 7371, 'steigenden': 7372, 'steiger': 7373, 'steinboden': 7374, 'steinbrücke': 7375, 'steinhaufen': 7376, 'steiniges': 7377, 'steinoberfläche': 7378, 'steinstraße': 7379, 'steinstruktur': 7380, 'steinsäulen': 7381, 'steinweg': 7382, 'steppdecke': 7383, 'sternen': 7384, 'stethoskop': 7385, 'stets': 7386, 'steuer': 7387, 'steuern': 7388, 'sticht': 7389, 'stiert': 7390, 'stiften': 7391, 'stilles': 7392, 'stillt': 7393, 'stirnlampe': 7394, 'stocks': 7395, 'stoffen': 7396, 'stofftieren': 7397, 'stoppschild': 7398, 'stoppt': 7399, 'story': 7400, 'strahlendem': 7401, 'strahlt': 7402, 'strandbuggy': 7403, 'strandkleid': 7404, 'strandspaziergang': 7405, 'straßenansicht': 7406, 'straßengeschäft': 7407, 'straßenhändlers': 7408, 'straßenkreuzung': 7409, 'straßenkünstlern': 7410, 'straßenlaternen': 7411, 'straßenlauf': 7412, 'straßenmarathon': 7413, 'straßenmusik': 7414, 'straßenmusikanten': 7415, 'streicher': 7416, 'streichorchester': 7417, 'streikschildern': 7418, 'streitet': 7419, 'streitkräfte': 7420, 'stretching': 7421, 'striegelt': 7422, 'stromleitungen': 7423, 'strommasten': 7424, 'strumpfhosen': 7425, 'struppiger': 7426, 'sträuchern': 7427, 'strömenden': 7428, 'studentenwohnheim': 7429, 'stuhlreihen': 7430, 'stunde': 7431, 'sturm': 7432, 'sturzflug': 7433, 'stäbe': 7434, 'stämmiger': 7435, 'stände': 7436, 'stängel': 7437, 'stöckelschuhen': 7438, 'stürmischem': 7439, 'stürmt': 7440, 'stützen': 7441, 'stützrädern': 7442, 'sumoringer': 7443, 'sumpf': 7444, 'sumpfigen': 7445, 'sumpfiges': 7446, 'suppe': 7447, 'surfbrettern': 7448, 'sweater': 7449, 'szenerie': 7450, 'säcke': 7451, 'säuglings': 7452, 'söhnen': 7453, 'süßer': 7454, 'süßes': 7455, 'süßigkeit': 7456, 'süßigkeitenladen': 7457, 'süßigkeitenverkäufer': 7458, 'tackle': 7459, 'tagebuch': 7460, 'taille': 7461, 'takt': 7462, 'talkshow': 7463, 'tamburin': 7464, 'tank-top': 7465, 'tanzstudio': 7466, 'tanzvorführung': 7467, 'tarnanzügen': 7468, 'tarnfarben': 7469, 'tarnhosen': 7470, 'tarnjacke': 7471, 'taschenbuch': 7472, 'taschenlampe': 7473, 'taste': 7474, 'tasten': 7475, 'tatort': 7476, 'taubenschwarm': 7477, 'tauschen': 7478, 'teamkollege': 7479, 'technik': 7480, 'technologie': 7481, 'tee-ball': 7482, 'teenager-jungen': 7483, 'teenagerinnen': 7484, 'teichs': 7485, 'teilnehmende': 7486, 'telefonleitung': 7487, 'telefontechniker': 7488, 'telefonzellen': 7489, 'tennisschuh': 7490, 'testet': 7491, 'text': 7492, 'textet': 7493, 'theaterstück': 7494, 'theatervorstellung': 7495, 'thomas': 7496, 'tiefblauen': 7497, 'tieflader': 7498, 'tiefschnee': 7499, 'tiers': 7500, 'tim': 7501, 'tintenfisch': 7502, 'tischler': 7503, 'toast': 7504, 'toilettenpapier': 7505, 'tollt': 7506, 'tomate': 7507, 'topfpflanzen': 7508, 'torbogens': 7509, 'tortillas': 7510, 'toten': 7511, 'tourbus': 7512, 'touristin': 7513, 'toyota': 7514, 'trabenden': 7515, 'traditionell': 7516, 'traditionellem': 7517, 'trainingsanzügen': 7518, 'trampelpfad': 7519, 'transformator': 7520, 'transparenten': 7521, 'transport': 7522, 'trauung': 7523, 'trennt': 7524, 'tresen': 7525, 'tribünen': 7526, 'trinkgeld': 7527, 'trittsteinen': 7528, 'trockene': 7529, 'tropfen': 7530, 'trophäe': 7531, 'trotzt': 7532, 'truthähne': 7533, 'träg': 7534, 'trägerhemden': 7535, 'trägershirt': 7536, 'trösten': 7537, 'tuba': 7538, 'tuniken': 7539, 'tunnels': 7540, 'turbanen': 7541, 'turnkleidung': 7542, 'turnübung': 7543, 'turnübungen': 7544, 'typischen': 7545, 'tätigkeiten': 7546, 'tätowieren': 7547, 'tätowierten': 7548, 'töchter': 7549, 'töpfe': 7550, 'töpfert': 7551, 'tüchern': 7552, 'tümpel': 7553, 'türkise': 7554, 'u-bahn-bahnsteig': 7555, 'u-bahn-zug': 7556, 'ufernähe': 7557, 'umarmungen': 7558, 'umdreht': 7559, 'umfeld': 7560, 'umgebenden': 7561, 'umgebene': 7562, 'umgedrehte': 7563, 'umgefallenen': 7564, 'umgekippt': 7565, 'umschlag': 7566, 'umschlagtuch': 7567, 'umstehenden': 7568, 'umzugs': 7569, 'umzugswagen': 7570, 'unbeholfen': 7571, 'unbekannte': 7572, 'unbekannter': 7573, 'unebenen': 7574, 'unfallort': 7575, 'unfallstelle': 7576, 'ungepflegten': 7577, 'ungewöhnliches': 7578, 'unglückliches': 7579, 'union': 7580, 'unrat': 7581, 'unscharfe': 7582, 'unterarm': 7583, 'unterführung': 7584, 'unterhaltungsbereich': 7585, 'unterhaltungskünstler': 7586, 'unterholz': 7587, 'unterhosen': 7588, 'unterirdischen': 7589, 'unterschreibt': 7590, 'unterstützen': 7591, 'untertasse': 7592, 'ureinwohnerin': 7593, 'urinal': 7594, 'urlaub': 7595, 'us-amerikanische': 7596, 'vader': 7597, 'vase': 7598, 'vegas': 7599, 'veranstaltet': 7600, 'verbeugen': 7601, 'verbirgt': 7602, 'verborgen': 7603, 'vereinzelten': 7604, 'verglasten': 7605, 'vergraben': 7606, 'vergrößerungsglas': 7607, 'verhaftet': 7608, 'verheirateter': 7609, 'verhüllte': 7610, 'verkaufsautomaten': 7611, 'verkaufstand': 7612, 'verkehrspolizist': 7613, 'verkehrsreiche': 7614, 'verkehrsschild': 7615, 'verkleidetes': 7616, 'verkleidung': 7617, 'verkäuferin': 7618, 'verkäufers': 7619, 'verlegen': 7620, 'verletzter': 7621, 'vermischt': 7622, 'verpasst': 7623, 'verquirlt': 7624, 'verregneten': 7625, 'verrückt': 7626, 'verschiedenes': 7627, 'verschiedenfarbiger': 7628, 'verschlungenen': 7629, 'verschmiertem': 7630, 'verschneiter': 7631, 'verschwommenen': 7632, 'verschwommenes': 7633, 'versorgen': 7634, 'versorgt': 7635, 'verteidigern': 7636, 'vertieft': 7637, 'vertreiben': 7638, 'verursacht': 7639, 'verwitterten': 7640, 'verwunderung': 7641, 'verziert': 7642, 'verzweifelt': 7643, 'vesammelt': 7644, 'videoaufnahme': 7645, 'videokameras': 7646, 'vieler': 7647, 'vielfältige': 7648, 'vieren': 7649, 'vierergruppe': 7650, 'vierrädrigen': 7651, 'vierte': 7652, 'violette': 7653, 'visier': 7654, 'visiert': 7655, 'vitrine': 7656, 'volles': 7657, 'volleyballplatz': 7658, 'volleyballturnier': 7659, 'vorbeifahrenden': 7660, 'vorbeikommt': 7661, 'vorbeiläuft': 7662, 'vorbeischwimmen': 7663, 'vorbeizukommen': 7664, 'vorderpfoten': 7665, 'vorderrad': 7666, 'vorgarten': 7667, 'vorhand': 7668, 'vornehm': 7669, 'vornehmen': 7670, 'vornüber': 7671, 'vornübergebeugt': 7672, 'vorräte': 7673, 'vorstadthaus': 7674, 'vorteil': 7675, 'vorzubereiten': 7676, 'vorüberfährt': 7677, 'vorübergehend': 7678, 'wachleute': 7679, 'waggon': 7680, 'wakeboarden': 7681, 'wakeboarding': 7682, 'waldgebiets': 7683, 'waldgegend': 7684, 'waldlandschaft': 7685, 'walkman': 7686, 'wandbemalung': 7687, 'wandgemälde': 7688, 'wandobjekt': 7689, 'warnkegel': 7690, 'warnkleidung': 7691, 'wartend': 7692, 'wartende': 7693, 'warteraum': 7694, 'wartezimmer': 7695, 'waschmaschinen': 7696, 'wasserbrunnen': 7697, 'wasserfontänen': 7698, 'wasserlache': 7699, 'wasseroberfläche': 7700, 'wasserrand': 7701, 'wasserrohre': 7702, 'wasserschlacht': 7703, 'wasserskulptur': 7704, 'wasserspeier': 7705, 'wassersprenganlage': 7706, 'wasserspritzer': 7707, 'wasserstrahl': 7708, 'weges': 7709, 'wegschaut': 7710, 'wehrt': 7711, 'weiblich': 7712, 'weide': 7713, 'weihnachtsbeleuchtung': 7714, 'weihnachtsmannmützen': 7715, 'weihnachtsmotiv': 7716, 'weinen': 7717, 'weinflasche': 7718, 'weinroten': 7719, 'weiß-': 7720, 'weiß-braunem': 7721, 'weiß-rotes': 7722, 'weißene': 7723, 'weißhaarige': 7724, 'welches': 7725, 'wells': 7726, 'wenden': 7727, 'wer': 7728, 'werdendem': 7729, 'werferhügel': 7730, 'werkbank': 7731, 'werkzeuggürteln': 7732, 'westernstil': 7733, 'wetteifert': 7734, 'wettschwimmen': 7735, 'whirlpool': 7736, 'wichtiges': 7737, 'wiegen': 7738, 'wii': 7739, 'wild': 7740, 'wildwasserrafting': 7741, 'winkend': 7742, 'winterbekleidung': 7743, 'winterlichen': 7744, 'wirbeln': 7745, 'wirkt': 7746, 'wodurch': 7747, 'wohl': 7748, 'wohnhauses': 7749, 'wohnhäusern': 7750, 'wolke': 7751, 'wonder': 7752, 'worten': 7753, 'wrestler': 7754, 'wunderschön': 7755, 'wurzeln': 7756, 'wälder': 7757, 'wälzt': 7758, 'wünschen': 7759, 'würfel': 7760, 'würste': 7761, 'würzt': 7762, 'wütend': 7763, 'yamaha': 7764, 'yankees': 7765, 'yogaübungen': 7766, 'you': 7767, 'zahnarzt': 7768, 'zahnstocher': 7769, 'zange': 7770, 'zapft': 7771, 'zauberer': 7772, 'zaubertrick': 7773, 'zehenspitzen': 7774, 'zehn': 7775, 'zeltet': 7776, 'zeltplane': 7777, 'zeltplatz': 7778, 'zementierten': 7779, 'zementlaster': 7780, 'zentimeter': 7781, 'zerbricht': 7782, 'zerbrochene': 7783, 'zerbrochenen': 7784, 'zeremoniellen': 7785, 'zerfetzten': 7786, 'zerkleinert': 7787, 'zerlegen': 7788, 'zerlumpter': 7789, 'zerrissenen': 7790, 'zerzaust': 7791, 'zickzack': 7792, 'ziegelsteingebäude': 7793, 'zielfernrohr': 7794, 'zielort': 7795, 'zirkus': 7796, 'zitrone': 7797, 'zotteliger': 7798, 'zuerst': 7799, 'zufahrt': 7800, 'zufährt': 7801, 'zugedeckt': 7802, 'zuges': 7803, 'zugfahrt': 7804, 'zugführer': 7805, 'zugwaggons': 7806, 'zuhält': 7807, 'zuhörern': 7808, 'zuhörerschaft': 7809, 'zukunft': 7810, 'zuneigung': 7811, 'zurückgelegt': 7812, 'zusammengebaut': 7813, 'zusammengebauten': 7814, 'zusammenpassenden': 7815, 'zusammensein': 7816, 'zuschauerraum': 7817, 'zustand': 7818, 'zwanzig': 7819, 'zweikampf': 7820, 'zweirad': 7821, 'zweispurigen': 7822, 'zweistöckigen': 7823, 'zwillinge': 7824, 'zwirbelt': 7825, 'zähneputzen': 7826, 'zügel': 7827, 'ähnlichen': 7828, 'ängstlich': 7829, 'äpfel': 7830, 'ärztin': 7831, 'äste': 7832, 'öffentliches': 7833, 'öffnungen': 7834, 'ölfass': 7835, 'überdachung': 7836, 'überfliegt': 7837, 'überfluteten': 7838, 'überführung': 7839, 'übergewichtiges': 7840, 'überhang': 7841, 'überladenen': 7842, 'überlegt': 7843, 'überreste': 7844, 'überschlag': 7845, 'überschlagen': 7846, 'übersät': 7847, 'übersäte': 7848, 'überwacht': 7849, 'üppig': 7850, 'üppigen': 7851, '‘': 7852})\n"
     ]
    }
   ],
   "source": [
    "print(SRC.vocab.stoi)"
   ]
  },
  {
   "cell_type": "markdown",
   "metadata": {},
   "source": [
    "Finally, we define the device and the data iterator."
   ]
  },
  {
   "cell_type": "code",
   "execution_count": 10,
   "metadata": {},
   "outputs": [],
   "source": [
    "device = torch.device('cuda' if torch.cuda.is_available() else 'cpu')"
   ]
  },
  {
   "cell_type": "code",
   "execution_count": 11,
   "metadata": {},
   "outputs": [],
   "source": [
    "BATCH_SIZE = 128\n",
    "\n",
    "train_iterator, valid_iterator, test_iterator = BucketIterator.splits(\n",
    "    (train_data, valid_data, test_data), \n",
    "     batch_size = BATCH_SIZE,\n",
    "     device = device)"
   ]
  },
  {
   "cell_type": "markdown",
   "metadata": {},
   "source": [
    "## Building the Model\n",
    "\n",
    "Next, we'll build the model. Like previous notebooks it is made up of an *encoder* and a *decoder*, with the encoder *encoding* the input/source sentence (in German) into *context vector* and the decoder then *decoding* this context vector to output our output/target sentence (in English). \n",
    "\n",
    "### Encoder\n",
    "\n",
    "Similar to the ConvSeq2Seq model, the Transformer's encoder does not attempt to compress the entire source sentence, $X = (x_1, ... ,x_n)$, into a single context vector, $z$. Instead it produces a sequence of context vectors, $Z = (z_1, ... , z_n)$. So, if our input sequence was 5 tokens long we would have $Z = (z_1, z_2, z_3, z_4, z_5)$. Why do we call this a sequence of context vectors and not a sequence of hidden states? A hidden state at time $t$ in an RNN has only seen tokens $x_t$ and all the tokens before it. However, each context vector here has seen all tokens at all positions within the input sequence.\n",
    "\n",
    "![](assets/transformer-encoder.png)\n",
    "\n",
    "First, the tokens are passed through a standard embedding layer. Next, as the model has no recurrent it has no idea about the order of the tokens within the sequence. We solve this by using a second embedding layer called a *positional embedding layer*. This is a standard embedding layer where the input is not the token itself but the position of the token within the sequence, starting with the first token, the `<sos>` (start of sequence) token, in position 0. The position embedding has a \"vocabulary\" size of 100, which means our model can accept sentences up to 100 tokens long. This can be increased if we want to handle longer sentences.\n",
    "\n",
    "The original Transformer implementation from the Attention is All You Need paper does not learn positional embeddings. Instead it uses a fixed static embedding. Modern Transformer architectures, like BERT, use positional embeddings instead, hence we have decided to use them in these tutorials. Check out [this](http://nlp.seas.harvard.edu/2018/04/03/attention.html#positional-encoding) section to read more about the positional embeddings used in the original Transformer model.\n",
    "\n",
    "Next, the token and positional embeddings are elementwise summed together to get a vector which contains information about the token and also its position with in the sequence. However, before they are summed, the token embeddings are multiplied by a scaling factor which is $\\sqrt{d_{model}}$, where $d_{model}$ is the hidden dimension size, `hid_dim`. This supposedly reduces variance in the embeddings and the model is difficult to train reliably without this scaling factor. Dropout is then applied to the combined embeddings.\n",
    "\n",
    "The combined embeddings are then passed through $N$ *encoder layers* to get $Z$, which is then output and can be used by the decoder.\n",
    "\n",
    "The source mask, `src_mask`, is simply the same shape as the source sentence but has a value of 1 when the token in the source sentence is not a `<pad>` token and 0 when it is a `<pad>` token. This is used in the encoder layers to mask the multi-head attention mechanisms, which are used to calculate and apply attention over the source sentence, so the model does not pay attention to `<pad>` tokens, which contain no useful information."
   ]
  },
  {
   "cell_type": "code",
   "execution_count": 12,
   "metadata": {},
   "outputs": [],
   "source": [
    "class Encoder(nn.Module):\n",
    "    def __init__(self, \n",
    "                 input_dim, \n",
    "                 hid_dim, \n",
    "                 n_layers, \n",
    "                 n_heads, \n",
    "                 pf_dim,\n",
    "                 dropout, \n",
    "                 device,\n",
    "                 max_length = 100):\n",
    "        super().__init__()\n",
    "\n",
    "        self.device = device\n",
    "        \n",
    "        self.tok_embedding = nn.Embedding(input_dim, hid_dim)\n",
    "        self.pos_embedding = nn.Embedding(max_length, hid_dim)\n",
    "        \n",
    "        self.layers = nn.ModuleList([EncoderLayer(hid_dim, \n",
    "                                                  n_heads, \n",
    "                                                  pf_dim,\n",
    "                                                  dropout, \n",
    "                                                  device) \n",
    "                                     for _ in range(n_layers)])\n",
    "        \n",
    "        self.dropout = nn.Dropout(dropout)\n",
    "        \n",
    "        self.scale = torch.sqrt(torch.FloatTensor([hid_dim])).to(device)\n",
    "        \n",
    "    def forward(self, src, src_mask):\n",
    "        \n",
    "        #src = [batch size, src len]\n",
    "        #src_mask = [batch size, 1, 1, src len]\n",
    "        \n",
    "        batch_size = src.shape[0]\n",
    "        src_len = src.shape[1]\n",
    "        \n",
    "        pos = torch.arange(0, src_len).unsqueeze(0).repeat(batch_size, 1).to(self.device)\n",
    "        \n",
    "        #pos = [batch size, src len]\n",
    "        \n",
    "        src = self.dropout((self.tok_embedding(src) * self.scale) + self.pos_embedding(pos))\n",
    "        \n",
    "        #src = [batch size, src len, hid dim]\n",
    "        \n",
    "        for layer in self.layers:\n",
    "            src = layer(src, src_mask)\n",
    "            \n",
    "        #src = [batch size, src len, hid dim]\n",
    "            \n",
    "        return src"
   ]
  },
  {
   "cell_type": "markdown",
   "metadata": {},
   "source": [
    "### Encoder Layer\n",
    "\n",
    "The encoder layers are where all of the \"meat\" of the encoder is contained. We first pass the source sentence and its mask into the *multi-head attention layer*, then perform dropout on it, apply a residual connection and pass it through a [Layer Normalization](https://arxiv.org/abs/1607.06450) layer. We then pass it through a *position-wise feedforward* layer and then, again, apply dropout, a residual connection and then layer normalization to get the output of this layer which is fed into the next layer. The parameters are not shared between layers. \n",
    "\n",
    "The mutli head attention layer is used by the encoder layer to attend to the source sentence, i.e. it is calculating and applying attention over itself instead of another sequence, hence we call it *self attention*.\n",
    "\n",
    "[This](https://mlexplained.com/2018/01/13/weight-normalization-and-layer-normalization-explained-normalization-in-deep-learning-part-2/) article goes into more detail about layer normalization, but the gist is that it normalizes the values of the features, i.e. across the hidden dimension, so each feature has a mean of 0 and a standard deviation of 1. This allows neural networks with a larger number of layers, like the Transformer, to be trained easier."
   ]
  },
  {
   "cell_type": "code",
   "execution_count": 13,
   "metadata": {},
   "outputs": [],
   "source": [
    "class EncoderLayer(nn.Module):\n",
    "    def __init__(self, \n",
    "                 hid_dim, \n",
    "                 n_heads, \n",
    "                 pf_dim,  \n",
    "                 dropout, \n",
    "                 device):\n",
    "        super().__init__()\n",
    "        \n",
    "        self.self_attn_layer_norm = nn.LayerNorm(hid_dim)\n",
    "        self.ff_layer_norm = nn.LayerNorm(hid_dim)\n",
    "        self.self_attention = MultiHeadAttentionLayer(hid_dim, n_heads, dropout, device)\n",
    "        self.positionwise_feedforward = PositionwiseFeedforwardLayer(hid_dim, \n",
    "                                                                     pf_dim, \n",
    "                                                                     dropout)\n",
    "        self.dropout = nn.Dropout(dropout)\n",
    "        \n",
    "    def forward(self, src, src_mask):\n",
    "        \n",
    "        #src = [batch size, src len, hid dim]\n",
    "        #src_mask = [batch size, 1, 1, src len] \n",
    "                \n",
    "        #self attention\n",
    "        _src, _ = self.self_attention(src, src, src, src_mask)\n",
    "        \n",
    "        #dropout, residual connection and layer norm\n",
    "        src = self.self_attn_layer_norm(src + self.dropout(_src))\n",
    "        \n",
    "        #src = [batch size, src len, hid dim]\n",
    "        \n",
    "        #positionwise feedforward\n",
    "        _src = self.positionwise_feedforward(src)\n",
    "        \n",
    "        #dropout, residual and layer norm\n",
    "        src = self.ff_layer_norm(src + self.dropout(_src))\n",
    "        \n",
    "        #src = [batch size, src len, hid dim]\n",
    "        \n",
    "        return src"
   ]
  },
  {
   "cell_type": "markdown",
   "metadata": {},
   "source": [
    "### Mutli Head Attention Layer\n",
    "\n",
    "One of the key, novel concepts introduced by the Transformer paper is the *multi-head attention layer*. \n",
    "\n",
    "![](assets/transformer-attention.png)\n",
    "\n",
    "Attention can be though of as *queries*, *keys* and *values* - where the query is used with the key to get an attention vector (usually the output of a *softmax* operation and has all values between 0 and 1 which sum to 1) which is then used to get a weighted sum of the values.\n",
    "\n",
    "The Transformer uses *scaled dot-product attention*, where the query and key are combined by taking the dot product between them, then applying the softmax operation and scaling by $d_k$ before finally then multiplying by the value. $d_k$ is the *head dimension*, `head_dim`, which we will shortly explain further.\n",
    "\n",
    "$$ \\text{Attention}(Q, K, V) = \\text{Softmax} \\big( \\frac{QK^T}{\\sqrt{d_k}} \\big)V $$ \n",
    "\n",
    "This is similar to standard *dot product attention* but is scaled by $d_k$, which the paper states is used to stop the results of the dot products growing large, causing gradients to become too small.\n",
    "\n",
    "However, the scaled dot-product attention isn't simply applied to the queries, keys and values. Instead of doing a single attention application the queries, keys and values have their `hid_dim` split into $h$ *heads* and the scaled dot-product attention is calculated over all heads in parallel. This means instead of paying attention to one concept per attention application, we pay attention to $h$. We then re-combine the heads into their `hid_dim` shape, thus each `hid_dim` is potentially paying attention to $h$ different concepts.\n",
    "\n",
    "$$ \\text{MultiHead}(Q, K, V) = \\text{Concat}(\\text{head}_1,...,\\text{head}_h)W^O $$\n",
    "\n",
    "$$\\text{head}_i = \\text{Attention}(QW_i^Q, KW_i^K, VW_i^V) $$\n",
    "\n",
    "$W^O$ is the linear layer applied at the end of the multi-head attention layer, `fc`. $W^Q, W^K, W^V$ are the linear layers `fc_q`, `fc_k` and `fc_v`.\n",
    "\n",
    "Walking through the module, first we calculate $QW^Q$, $KW^K$ and $VW^V$ with the linear layers, `fc_q`, `fc_k` and `fc_v`, to give us `Q`, `K` and `V`. Next, we split the `hid_dim` of the query, key and value into `n_heads` using `.view` and correctly permute them so they can be multiplied together. We then calculate the `energy` (the un-normalized attention) by multiplying `Q` and `K` together and scaling it by the square root of `head_dim`, which is calulated as `hid_dim // n_heads`. We then mask the energy so we do not pay attention over any elements of the sequeuence we shouldn't, then apply the softmax and dropout. We then apply the attention to the value heads, `V`, before combining the `n_heads` together. Finally, we multiply this $W^O$, represented by `fc_o`. \n",
    "\n",
    "Note that in our implementation the lengths of the keys and values are always the same, thus when matrix multiplying the output of the softmax, `attention`, with `V` we will always have valid dimension sizes for matrix multiplication. This multiplication is carried out using `torch.matmul` which, when both tensors are >2-dimensional, does a batched matrix multiplication over the last two dimensions of each tensor. This will be a **[query len, key len] x [value len, head dim]** batched matrix multiplication over the batch size and each head which provides the **[batch size, n heads, query len, head dim]** result.\n",
    "\n",
    "One thing that looks strange at first is that dropout is applied directly to the attention. This means that our attention vector will most probably not sum to 1 and we may pay full attention to a token but the attention over that token is set to 0 by dropout. This is never explained, or even mentioned, in the paper however is used by the [official implementation](https://github.com/tensorflow/tensor2tensor/) and every Transformer implementation since, [including BERT](https://github.com/google-research/bert/)."
   ]
  },
  {
   "cell_type": "code",
   "execution_count": 14,
   "metadata": {},
   "outputs": [],
   "source": [
    "class MultiHeadAttentionLayer(nn.Module):\n",
    "    def __init__(self, hid_dim, n_heads, dropout, device):\n",
    "        super().__init__()\n",
    "        \n",
    "        assert hid_dim % n_heads == 0\n",
    "        \n",
    "        self.hid_dim = hid_dim\n",
    "        self.n_heads = n_heads\n",
    "        self.head_dim = hid_dim // n_heads\n",
    "        \n",
    "        self.fc_q = nn.Linear(hid_dim, hid_dim)\n",
    "        self.fc_k = nn.Linear(hid_dim, hid_dim)\n",
    "        self.fc_v = nn.Linear(hid_dim, hid_dim)\n",
    "        \n",
    "        self.fc_o = nn.Linear(hid_dim, hid_dim)\n",
    "        \n",
    "        self.dropout = nn.Dropout(dropout)\n",
    "        \n",
    "        self.scale = torch.sqrt(torch.FloatTensor([self.head_dim])).to(device)\n",
    "        \n",
    "    def forward(self, query, key, value, mask = None):\n",
    "        \n",
    "        batch_size = query.shape[0]\n",
    "        \n",
    "        #query = [batch size, query len, hid dim]\n",
    "        #key = [batch size, key len, hid dim]\n",
    "        #value = [batch size, value len, hid dim]\n",
    "                \n",
    "        Q = self.fc_q(query)\n",
    "        K = self.fc_k(key)\n",
    "        V = self.fc_v(value)\n",
    "        \n",
    "        #Q = [batch size, query len, hid dim]\n",
    "        #K = [batch size, key len, hid dim]\n",
    "        #V = [batch size, value len, hid dim]\n",
    "                \n",
    "        Q = Q.view(batch_size, -1, self.n_heads, self.head_dim).permute(0, 2, 1, 3)\n",
    "        K = K.view(batch_size, -1, self.n_heads, self.head_dim).permute(0, 2, 1, 3)\n",
    "        V = V.view(batch_size, -1, self.n_heads, self.head_dim).permute(0, 2, 1, 3)\n",
    "        \n",
    "        #Q = [batch size, n heads, query len, head dim]\n",
    "        #K = [batch size, n heads, key len, head dim]\n",
    "        #V = [batch size, n heads, value len, head dim]\n",
    "                \n",
    "        energy = torch.matmul(Q, K.permute(0, 1, 3, 2)) / self.scale\n",
    "        \n",
    "        #energy = [batch size, n heads, query len, key len]\n",
    "        \n",
    "        if mask is not None:\n",
    "            energy = energy.masked_fill(mask == 0, -1e10)\n",
    "        \n",
    "        attention = torch.softmax(energy, dim = -1)\n",
    "                \n",
    "        #attention = [batch size, n heads, query len, key len]\n",
    "                \n",
    "        x = torch.matmul(self.dropout(attention), V)\n",
    "        \n",
    "        #x = [batch size, n heads, query len, head dim]\n",
    "        \n",
    "        x = x.permute(0, 2, 1, 3).contiguous()\n",
    "        \n",
    "        #x = [batch size, query len, n heads, head dim]\n",
    "        \n",
    "        x = x.view(batch_size, -1, self.hid_dim)\n",
    "        \n",
    "        #x = [batch size, query len, hid dim]\n",
    "        \n",
    "        x = self.fc_o(x)\n",
    "        \n",
    "        #x = [batch size, query len, hid dim]\n",
    "        \n",
    "        return x, attention"
   ]
  },
  {
   "cell_type": "markdown",
   "metadata": {},
   "source": [
    "### Position-wise Feedforward Layer\n",
    "\n",
    "The other main block inside the encoder layer is the *position-wise feedforward layer* This is relatively simple compared to the multi-head attention layer. The input is transformed from `hid_dim` to `pf_dim`, where `pf_dim` is usually a lot larger than `hid_dim`. The original Transformer used a `hid_dim` of 512 and a `pf_dim` of 2048. The ReLU activation function and dropout are applied before it is transformed back into a `hid_dim` representation. \n",
    "\n",
    "Why is this used? Unfortunately, it is never explained in the paper.\n",
    "\n",
    "BERT uses the [GELU](https://arxiv.org/abs/1606.08415) activation function, which can be used by simply switching `torch.relu` for `F.gelu`. Why did they use GELU? Again, it is never explained."
   ]
  },
  {
   "cell_type": "code",
   "execution_count": 15,
   "metadata": {},
   "outputs": [],
   "source": [
    "class PositionwiseFeedforwardLayer(nn.Module):\n",
    "    def __init__(self, hid_dim, pf_dim, dropout):\n",
    "        super().__init__()\n",
    "        \n",
    "        self.fc_1 = nn.Linear(hid_dim, pf_dim)\n",
    "        self.fc_2 = nn.Linear(pf_dim, hid_dim)\n",
    "        \n",
    "        self.dropout = nn.Dropout(dropout)\n",
    "        \n",
    "    def forward(self, x):\n",
    "        \n",
    "        #x = [batch size, seq len, hid dim]\n",
    "        \n",
    "        x = self.dropout(torch.relu(self.fc_1(x)))\n",
    "        \n",
    "        #x = [batch size, seq len, pf dim]\n",
    "        \n",
    "        x = self.fc_2(x)\n",
    "        \n",
    "        #x = [batch size, seq len, hid dim]\n",
    "        \n",
    "        return x"
   ]
  },
  {
   "cell_type": "markdown",
   "metadata": {},
   "source": [
    "### Decoder\n",
    "\n",
    "The objective of the decoder is to take the encoded representation of the source sentence, $Z$, and convert it into predicted tokens in the target sentence, $\\hat{Y}$. We then compare $\\hat{Y}$ with the actual tokens in the target sentence, $Y$, to calculate our loss, which will be used to calculate the gradients of our parameters and then use our optimizer to update our weights in order to improve our predictions. \n",
    "\n",
    "![](assets/transformer-decoder.png)\n",
    "\n",
    "The decoder is similar to encoder, however it now has two multi-head attention layers. A *masked multi-head attention layer* over the target sequence, and a multi-head attention layer which uses the decoder representation as the query and the encoder representation as the key and value.\n",
    "\n",
    "The decoder uses positional embeddings and combines - via an elementwise sum - them with the scaled embedded target tokens, followed by dropout. Again, our positional encodings have a \"vocabulary\" of 100, which means they can accept sequences up to 100 tokens long. This can be increased if desired.\n",
    "\n",
    "The combined embeddings are then passed through the $N$ decoder layers, along with the encoded source, `enc_src`, and the source and target masks. Note that the number of layers in the encoder does not have to be equal to the number of layers in the decoder, even though they are both denoted by $N$.\n",
    "\n",
    "The decoder representation after the $N^{th}$ layer is then passed through a linear layer, `fc_out`. In PyTorch, the softmax operation is contained within our loss function, so we do not explicitly need to use a softmax layer here.\n",
    "\n",
    "As well as using the source mask, as we did in the encoder to prevent our model attending to `<pad>` tokens, we also use a target mask. This will be explained further in the `Seq2Seq` model which encapsulates both the encoder and decoder, but the gist of it is that it performs a similar operation as the decoder padding in the convolutional sequence-to-sequence model. As we are processing all of the target tokens at once in parallel we need a method of stopping the decoder from \"cheating\" by simply \"looking\" at what the next token in the target sequence is and outputting it. \n",
    "\n",
    "Our decoder layer also outputs the normalized attention values so we can later plot them to see what our model is actually paying attention to."
   ]
  },
  {
   "cell_type": "code",
   "execution_count": 16,
   "metadata": {},
   "outputs": [],
   "source": [
    "class Decoder(nn.Module):\n",
    "    def __init__(self, \n",
    "                 output_dim, \n",
    "                 hid_dim, \n",
    "                 n_layers, \n",
    "                 n_heads, \n",
    "                 pf_dim, \n",
    "                 dropout, \n",
    "                 device,\n",
    "                 max_length = 100):\n",
    "        super().__init__()\n",
    "        \n",
    "        self.device = device\n",
    "        \n",
    "        self.tok_embedding = nn.Embedding(output_dim, hid_dim)\n",
    "        self.pos_embedding = nn.Embedding(max_length, hid_dim)\n",
    "        \n",
    "        self.layers = nn.ModuleList([DecoderLayer(hid_dim, \n",
    "                                                  n_heads, \n",
    "                                                  pf_dim, \n",
    "                                                  dropout, \n",
    "                                                  device)\n",
    "                                     for _ in range(n_layers)])\n",
    "        \n",
    "        self.fc_out = nn.Linear(hid_dim, output_dim)\n",
    "        \n",
    "        self.dropout = nn.Dropout(dropout)\n",
    "        \n",
    "        self.scale = torch.sqrt(torch.FloatTensor([hid_dim])).to(device)\n",
    "        \n",
    "    def forward(self, trg, enc_src, trg_mask, src_mask):\n",
    "        \n",
    "        #trg = [batch size, trg len]\n",
    "        #enc_src = [batch size, src len, hid dim]\n",
    "        #trg_mask = [batch size, 1, trg len, trg len]\n",
    "        #src_mask = [batch size, 1, 1, src len]\n",
    "                \n",
    "        batch_size = trg.shape[0]\n",
    "        trg_len = trg.shape[1]\n",
    "        \n",
    "        pos = torch.arange(0, trg_len).unsqueeze(0).repeat(batch_size, 1).to(self.device)\n",
    "                            \n",
    "        #pos = [batch size, trg len]\n",
    "            \n",
    "        trg = self.dropout((self.tok_embedding(trg) * self.scale) + self.pos_embedding(pos))\n",
    "                \n",
    "        #trg = [batch size, trg len, hid dim]\n",
    "        \n",
    "        for layer in self.layers:\n",
    "            trg, attention = layer(trg, enc_src, trg_mask, src_mask)\n",
    "        \n",
    "        #trg = [batch size, trg len, hid dim]\n",
    "        #attention = [batch size, n heads, trg len, src len]\n",
    "        \n",
    "        output = self.fc_out(trg)\n",
    "        \n",
    "        #output = [batch size, trg len, output dim]\n",
    "            \n",
    "        return output, attention"
   ]
  },
  {
   "cell_type": "markdown",
   "metadata": {},
   "source": [
    "### Decoder Layer\n",
    "\n",
    "As mentioned previously, the decoder layer is similar to the encoder layer except that it now has two multi-head attention layers, `self_attention` and `encoder_attention`. \n",
    "\n",
    "The first performs self-attention, as in the encoder, by using the decoder representation so far as the query, key and value. This is followed by dropout, residual connection and layer normalization. This `self_attention` layer uses the target sequence mask, `trg_mask`, in order to prevent the decoder from \"cheating\" by paying attention to tokens that are \"ahead\" of the one it is currently processing as it processes all tokens in the target sentence in parallel.\n",
    "\n",
    "The second is how we actually feed the encoded source sentence, `enc_src`, into our decoder. In this multi-head attention layer the queries are the decoder representations and the keys and values are the encoder representations. Here, the source mask, `src_mask` is used to prevent the multi-head attention layer from attending to `<pad>` tokens within the source sentence. This is then followed by the dropout, residual connection and layer normalization layers. \n",
    "\n",
    "Finally, we pass this through the position-wise feedforward layer and yet another sequence of dropout, residual connection and layer normalization.\n",
    "\n",
    "The decoder layer isn't introducing any new concepts, just using the same set of layers as the encoder in a slightly different way."
   ]
  },
  {
   "cell_type": "code",
   "execution_count": 17,
   "metadata": {},
   "outputs": [],
   "source": [
    "class DecoderLayer(nn.Module):\n",
    "    def __init__(self, \n",
    "                 hid_dim, \n",
    "                 n_heads, \n",
    "                 pf_dim, \n",
    "                 dropout, \n",
    "                 device):\n",
    "        super().__init__()\n",
    "        \n",
    "        self.self_attn_layer_norm = nn.LayerNorm(hid_dim)\n",
    "        self.enc_attn_layer_norm = nn.LayerNorm(hid_dim)\n",
    "        self.ff_layer_norm = nn.LayerNorm(hid_dim)\n",
    "        self.self_attention = MultiHeadAttentionLayer(hid_dim, n_heads, dropout, device)\n",
    "        self.encoder_attention = MultiHeadAttentionLayer(hid_dim, n_heads, dropout, device)\n",
    "        self.positionwise_feedforward = PositionwiseFeedforwardLayer(hid_dim, \n",
    "                                                                     pf_dim, \n",
    "                                                                     dropout)\n",
    "        self.dropout = nn.Dropout(dropout)\n",
    "        \n",
    "    def forward(self, trg, enc_src, trg_mask, src_mask):\n",
    "        \n",
    "        #trg = [batch size, trg len, hid dim]\n",
    "        #enc_src = [batch size, src len, hid dim]\n",
    "        #trg_mask = [batch size, 1, trg len, trg len]\n",
    "        #src_mask = [batch size, 1, 1, src len]\n",
    "        \n",
    "        #self attention\n",
    "        _trg, _ = self.self_attention(trg, trg, trg, trg_mask)\n",
    "        \n",
    "        #dropout, residual connection and layer norm\n",
    "        trg = self.self_attn_layer_norm(trg + self.dropout(_trg))\n",
    "            \n",
    "        #trg = [batch size, trg len, hid dim]\n",
    "            \n",
    "        #encoder attention\n",
    "        _trg, attention = self.encoder_attention(trg, enc_src, enc_src, src_mask)\n",
    "        \n",
    "        #dropout, residual connection and layer norm\n",
    "        trg = self.enc_attn_layer_norm(trg + self.dropout(_trg))\n",
    "                    \n",
    "        #trg = [batch size, trg len, hid dim]\n",
    "        \n",
    "        #positionwise feedforward\n",
    "        _trg = self.positionwise_feedforward(trg)\n",
    "        \n",
    "        #dropout, residual and layer norm\n",
    "        trg = self.ff_layer_norm(trg + self.dropout(_trg))\n",
    "        \n",
    "        #trg = [batch size, trg len, hid dim]\n",
    "        #attention = [batch size, n heads, trg len, src len]\n",
    "        \n",
    "        return trg, attention"
   ]
  },
  {
   "cell_type": "markdown",
   "metadata": {},
   "source": [
    "### Seq2Seq\n",
    "\n",
    "Finally, we have the `Seq2Seq` module which encapsulates the encoder and decoder, as well as handling the creation of the masks.\n",
    "\n",
    "The source mask is created by checking where the source sequence is not equal to a `<pad>` token. It is 1 where the token is not a `<pad>` token and 0 when it is. It is then unsqueezed so it can be correctly broadcast when applying the mask to the `energy`, which of shape **_[batch size, n heads, seq len, seq len]_**.\n",
    "\n",
    "The target mask is slightly more complicated. First, we create a mask for the `<pad>` tokens, as we did for the source mask. Next, we create a \"subsequent\" mask, `trg_sub_mask`, using `torch.tril`. This creates a diagonal matrix where the elements above the diagonal will be zero and the elements below the diagonal will be set to whatever the input tensor is. In this case, the input tensor will be a tensor filled with ones. So this means our `trg_sub_mask` will look something like this (for a target with 5 tokens):\n",
    "\n",
    "$$\\begin{matrix}\n",
    "1 & 0 & 0 & 0 & 0\\\\\n",
    "1 & 1 & 0 & 0 & 0\\\\\n",
    "1 & 1 & 1 & 0 & 0\\\\\n",
    "1 & 1 & 1 & 1 & 0\\\\\n",
    "1 & 1 & 1 & 1 & 1\\\\\n",
    "\\end{matrix}$$\n",
    "\n",
    "This shows what each target token (row) is allowed to look at (column). The first target token has a mask of **_[1, 0, 0, 0, 0]_** which means it can only look at the first target token. The second target token has a mask of **_[1, 1, 0, 0, 0]_** which it means it can look at both the first and second target tokens. \n",
    "\n",
    "The \"subsequent\" mask is then logically anded with the padding mask, this combines the two masks ensuring both the subsequent tokens and the padding tokens cannot be attended to. For example if the last two tokens were `<pad>` tokens the mask would look like:\n",
    "\n",
    "$$\\begin{matrix}\n",
    "1 & 0 & 0 & 0 & 0\\\\\n",
    "1 & 1 & 0 & 0 & 0\\\\\n",
    "1 & 1 & 1 & 0 & 0\\\\\n",
    "1 & 1 & 1 & 0 & 0\\\\\n",
    "1 & 1 & 1 & 0 & 0\\\\\n",
    "\\end{matrix}$$\n",
    "\n",
    "After the masks are created, they used with the encoder and decoder along with the source and target sentences to get our predicted target sentence, `output`, along with the decoder's attention over the source sequence."
   ]
  },
  {
   "cell_type": "code",
   "execution_count": 18,
   "metadata": {},
   "outputs": [],
   "source": [
    "class Seq2Seq(nn.Module):\n",
    "    def __init__(self, \n",
    "                 encoder, \n",
    "                 decoder, \n",
    "                 src_pad_idx, \n",
    "                 trg_pad_idx, \n",
    "                 device):\n",
    "        super().__init__()\n",
    "        \n",
    "        self.encoder = encoder\n",
    "        self.decoder = decoder\n",
    "        self.src_pad_idx = src_pad_idx\n",
    "        self.trg_pad_idx = trg_pad_idx\n",
    "        self.device = device\n",
    "        \n",
    "    def make_src_mask(self, src):\n",
    "        \n",
    "        #src = [batch size, src len]\n",
    "        \n",
    "        src_mask = (src != self.src_pad_idx).unsqueeze(1).unsqueeze(2)\n",
    "\n",
    "        #src_mask = [batch size, 1, 1, src len]\n",
    "\n",
    "        return src_mask\n",
    "    \n",
    "    def make_trg_mask(self, trg):\n",
    "        \n",
    "        #trg = [batch size, trg len]\n",
    "        \n",
    "        trg_pad_mask = (trg != self.trg_pad_idx).unsqueeze(1).unsqueeze(2)\n",
    "        \n",
    "        #trg_pad_mask = [batch size, 1, 1, trg len]\n",
    "        \n",
    "        trg_len = trg.shape[1]\n",
    "        \n",
    "        trg_sub_mask = torch.tril(torch.ones((trg_len, trg_len), device = self.device)).bool()\n",
    "        \n",
    "        #trg_sub_mask = [trg len, trg len]\n",
    "            \n",
    "        trg_mask = trg_pad_mask & trg_sub_mask\n",
    "        \n",
    "        #trg_mask = [batch size, 1, trg len, trg len]\n",
    "        \n",
    "        return trg_mask\n",
    "\n",
    "    def forward(self, src, trg):\n",
    "        \n",
    "        #src = [batch size, src len]\n",
    "        #trg = [batch size, trg len]\n",
    "                \n",
    "        src_mask = self.make_src_mask(src)\n",
    "        trg_mask = self.make_trg_mask(trg)\n",
    "        \n",
    "        #src_mask = [batch size, 1, 1, src len]\n",
    "        #trg_mask = [batch size, 1, trg len, trg len]\n",
    "        \n",
    "        enc_src = self.encoder(src, src_mask)\n",
    "        \n",
    "        #enc_src = [batch size, src len, hid dim]\n",
    "                \n",
    "        output, attention = self.decoder(trg, enc_src, trg_mask, src_mask)\n",
    "        \n",
    "        #output = [batch size, trg len, output dim]\n",
    "        #attention = [batch size, n heads, trg len, src len]\n",
    "        \n",
    "        return output, attention"
   ]
  },
  {
   "cell_type": "markdown",
   "metadata": {},
   "source": [
    "## Training the Seq2Seq Model\n",
    "\n",
    "We can now define our encoder and decoders. This model is significantly smaller than Transformers used in research today, but is able to be run on a single GPU quickly."
   ]
  },
  {
   "cell_type": "code",
   "execution_count": 19,
   "metadata": {},
   "outputs": [],
   "source": [
    "INPUT_DIM = len(SRC.vocab)\n",
    "OUTPUT_DIM = len(TRG.vocab)\n",
    "HID_DIM = 256\n",
    "ENC_LAYERS = 3\n",
    "DEC_LAYERS = 3\n",
    "ENC_HEADS = 8\n",
    "DEC_HEADS = 8\n",
    "ENC_PF_DIM = 512\n",
    "DEC_PF_DIM = 512\n",
    "ENC_DROPOUT = 0.1\n",
    "DEC_DROPOUT = 0.1\n",
    "\n",
    "enc = Encoder(INPUT_DIM, \n",
    "              HID_DIM, \n",
    "              ENC_LAYERS, \n",
    "              ENC_HEADS, \n",
    "              ENC_PF_DIM, \n",
    "              ENC_DROPOUT, \n",
    "              device)\n",
    "\n",
    "dec = Decoder(OUTPUT_DIM, \n",
    "              HID_DIM, \n",
    "              DEC_LAYERS, \n",
    "              DEC_HEADS, \n",
    "              DEC_PF_DIM, \n",
    "              DEC_DROPOUT, \n",
    "              device)"
   ]
  },
  {
   "cell_type": "markdown",
   "metadata": {},
   "source": [
    "Then, use them to define our whole sequence-to-sequence encapsulating model."
   ]
  },
  {
   "cell_type": "code",
   "execution_count": 20,
   "metadata": {},
   "outputs": [],
   "source": [
    "SRC_PAD_IDX = SRC.vocab.stoi[SRC.pad_token]\n",
    "TRG_PAD_IDX = TRG.vocab.stoi[TRG.pad_token]\n",
    "\n",
    "model = Seq2Seq(enc, dec, SRC_PAD_IDX, TRG_PAD_IDX, device).to(device)"
   ]
  },
  {
   "cell_type": "code",
   "execution_count": 21,
   "metadata": {},
   "outputs": [
    {
     "data": {
      "text/plain": [
       "1"
      ]
     },
     "execution_count": 21,
     "metadata": {},
     "output_type": "execute_result"
    }
   ],
   "source": [
    "SRC_PAD_IDX"
   ]
  },
  {
   "cell_type": "markdown",
   "metadata": {},
   "source": [
    "We can check the number of parameters, noticing it is significantly less than the 37M for the convolutional sequence-to-sequence model."
   ]
  },
  {
   "cell_type": "code",
   "execution_count": 22,
   "metadata": {},
   "outputs": [
    {
     "name": "stdout",
     "output_type": "stream",
     "text": [
      "The model has 9,038,341 trainable parameters\n"
     ]
    }
   ],
   "source": [
    "def count_parameters(model):\n",
    "    return sum(p.numel() for p in model.parameters() if p.requires_grad)\n",
    "\n",
    "print(f'The model has {count_parameters(model):,} trainable parameters')"
   ]
  },
  {
   "cell_type": "markdown",
   "metadata": {},
   "source": [
    "The paper does not mention which weight initialization scheme was used, however Xavier uniform seems to be common amongst Transformer models, so we use it here."
   ]
  },
  {
   "cell_type": "code",
   "execution_count": 23,
   "metadata": {},
   "outputs": [],
   "source": [
    "def initialize_weights(m):\n",
    "    if hasattr(m, 'weight') and m.weight.dim() > 1:\n",
    "        nn.init.xavier_uniform_(m.weight.data)"
   ]
  },
  {
   "cell_type": "code",
   "execution_count": 24,
   "metadata": {},
   "outputs": [],
   "source": [
    "model.apply(initialize_weights);"
   ]
  },
  {
   "cell_type": "markdown",
   "metadata": {},
   "source": [
    "The optimizer used in the original Transformer paper uses Adam with a learning rate that has a \"warm-up\" and then a \"cool-down\" period. BERT and other Transformer models use Adam with a fixed learning rate, so we will implement that. Check [this](http://nlp.seas.harvard.edu/2018/04/03/attention.html#optimizer) link for more details about the original Transformer's learning rate schedule.\n",
    "\n",
    "Note that the learning rate needs to be lower than the default used by Adam or else learning is unstable."
   ]
  },
  {
   "cell_type": "code",
   "execution_count": 25,
   "metadata": {},
   "outputs": [],
   "source": [
    "LEARNING_RATE = 0.0005\n",
    "\n",
    "optimizer = torch.optim.Adam(model.parameters(), lr = LEARNING_RATE)"
   ]
  },
  {
   "cell_type": "markdown",
   "metadata": {},
   "source": [
    "Next, we define our loss function, making sure to ignore losses calculated over `<pad>` tokens."
   ]
  },
  {
   "cell_type": "code",
   "execution_count": 26,
   "metadata": {},
   "outputs": [],
   "source": [
    "criterion = nn.CrossEntropyLoss(ignore_index = TRG_PAD_IDX)"
   ]
  },
  {
   "cell_type": "markdown",
   "metadata": {},
   "source": [
    "Then, we'll define our training loop. This is the exact same as the one used in the previous tutorial.\n",
    "\n",
    "As we want our model to predict the `<eos>` token but not have it be an input into our model we simply slice the `<eos>` token off the end of the sequence. Thus:\n",
    "\n",
    "$$\\begin{align*}\n",
    "\\text{trg} &= [sos, x_1, x_2, x_3, eos]\\\\\n",
    "\\text{trg[:-1]} &= [sos, x_1, x_2, x_3]\n",
    "\\end{align*}$$\n",
    "\n",
    "$x_i$ denotes actual target sequence element. We then feed this into the model to get a predicted sequence that should hopefully predict the `<eos>` token:\n",
    "\n",
    "$$\\begin{align*}\n",
    "\\text{output} &= [y_1, y_2, y_3, eos]\n",
    "\\end{align*}$$\n",
    "\n",
    "$y_i$ denotes predicted target sequence element. We then calculate our loss using the original `trg` tensor with the `<sos>` token sliced off the front, leaving the `<eos>` token:\n",
    "\n",
    "$$\\begin{align*}\n",
    "\\text{output} &= [y_1, y_2, y_3, eos]\\\\\n",
    "\\text{trg[1:]} &= [x_1, x_2, x_3, eos]\n",
    "\\end{align*}$$\n",
    "\n",
    "We then calculate our losses and update our parameters as is standard."
   ]
  },
  {
   "cell_type": "code",
   "execution_count": 27,
   "metadata": {},
   "outputs": [],
   "source": [
    "def train(model, iterator, optimizer, criterion, clip):\n",
    "    \n",
    "    model.train()\n",
    "    \n",
    "    epoch_loss = 0\n",
    "    \n",
    "    for i, batch in enumerate(iterator):\n",
    "        \n",
    "        src = batch.src\n",
    "        trg = batch.trg\n",
    "        \n",
    "        optimizer.zero_grad()\n",
    "        \n",
    "        output, _ = model(src, trg[:,:-1])\n",
    "                \n",
    "        #output = [batch size, trg len - 1, output dim]\n",
    "        #trg = [batch size, trg len]\n",
    "            \n",
    "        output_dim = output.shape[-1]\n",
    "            \n",
    "        output = output.contiguous().view(-1, output_dim)\n",
    "        trg = trg[:,1:].contiguous().view(-1)\n",
    "                \n",
    "        #output = [batch size * trg len - 1, output dim]\n",
    "        #trg = [batch size * trg len - 1]\n",
    "            \n",
    "        loss = criterion(output, trg)\n",
    "        \n",
    "        loss.backward()\n",
    "        \n",
    "        torch.nn.utils.clip_grad_norm_(model.parameters(), clip)\n",
    "        \n",
    "        optimizer.step()\n",
    "        \n",
    "        epoch_loss += loss.item()\n",
    "        \n",
    "    return epoch_loss / len(iterator)"
   ]
  },
  {
   "cell_type": "markdown",
   "metadata": {},
   "source": [
    "The evaluation loop is the same as the training loop, just without the gradient calculations and parameter updates."
   ]
  },
  {
   "cell_type": "code",
   "execution_count": 28,
   "metadata": {},
   "outputs": [],
   "source": [
    "def evaluate(model, iterator, criterion):\n",
    "    \n",
    "    model.eval()\n",
    "    \n",
    "    epoch_loss = 0\n",
    "    \n",
    "    with torch.no_grad():\n",
    "    \n",
    "        for i, batch in enumerate(iterator):\n",
    "\n",
    "            src = batch.src\n",
    "            trg = batch.trg\n",
    "\n",
    "            output, _ = model(src, trg[:,:-1])\n",
    "            \n",
    "            #output = [batch size, trg len - 1, output dim]\n",
    "            #trg = [batch size, trg len]\n",
    "            \n",
    "            output_dim = output.shape[-1]\n",
    "            \n",
    "            output = output.contiguous().view(-1, output_dim)\n",
    "            trg = trg[:,1:].contiguous().view(-1)\n",
    "            \n",
    "            #output = [batch size * trg len - 1, output dim]\n",
    "            #trg = [batch size * trg len - 1]\n",
    "            \n",
    "            loss = criterion(output, trg)\n",
    "\n",
    "            epoch_loss += loss.item()\n",
    "        \n",
    "    return epoch_loss / len(iterator)"
   ]
  },
  {
   "cell_type": "markdown",
   "metadata": {},
   "source": [
    "We then define a small function that we can use to tell us how long an epoch takes."
   ]
  },
  {
   "cell_type": "code",
   "execution_count": 29,
   "metadata": {},
   "outputs": [],
   "source": [
    "def epoch_time(start_time, end_time):\n",
    "    elapsed_time = end_time - start_time\n",
    "    elapsed_mins = int(elapsed_time / 60)\n",
    "    elapsed_secs = int(elapsed_time - (elapsed_mins * 60))\n",
    "    return elapsed_mins, elapsed_secs"
   ]
  },
  {
   "cell_type": "markdown",
   "metadata": {},
   "source": [
    "Finally, we train our actual model. This model is almost 3x faster than the convolutional sequence-to-sequence model and also achieves a lower validation perplexity!"
   ]
  },
  {
   "cell_type": "code",
   "execution_count": 31,
   "metadata": {},
   "outputs": [
    {
     "ename": "",
     "evalue": "",
     "output_type": "error",
     "traceback": [
      "\u001b[1;31mFailed to interrupt the Kernel. \n",
      "No debugger available, can not send 'disconnect'. \n",
      "View Jupyter <a href='command:jupyter.viewOutput'>log</a> for further details."
     ]
    }
   ],
   "source": [
    "N_EPOCHS = 10\n",
    "CLIP = 1\n",
    "\n",
    "best_valid_loss = float('inf')\n",
    "\n",
    "for epoch in range(N_EPOCHS):\n",
    "    \n",
    "    start_time = time.time()\n",
    "    \n",
    "    train_loss = train(model, train_iterator, optimizer, criterion, CLIP)\n",
    "    valid_loss = evaluate(model, valid_iterator, criterion)\n",
    "    \n",
    "    end_time = time.time()\n",
    "    \n",
    "    epoch_mins, epoch_secs = epoch_time(start_time, end_time)\n",
    "    \n",
    "    if valid_loss < best_valid_loss:\n",
    "        best_valid_loss = valid_loss\n",
    "        torch.save(model.state_dict(), 'tut6-model.pt')\n",
    "    \n",
    "    print(f'Epoch: {epoch+1:02} | Time: {epoch_mins}m {epoch_secs}s')\n",
    "    print(f'\\tTrain Loss: {train_loss:.3f} | Train PPL: {math.exp(train_loss):7.3f}')\n",
    "    print(f'\\t Val. Loss: {valid_loss:.3f} |  Val. PPL: {math.exp(valid_loss):7.3f}')\n",
    "    \n",
    "    start_time = time.time()\n",
    "    \n",
    "    train_loss = train(model, train_iterator, optimizer, criterion, CLIP)\n",
    "    valid_loss = evaluate(model, valid_iterator, criterion)\n",
    "    \n",
    "    end_time = time.time()\n",
    "    \n",
    "    epoch_mins, epoch_secs = epoch_time(start_time, end_time)\n",
    "    \n",
    "    if valid_loss < best_valid_loss:\n",
    "        best_valid_loss = valid_loss\n",
    "        torch.save(model.state_dict(), 'tut6-model.pt')\n",
    "    \n",
    "    print(f'Epoch: {epoch+1:02} | Time: {epoch_mins}m {epoch_secs}s')\n",
    "    print(f'\\tTrain Loss: {train_loss:.3f} | Train PPL: {math.exp(train_loss):7.3f}')\n",
    "    print(f'\\t Val. Loss: {valid_loss:.3f} |  Val. PPL: {math.exp(valid_loss):7.3f}')"
   ]
  },
  {
   "cell_type": "markdown",
   "metadata": {},
   "source": [
    "We load our \"best\" parameters and manage to achieve a better test perplexity than all previous models."
   ]
  },
  {
   "cell_type": "code",
   "execution_count": null,
   "metadata": {},
   "outputs": [],
   "source": [
    "model.load_state_dict(torch.load('tut6-model.pt'))\n",
    "\n",
    "test_loss = evaluate(model, test_iterator, criterion)\n",
    "\n",
    "print(f'| Test Loss: {test_loss:.3f} | Test PPL: {math.exp(test_loss):7.3f} |')"
   ]
  },
  {
   "cell_type": "markdown",
   "metadata": {},
   "source": [
    "## Inference\n",
    "\n",
    "Now we can can translations from our model with the `translate_sentence` function below.\n",
    "\n",
    "The steps taken are:\n",
    "- tokenize the source sentence if it has not been tokenized (is a string)\n",
    "- append the `<sos>` and `<eos>` tokens\n",
    "- numericalize the source sentence\n",
    "- convert it to a tensor and add a batch dimension\n",
    "- create the source sentence mask\n",
    "- feed the source sentence and mask into the encoder\n",
    "- create a list to hold the output sentence, initialized with an `<sos>` token\n",
    "- while we have not hit a maximum length\n",
    "  - convert the current output sentence prediction into a tensor with a batch dimension\n",
    "  - create a target sentence mask\n",
    "  - place the current output, encoder output and both masks into the decoder\n",
    "  - get next output token prediction from decoder along with attention\n",
    "  - add prediction to current output sentence prediction\n",
    "  - break if the prediction was an `<eos>` token\n",
    "- convert the output sentence from indexes to tokens\n",
    "- return the output sentence (with the `<sos>` token removed) and the attention from the last layer"
   ]
  },
  {
   "cell_type": "code",
   "execution_count": null,
   "metadata": {},
   "outputs": [],
   "source": [
    "def translate_sentence(sentence, src_field, trg_field, model, device, max_len = 50):\n",
    "    \n",
    "    model.eval()\n",
    "        \n",
    "    if isinstance(sentence, str):\n",
    "        nlp = spacy.load('de_core_news_sm')\n",
    "        tokens = [token.text.lower() for token in nlp(sentence)]\n",
    "    else:\n",
    "        tokens = [token.lower() for token in sentence]\n",
    "\n",
    "    tokens = [src_field.init_token] + tokens + [src_field.eos_token]\n",
    "        \n",
    "    src_indexes = [src_field.vocab.stoi[token] for token in tokens]\n",
    "\n",
    "    src_tensor = torch.LongTensor(src_indexes).unsqueeze(0).to(device)\n",
    "    \n",
    "    src_mask = model.make_src_mask(src_tensor)\n",
    "    \n",
    "    with torch.no_grad():\n",
    "        enc_src = model.encoder(src_tensor, src_mask)\n",
    "\n",
    "    trg_indexes = [trg_field.vocab.stoi[trg_field.init_token]]\n",
    "\n",
    "    for i in range(max_len):\n",
    "\n",
    "        trg_tensor = torch.LongTensor(trg_indexes).unsqueeze(0).to(device)\n",
    "\n",
    "        trg_mask = model.make_trg_mask(trg_tensor)\n",
    "        \n",
    "        with torch.no_grad():\n",
    "            output, attention = model.decoder(trg_tensor, enc_src, trg_mask, src_mask)\n",
    "        \n",
    "        pred_token = output.argmax(2)[:,-1].item()\n",
    "        \n",
    "        trg_indexes.append(pred_token)\n",
    "\n",
    "        if pred_token == trg_field.vocab.stoi[trg_field.eos_token]:\n",
    "            break\n",
    "    \n",
    "    trg_tokens = [trg_field.vocab.itos[i] for i in trg_indexes]\n",
    "    \n",
    "    return trg_tokens[1:], attention"
   ]
  },
  {
   "cell_type": "markdown",
   "metadata": {},
   "source": [
    "We'll now define a function that displays the attention over the source sentence for each step of the decoding. As this model has 8 heads our model we can view the attention for each of the heads."
   ]
  },
  {
   "cell_type": "code",
   "execution_count": null,
   "metadata": {},
   "outputs": [],
   "source": [
    "def display_attention(sentence, translation, attention, n_heads = 8, n_rows = 4, n_cols = 2):\n",
    "    \n",
    "    assert n_rows * n_cols == n_heads\n",
    "    \n",
    "    fig = plt.figure(figsize=(15,25))\n",
    "    \n",
    "    for i in range(n_heads):\n",
    "        \n",
    "        ax = fig.add_subplot(n_rows, n_cols, i+1)\n",
    "        \n",
    "        _attention = attention.squeeze(0)[i].cpu().detach().numpy()\n",
    "\n",
    "        cax = ax.matshow(_attention, cmap='bone')\n",
    "\n",
    "        ax.tick_params(labelsize=12)\n",
    "        ax.set_xticklabels(['']+['<sos>']+[t.lower() for t in sentence]+['<eos>'], \n",
    "                           rotation=45)\n",
    "        ax.set_yticklabels(['']+translation)\n",
    "\n",
    "        ax.xaxis.set_major_locator(ticker.MultipleLocator(1))\n",
    "        ax.yaxis.set_major_locator(ticker.MultipleLocator(1))\n",
    "\n",
    "    plt.show()\n",
    "    plt.close()"
   ]
  },
  {
   "cell_type": "markdown",
   "metadata": {},
   "source": [
    "First, we'll get an example from the training set."
   ]
  },
  {
   "cell_type": "code",
   "execution_count": null,
   "metadata": {},
   "outputs": [],
   "source": [
    "example_idx = 8\n",
    "\n",
    "src = vars(train_data.examples[example_idx])['src']\n",
    "trg = vars(train_data.examples[example_idx])['trg']\n",
    "\n",
    "print(f'src = {src}')\n",
    "print(f'trg = {trg}')"
   ]
  },
  {
   "cell_type": "markdown",
   "metadata": {},
   "source": [
    "Our translation looks pretty good, although our model changes *is walking by* to *walks by*. The meaning is still the same."
   ]
  },
  {
   "cell_type": "code",
   "execution_count": null,
   "metadata": {},
   "outputs": [],
   "source": [
    "translation, attention = translate_sentence(src, SRC, TRG, model, device)\n",
    "\n",
    "print(f'predicted trg = {translation}')"
   ]
  },
  {
   "cell_type": "markdown",
   "metadata": {},
   "source": [
    "We can see the attention from each head below. Each is certainly different, but it's difficult (perhaps impossible) to reason about what head has actually learned to pay attention to. Some heads pay full attention to \"eine\" when translating \"a\", some don't at all, and some do a little. They all seem to follow the similar \"downward staircase\" pattern and the attention when outputting the last two tokens is equally spread over the final two tokens in the input sentence."
   ]
  },
  {
   "cell_type": "code",
   "execution_count": null,
   "metadata": {},
   "outputs": [],
   "source": [
    "display_attention(src, translation, attention)"
   ]
  },
  {
   "cell_type": "markdown",
   "metadata": {},
   "source": [
    "Next, let's get an example the model has not been trained on from the validation set."
   ]
  },
  {
   "cell_type": "code",
   "execution_count": null,
   "metadata": {},
   "outputs": [],
   "source": [
    "example_idx = 6\n",
    "\n",
    "src = vars(valid_data.examples[example_idx])['src']\n",
    "trg = vars(valid_data.examples[example_idx])['trg']\n",
    "\n",
    "print(f'src = {src}')\n",
    "print(f'trg = {trg}')"
   ]
  },
  {
   "cell_type": "markdown",
   "metadata": {},
   "source": [
    "The model translates it by switching *is running* to just *runs*, but it is an acceptable swap."
   ]
  },
  {
   "cell_type": "code",
   "execution_count": null,
   "metadata": {},
   "outputs": [],
   "source": [
    "translation, attention = translate_sentence(src, SRC, TRG, model, device)\n",
    "\n",
    "print(f'predicted trg = {translation}')"
   ]
  },
  {
   "cell_type": "markdown",
   "metadata": {},
   "source": [
    "Again, some heads pay full attention to \"ein\" whilst some pay no attention to it. Again, most of the heads seem to spread their attention over both the period and `<eos>` tokens in the source sentence when outputting the period and `<eos>` sentence in the predicted target sentence, though some seem to pay attention to tokens from near the start of the sentence."
   ]
  },
  {
   "cell_type": "code",
   "execution_count": null,
   "metadata": {},
   "outputs": [],
   "source": [
    "display_attention(src, translation, attention)"
   ]
  },
  {
   "cell_type": "markdown",
   "metadata": {},
   "source": [
    "Finally, we'll look at an example from the test data."
   ]
  },
  {
   "cell_type": "code",
   "execution_count": null,
   "metadata": {},
   "outputs": [],
   "source": [
    "example_idx = 10\n",
    "\n",
    "src = vars(test_data.examples[example_idx])['src']\n",
    "trg = vars(test_data.examples[example_idx])['trg']\n",
    "\n",
    "print(f'src = {src}')\n",
    "print(f'trg = {trg}')"
   ]
  },
  {
   "cell_type": "markdown",
   "metadata": {},
   "source": [
    "A perfect translation!"
   ]
  },
  {
   "cell_type": "code",
   "execution_count": null,
   "metadata": {},
   "outputs": [],
   "source": [
    "translation, attention = translate_sentence(src, SRC, TRG, model, device)\n",
    "\n",
    "print(f'predicted trg = {translation}')"
   ]
  },
  {
   "cell_type": "code",
   "execution_count": null,
   "metadata": {},
   "outputs": [],
   "source": [
    "display_attention(src, translation, attention)"
   ]
  },
  {
   "cell_type": "markdown",
   "metadata": {},
   "source": [
    "## BLEU\n",
    "\n",
    "Finally we calculate the BLEU score for the Transformer."
   ]
  },
  {
   "cell_type": "code",
   "execution_count": null,
   "metadata": {},
   "outputs": [],
   "source": [
    "from torchtext.data.metrics import bleu_score\n",
    "\n",
    "def calculate_bleu(data, src_field, trg_field, model, device, max_len = 50):\n",
    "    \n",
    "    trgs = []\n",
    "    pred_trgs = []\n",
    "    \n",
    "    for datum in data:\n",
    "        \n",
    "        src = vars(datum)['src']\n",
    "        trg = vars(datum)['trg']\n",
    "        \n",
    "        pred_trg, _ = translate_sentence(src, src_field, trg_field, model, device, max_len)\n",
    "        \n",
    "        #cut off <eos> token\n",
    "        pred_trg = pred_trg[:-1]\n",
    "        \n",
    "        pred_trgs.append(pred_trg)\n",
    "        trgs.append([trg])\n",
    "        \n",
    "    return bleu_score(pred_trgs, trgs)"
   ]
  },
  {
   "cell_type": "markdown",
   "metadata": {},
   "source": [
    "We get a BLEU score of 36.52, which beats the ~34 of the convolutional sequence-to-sequence model and ~28 of the attention based RNN model. All this whilst having the least amount of parameters and the fastest training time!"
   ]
  },
  {
   "cell_type": "code",
   "execution_count": null,
   "metadata": {},
   "outputs": [],
   "source": [
    "bleu_score = calculate_bleu(test_data, SRC, TRG, model, device)\n",
    "\n",
    "print(f'BLEU score = {bleu_score*100:.2f}')"
   ]
  },
  {
   "cell_type": "markdown",
   "metadata": {},
   "source": [
    "Congratulations for finishing these tutorials! I hope you've found them useful.\n",
    "\n",
    "If you find any mistakes or want to ask any questions about any of the code or explanations used, feel free to submit a GitHub issue and I will try to correct it ASAP.\n",
    "\n",
    "## Appendix\n",
    "\n",
    "The `calculate_bleu` function above is unoptimized. Below is a significantly faster, vectorized version of it that should be used if needed. Credit for the implementation goes to [@azadyasar](https://github.com/azadyasar)."
   ]
  },
  {
   "cell_type": "code",
   "execution_count": null,
   "metadata": {},
   "outputs": [],
   "source": [
    "def translate_sentence_vectorized(src_tensor, src_field, trg_field, model, device, max_len=50):\n",
    "    assert isinstance(src_tensor, torch.Tensor)\n",
    "\n",
    "    model.eval()\n",
    "    src_mask = model.make_src_mask(src_tensor)\n",
    "\n",
    "    with torch.no_grad():\n",
    "        enc_src = model.encoder(src_tensor, src_mask)\n",
    "    # enc_src = [batch_sz, src_len, hid_dim]\n",
    "\n",
    "    trg_indexes = [[trg_field.vocab.stoi[trg_field.init_token]] for _ in range(len(src_tensor))]\n",
    "    # Even though some examples might have been completed by producing a <eos> token\n",
    "    # we still need to feed them through the model because other are not yet finished\n",
    "    # and all examples act as a batch. Once every single sentence prediction encounters\n",
    "    # <eos> token, then we can stop predicting.\n",
    "    translations_done = [0] * len(src_tensor)\n",
    "    for i in range(max_len):\n",
    "        trg_tensor = torch.LongTensor(trg_indexes).to(device)\n",
    "        trg_mask = model.make_trg_mask(trg_tensor)\n",
    "        with torch.no_grad():\n",
    "            output, attention = model.decoder(trg_tensor, enc_src, trg_mask, src_mask)\n",
    "        pred_tokens = output.argmax(2)[:,-1]\n",
    "        for i, pred_token_i in enumerate(pred_tokens):\n",
    "            trg_indexes[i].append(pred_token_i)\n",
    "            if pred_token_i == trg_field.vocab.stoi[trg_field.eos_token]:\n",
    "                translations_done[i] = 1\n",
    "        if all(translations_done):\n",
    "            break\n",
    "\n",
    "    # Iterate through each predicted example one by one;\n",
    "    # Cut-off the portion including the after the <eos> token\n",
    "    pred_sentences = []\n",
    "    for trg_sentence in trg_indexes:\n",
    "        pred_sentence = []\n",
    "        for i in range(1, len(trg_sentence)):\n",
    "            if trg_sentence[i] == trg_field.vocab.stoi[trg_field.eos_token]:\n",
    "                break\n",
    "            pred_sentence.append(trg_field.vocab.itos[trg_sentence[i]])\n",
    "        pred_sentences.append(pred_sentence)\n",
    "\n",
    "    return pred_sentences, attention"
   ]
  },
  {
   "cell_type": "code",
   "execution_count": null,
   "metadata": {},
   "outputs": [],
   "source": [
    "from torchtext.data.metrics import bleu_score\n",
    "\n",
    "def calculate_bleu_alt(iterator, src_field, trg_field, model, device, max_len = 50):\n",
    "    trgs = []\n",
    "    pred_trgs = []\n",
    "    with torch.no_grad():\n",
    "        for batch in iterator:\n",
    "            src = batch.src\n",
    "            trg = batch.trg\n",
    "            _trgs = []\n",
    "            for sentence in trg:\n",
    "                tmp = []\n",
    "                # Start from the first token which skips the <start> token\n",
    "                for i in sentence[1:]:\n",
    "                    # Targets are padded. So stop appending as soon as a padding or eos token is encountered\n",
    "                    if i == trg_field.vocab.stoi[trg_field.eos_token] or i == trg_field.vocab.stoi[trg_field.pad_token]:\n",
    "                        break\n",
    "                    tmp.append(trg_field.vocab.itos[i])\n",
    "                _trgs.append([tmp])\n",
    "            trgs += _trgs\n",
    "            pred_trg, _ = translate_sentence_vectorized(src, src_field, trg_field, model, device)\n",
    "            pred_trgs += pred_trg\n",
    "    return pred_trgs, trgs, bleu_score(pred_trgs, trgs)"
   ]
  }
 ],
 "metadata": {
  "interpreter": {
   "hash": "60951fe2ccac1c258907b209f658f6ef884c93d9ccb3f36667a6035df696e51a"
  },
  "kernelspec": {
   "display_name": "Python 3.7.11 ('NLP')",
   "language": "python",
   "name": "python3"
  },
  "language_info": {
   "codemirror_mode": {
    "name": "ipython",
    "version": 3
   },
   "file_extension": ".py",
   "mimetype": "text/x-python",
   "name": "python",
   "nbconvert_exporter": "python",
   "pygments_lexer": "ipython3",
   "version": "3.7.11"
  }
 },
 "nbformat": 4,
 "nbformat_minor": 2
}
